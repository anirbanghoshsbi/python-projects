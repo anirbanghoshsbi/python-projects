{
  "nbformat": 4,
  "nbformat_minor": 0,
  "metadata": {
    "colab": {
      "name": "datetime_in_python",
      "version": "0.3.2",
      "provenance": [],
      "include_colab_link": true
    },
    "kernelspec": {
      "name": "python3",
      "display_name": "Python 3"
    }
  },
  "cells": [
    {
      "cell_type": "markdown",
      "metadata": {
        "id": "view-in-github",
        "colab_type": "text"
      },
      "source": [
        "[View in Colaboratory](https://colab.research.google.com/github/anirbanghoshsbi/python-projects/blob/master/datetime_in_python.ipynb)"
      ]
    },
    {
      "metadata": {
        "id": "LOWhr6kpV64k",
        "colab_type": "text"
      },
      "cell_type": "markdown",
      "source": [
        "**Python datetime , timedelta and strftime(time format)**"
      ]
    },
    {
      "metadata": {
        "id": "RxqQ7RG0WSEd",
        "colab_type": "text"
      },
      "cell_type": "markdown",
      "source": [
        "The datetime classes in Python are categorized into main 5 classes.\n",
        "\n",
        "date – Manipulate just date ( Month, day, year)\n",
        "time – Time independent of the day (Hour, minute, second, microsecond)\n",
        "datetime – Combination of time and date (Month, day, year, hour, second, microsecond)\n",
        "timedelta— A duration of time used for manipulating dates\n",
        "tzinfo— An abstract class for dealing with time zones"
      ]
    },
    {
      "metadata": {
        "id": "6nPeyt5aG1XG",
        "colab_type": "code",
        "colab": {
          "base_uri": "https://localhost:8080/",
          "height": 34
        },
        "outputId": "fe36c2bd-b601-4fdb-f5a3-97647c7a2afe"
      },
      "cell_type": "code",
      "source": [
        "# import the libraries\n",
        "import datetime\n",
        "datetime.datetime.today()"
      ],
      "execution_count": 14,
      "outputs": [
        {
          "output_type": "execute_result",
          "data": {
            "text/plain": [
              "datetime.datetime(2018, 9, 16, 12, 39, 0, 407196)"
            ]
          },
          "metadata": {
            "tags": []
          },
          "execution_count": 14
        }
      ]
    },
    {
      "metadata": {
        "id": "bDOAS6YmIFEj",
        "colab_type": "code",
        "colab": {}
      },
      "cell_type": "code",
      "source": [
        "'''# make the import more simple\n",
        "from datetime import datetime\n",
        "from datetime import date\n",
        "from datetime import time\n",
        "from datetime import timedelta'''\n"
      ],
      "execution_count": 0,
      "outputs": []
    },
    {
      "metadata": {
        "id": "yeS1ZaGbIWGw",
        "colab_type": "code",
        "colab": {
          "base_uri": "https://localhost:8080/",
          "height": 34
        },
        "outputId": "a43be853-a16e-42b6-a87b-b1400f35ddd9"
      },
      "cell_type": "code",
      "source": [
        "#todays date\n",
        "today = datetime.today()\n",
        "print(today)"
      ],
      "execution_count": 4,
      "outputs": [
        {
          "output_type": "stream",
          "text": [
            "2018-09-16 12:33:11.927348\n"
          ],
          "name": "stdout"
        }
      ]
    },
    {
      "metadata": {
        "id": "9pKBy9idXtl-",
        "colab_type": "code",
        "colab": {
          "base_uri": "https://localhost:8080/",
          "height": 34
        },
        "outputId": "85a90fd6-826c-49f2-9633-2e920c7fc91a"
      },
      "cell_type": "code",
      "source": [
        "# date\n",
        "today_date = date.today()\n",
        "print(today_date)"
      ],
      "execution_count": 5,
      "outputs": [
        {
          "output_type": "stream",
          "text": [
            "2018-09-16\n"
          ],
          "name": "stdout"
        }
      ]
    },
    {
      "metadata": {
        "id": "KlQddMGbX3bu",
        "colab_type": "code",
        "colab": {
          "base_uri": "https://localhost:8080/",
          "height": 34
        },
        "outputId": "e9a5d015-8600-4fc5-af2f-9204c887836e"
      },
      "cell_type": "code",
      "source": [
        "# time\n",
        "datetime.time(datetime.now())"
      ],
      "execution_count": 12,
      "outputs": [
        {
          "output_type": "execute_result",
          "data": {
            "text/plain": [
              "datetime.time(12, 37, 9, 815464)"
            ]
          },
          "metadata": {
            "tags": []
          },
          "execution_count": 12
        }
      ]
    },
    {
      "metadata": {
        "id": "iPYl960IYA60",
        "colab_type": "code",
        "colab": {
          "base_uri": "https://localhost:8080/",
          "height": 34
        },
        "outputId": "f7406141-c70b-4ac9-e362-09ff7890a174"
      },
      "cell_type": "code",
      "source": [
        "# Date's component\n",
        "print(datetime.date.today())\n"
      ],
      "execution_count": 17,
      "outputs": [
        {
          "output_type": "stream",
          "text": [
            "2018-09-16\n"
          ],
          "name": "stdout"
        }
      ]
    },
    {
      "metadata": {
        "id": "wvAkenN8YzSN",
        "colab_type": "code",
        "colab": {}
      },
      "cell_type": "code",
      "source": [
        "today = datetime.date.today()"
      ],
      "execution_count": 0,
      "outputs": []
    },
    {
      "metadata": {
        "id": "S6AWQ5XbZiII",
        "colab_type": "code",
        "colab": {
          "base_uri": "https://localhost:8080/",
          "height": 34
        },
        "outputId": "23c889aa-4084-4f16-cf95-ed573257e3ab"
      },
      "cell_type": "code",
      "source": [
        "today.day"
      ],
      "execution_count": 19,
      "outputs": [
        {
          "output_type": "execute_result",
          "data": {
            "text/plain": [
              "16"
            ]
          },
          "metadata": {
            "tags": []
          },
          "execution_count": 19
        }
      ]
    },
    {
      "metadata": {
        "id": "VjXoPUGGZjoc",
        "colab_type": "code",
        "colab": {
          "base_uri": "https://localhost:8080/",
          "height": 34
        },
        "outputId": "cfd0d9ed-b704-4596-950f-5d86b6d94cc3"
      },
      "cell_type": "code",
      "source": [
        "today.month"
      ],
      "execution_count": 20,
      "outputs": [
        {
          "output_type": "execute_result",
          "data": {
            "text/plain": [
              "9"
            ]
          },
          "metadata": {
            "tags": []
          },
          "execution_count": 20
        }
      ]
    },
    {
      "metadata": {
        "id": "iRaM7v7YZllQ",
        "colab_type": "code",
        "colab": {
          "base_uri": "https://localhost:8080/",
          "height": 34
        },
        "outputId": "9ac48d32-5c33-495c-bdf5-92b09bc0604c"
      },
      "cell_type": "code",
      "source": [
        "today.year"
      ],
      "execution_count": 21,
      "outputs": [
        {
          "output_type": "execute_result",
          "data": {
            "text/plain": [
              "2018"
            ]
          },
          "metadata": {
            "tags": []
          },
          "execution_count": 21
        }
      ]
    },
    {
      "metadata": {
        "id": "qOQ5v3rkZm2i",
        "colab_type": "code",
        "colab": {
          "base_uri": "https://localhost:8080/",
          "height": 34
        },
        "outputId": "53199f00-b553-491e-96fc-2068c0bc9a40"
      },
      "cell_type": "code",
      "source": [
        "print(\"Today's date is {}-{}-{}\" .format(today.day , today.month , today.year))"
      ],
      "execution_count": 23,
      "outputs": [
        {
          "output_type": "stream",
          "text": [
            "Today's date is 16-9-2018\n"
          ],
          "name": "stdout"
        }
      ]
    },
    {
      "metadata": {
        "id": "A55DS-n5Z5lz",
        "colab_type": "code",
        "colab": {}
      },
      "cell_type": "code",
      "source": [
        "christmas = datetime.date(2018 , 12,25)"
      ],
      "execution_count": 0,
      "outputs": []
    },
    {
      "metadata": {
        "id": "U-5n_I2eaKOs",
        "colab_type": "code",
        "colab": {
          "base_uri": "https://localhost:8080/",
          "height": 34
        },
        "outputId": "61eb9c21-0eb2-43c9-cb94-9e12505b0df4"
      },
      "cell_type": "code",
      "source": [
        "print(christmas)"
      ],
      "execution_count": 52,
      "outputs": [
        {
          "output_type": "stream",
          "text": [
            "2018-12-25\n"
          ],
          "name": "stdout"
        }
      ]
    },
    {
      "metadata": {
        "id": "DWacwqsxaMdJ",
        "colab_type": "code",
        "colab": {
          "base_uri": "https://localhost:8080/",
          "height": 34
        },
        "outputId": "7df8b7fb-9ae9-471e-b9fd-0410cc971fb5"
      },
      "cell_type": "code",
      "source": [
        "print('number of days between today and christmas {}' .format(christmas-datetime.datetime.today()))"
      ],
      "execution_count": 30,
      "outputs": [
        {
          "output_type": "stream",
          "text": [
            "number of days between today and christmas 99 days, 11:12:27.434022\n"
          ],
          "name": "stdout"
        }
      ]
    },
    {
      "metadata": {
        "id": "XU4pF5Yhb1eG",
        "colab_type": "code",
        "colab": {
          "base_uri": "https://localhost:8080/",
          "height": 51
        },
        "outputId": "6c2fa5ca-8ef9-4ca8-dafb-32ff8a077a5c"
      },
      "cell_type": "code",
      "source": [
        "today = datetime.date.today()\n",
        "print(today)\n",
        "print(today.day)"
      ],
      "execution_count": 38,
      "outputs": [
        {
          "output_type": "stream",
          "text": [
            "2018-09-16\n",
            "16\n"
          ],
          "name": "stdout"
        }
      ]
    },
    {
      "metadata": {
        "id": "oAP1yXgHcJSp",
        "colab_type": "code",
        "colab": {
          "base_uri": "https://localhost:8080/",
          "height": 102
        },
        "outputId": "cf93415a-9472-4b0b-8e8a-cae38dcd3a9d"
      },
      "cell_type": "code",
      "source": [
        "print(christmas)\n",
        "print(christmas.today())\n",
        "print(christmas.day)\n",
        "print(christmas.day-today.day)\n",
        "print((christmas-today))"
      ],
      "execution_count": 53,
      "outputs": [
        {
          "output_type": "stream",
          "text": [
            "2018-12-25\n",
            "2018-09-16\n",
            "25\n",
            "9\n",
            "100 days, 0:00:00\n"
          ],
          "name": "stdout"
        }
      ]
    },
    {
      "metadata": {
        "id": "APvF7WXeaZoP",
        "colab_type": "code",
        "colab": {
          "base_uri": "https://localhost:8080/",
          "height": 34
        },
        "outputId": "30df0aef-c988-4f6e-fe30-ba49a8359dfe"
      },
      "cell_type": "code",
      "source": [
        "print('number of days between today and Christmas is : {}' .format(christmas-today))"
      ],
      "execution_count": 58,
      "outputs": [
        {
          "output_type": "stream",
          "text": [
            "number of days between today and Christmas is : 100 days, 0:00:00\n"
          ],
          "name": "stdout"
        }
      ]
    },
    {
      "metadata": {
        "id": "5ov5IjSXaiSp",
        "colab_type": "code",
        "colab": {
          "base_uri": "https://localhost:8080/",
          "height": 51
        },
        "outputId": "ec514f08-6573-43fe-e3be-9c834da203c4"
      },
      "cell_type": "code",
      "source": [
        "# prints the week day\n",
        "wd = date(2018,12,25).weekday()\n",
        "weekdays = ['Sunday','Monday','Tuesday','Thrusday','Friday','Saturday']\n",
        "#which day is today\n",
        "print('today is {}' .format(weekdays[wd]))\n"
      ],
      "execution_count": 75,
      "outputs": [
        {
          "output_type": "stream",
          "text": [
            "today is Monday\n",
            "1\n"
          ],
          "name": "stdout"
        }
      ]
    },
    {
      "metadata": {
        "id": "V6QKd4_qd2Rr",
        "colab_type": "code",
        "colab": {}
      },
      "cell_type": "code",
      "source": [
        "# which date is today\n",
        "today_date = datetime.datetime.today()"
      ],
      "execution_count": 0,
      "outputs": []
    },
    {
      "metadata": {
        "id": "l4q58MgOgy7s",
        "colab_type": "code",
        "colab": {
          "base_uri": "https://localhost:8080/",
          "height": 68
        },
        "outputId": "25a2f39f-1f11-4331-eb26-495f3bdce515"
      },
      "cell_type": "code",
      "source": [
        "print(today_date)\n",
        "print(today_date.day)\n",
        "print(today_date.weekday())"
      ],
      "execution_count": 94,
      "outputs": [
        {
          "output_type": "stream",
          "text": [
            "2018-09-16 13:19:21.072485\n",
            "16\n",
            "6\n"
          ],
          "name": "stdout"
        }
      ]
    },
    {
      "metadata": {
        "id": "AnXeM2d0g0bR",
        "colab_type": "code",
        "colab": {
          "base_uri": "https://localhost:8080/",
          "height": 68
        },
        "outputId": "fcdd11cb-0bf2-4bb0-b5d3-76b9723f7c29"
      },
      "cell_type": "code",
      "source": [
        "# prints the week day\n",
        "wd =(today_date).weekday()\n",
        "weekdays = ['Monday','Tuesday','Wednesday','Thrusday','Friday','Saturday','Sunday']\n",
        "#which day is today\n",
        "print(weekdays[wd])\n",
        "print('today is {}' .format(weekdays[wd]))\n",
        "if weekdays[wd].lower()== 'Sunday'.lower():\n",
        "  print('it is a holiday')\n",
        "else :\n",
        "   print('Workday')\n"
      ],
      "execution_count": 100,
      "outputs": [
        {
          "output_type": "stream",
          "text": [
            "Sunday\n",
            "today is Sunday\n",
            "it is a holiday\n"
          ],
          "name": "stdout"
        }
      ]
    },
    {
      "metadata": {
        "id": "DOnCln3kg6Z7",
        "colab_type": "code",
        "colab": {
          "base_uri": "https://localhost:8080/",
          "height": 51
        },
        "outputId": "b93dcede-c306-4f18-9e15-7f61e62853a0"
      },
      "cell_type": "code",
      "source": [
        "# get user to enter date \n",
        "\n",
        "userdate = input('Enter the date in the format YYYY-MM-DD')\n",
        "year,month,day = map(int , userdate.split('-'))\n",
        "print(type(year))"
      ],
      "execution_count": 108,
      "outputs": [
        {
          "output_type": "stream",
          "text": [
            "Enter the date in the format YYYY-MM-DD2018-12-25\n",
            "<class 'int'>\n"
          ],
          "name": "stdout"
        }
      ]
    },
    {
      "metadata": {
        "id": "2QC6WurllI8N",
        "colab_type": "code",
        "colab": {
          "base_uri": "https://localhost:8080/",
          "height": 68
        },
        "outputId": "54083887-d922-48c4-8fc4-6c7d0919f1e1"
      },
      "cell_type": "code",
      "source": [
        "print(year)\n",
        "print(month)\n",
        "print(day)"
      ],
      "execution_count": 109,
      "outputs": [
        {
          "output_type": "stream",
          "text": [
            "2018\n",
            "12\n",
            "25\n"
          ],
          "name": "stdout"
        }
      ]
    },
    {
      "metadata": {
        "id": "xRIgsYRflIVI",
        "colab_type": "code",
        "colab": {}
      },
      "cell_type": "code",
      "source": [
        "date_user=datetime.date(year,month,day)"
      ],
      "execution_count": 0,
      "outputs": []
    },
    {
      "metadata": {
        "id": "IIAXZloTkyOu",
        "colab_type": "code",
        "colab": {
          "base_uri": "https://localhost:8080/",
          "height": 34
        },
        "outputId": "bed2b257-83a5-45b9-c1ce-29e91d14a62a"
      },
      "cell_type": "code",
      "source": [
        "date_user.weekday()"
      ],
      "execution_count": 117,
      "outputs": [
        {
          "output_type": "execute_result",
          "data": {
            "text/plain": [
              "1"
            ]
          },
          "metadata": {
            "tags": []
          },
          "execution_count": 117
        }
      ]
    },
    {
      "metadata": {
        "id": "8WtT0jbil_bw",
        "colab_type": "code",
        "colab": {
          "base_uri": "https://localhost:8080/",
          "height": 51
        },
        "outputId": "3b5718aa-f1ad-454e-d4d3-9d79eeb9c050"
      },
      "cell_type": "code",
      "source": [
        "userdate = input('Enter the date in the format YYYY-MM-DD')\n",
        "year,month,day = map(int , userdate.split('-'))\n",
        "date_user=datetime.date(year,month,day)\n",
        "\n",
        "weekdays = ['Monday','Tuesday','Wednesday','Thrusday','Friday','Saturday','Sunday']\n",
        "\n",
        "wkdy = date_user.weekday()\n",
        "if weekdays[wkdy].lower()== weekdays[6].lower():\n",
        "  print('Today is {}, you can enjoy' .format(weekdays[wkdy]))\n",
        "else:\n",
        "  print('Today is {}, Please  Slog on for {} more days before a Sunday' .format(weekdays[wkdy],abs(wkdy-5) ))\n"
      ],
      "execution_count": 134,
      "outputs": [
        {
          "output_type": "stream",
          "text": [
            "Enter the date in the format YYYY-MM-DD2018-02-12\n",
            "Today is Monday, Please  Slog on for 5 more days before a Sunday\n"
          ],
          "name": "stdout"
        }
      ]
    },
    {
      "metadata": {
        "id": "skBP8YYrmcUe",
        "colab_type": "code",
        "colab": {}
      },
      "cell_type": "code",
      "source": [
        ""
      ],
      "execution_count": 0,
      "outputs": []
    }
  ]
}