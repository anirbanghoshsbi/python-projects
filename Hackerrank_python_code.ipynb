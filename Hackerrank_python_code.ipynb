{
  "nbformat": 4,
  "nbformat_minor": 0,
  "metadata": {
    "colab": {
      "name": "Hackerrank_python_code.ipynb",
      "version": "0.3.2",
      "provenance": [],
      "collapsed_sections": [],
      "include_colab_link": true
    },
    "kernelspec": {
      "name": "python3",
      "display_name": "Python 3"
    }
  },
  "cells": [
    {
      "cell_type": "markdown",
      "metadata": {
        "id": "view-in-github",
        "colab_type": "text"
      },
      "source": [
        "[View in Colaboratory](https://colab.research.google.com/github/anirbanghoshsbi/python-projects/blob/master/Hackerrank_python_code.ipynb)"
      ]
    },
    {
      "metadata": {
        "id": "ltENQG3Yz7zI",
        "colab_type": "code",
        "colab": {}
      },
      "cell_type": "code",
      "source": [
        ""
      ],
      "execution_count": 0,
      "outputs": []
    },
    {
      "metadata": {
        "id": "uzqBY34w2u3h",
        "colab_type": "text"
      },
      "cell_type": "markdown",
      "source": [
        "#Problem :\n",
        "You have a record of  students. Each record contains the student's name, and their percent marks in Maths, Physics and Chemistry. The marks can be floating values. The user enters some integer  followed by the names and marks for students. You are required to save the record in a dictionary data type. The user then enters a student's name. Output the average percentage marks obtained by that student, correct to two decimal places"
      ]
    },
    {
      "metadata": {
        "id": "znPpnDC9z9-Z",
        "colab_type": "code",
        "colab": {
          "base_uri": "https://localhost:8080/",
          "height": 34
        },
        "outputId": "91b68c9d-5074-42b0-8009-f77c5cc4708d"
      },
      "cell_type": "code",
      "source": [
        "n =int(input())"
      ],
      "execution_count": 0,
      "outputs": [
        {
          "output_type": "stream",
          "text": [
            "5\n"
          ],
          "name": "stdout"
        }
      ]
    },
    {
      "metadata": {
        "id": "ReWdmjSP36PZ",
        "colab_type": "code",
        "colab": {}
      },
      "cell_type": "code",
      "source": [
        "student_marks ={}"
      ],
      "execution_count": 0,
      "outputs": []
    },
    {
      "metadata": {
        "id": "fkRHFexL3__6",
        "colab_type": "code",
        "colab": {}
      },
      "cell_type": "code",
      "source": [
        ""
      ],
      "execution_count": 0,
      "outputs": []
    },
    {
      "metadata": {
        "id": "lq9u2Ylw31BU",
        "colab_type": "code",
        "colab": {
          "base_uri": "https://localhost:8080/",
          "height": 102
        },
        "outputId": "867333f4-322b-41a8-b2b6-624e1a64e7bd"
      },
      "cell_type": "code",
      "source": [
        "for _ in range(n):\n",
        "  line = input().split()\n",
        "  name , score = line[0],line[1]\n",
        "  student_marks[name]=score"
      ],
      "execution_count": 0,
      "outputs": [
        {
          "output_type": "stream",
          "text": [
            "a 10\n",
            "b 10\n",
            "c 15\n",
            "d 12\n",
            "r 4\n"
          ],
          "name": "stdout"
        }
      ]
    },
    {
      "metadata": {
        "id": "NohzQgr231L-",
        "colab_type": "code",
        "colab": {
          "base_uri": "https://localhost:8080/",
          "height": 34
        },
        "outputId": "4207aa53-85bf-4806-b4f4-25ef8be2f3aa"
      },
      "cell_type": "code",
      "source": [
        "query_name = input()"
      ],
      "execution_count": 0,
      "outputs": [
        {
          "output_type": "stream",
          "text": [
            "a\n"
          ],
          "name": "stdout"
        }
      ]
    },
    {
      "metadata": {
        "id": "0cbrUKyq31Ol",
        "colab_type": "code",
        "colab": {
          "base_uri": "https://localhost:8080/",
          "height": 34
        },
        "outputId": "89b42a02-ca74-42cd-aaa9-b06f663c1d83"
      },
      "cell_type": "code",
      "source": [
        "student_marks"
      ],
      "execution_count": 0,
      "outputs": [
        {
          "output_type": "execute_result",
          "data": {
            "text/plain": [
              "{'a': '10', 'b': '10', 'c': '15', 'd': '12', 'name': '15', 'r': '4'}"
            ]
          },
          "metadata": {
            "tags": []
          },
          "execution_count": 14
        }
      ]
    },
    {
      "metadata": {
        "id": "f43wsWys31R8",
        "colab_type": "code",
        "colab": {}
      },
      "cell_type": "code",
      "source": [
        "marks = student_marks[query_name]"
      ],
      "execution_count": 0,
      "outputs": []
    },
    {
      "metadata": {
        "id": "iVm25UEX3RqV",
        "colab_type": "code",
        "colab": {
          "base_uri": "https://localhost:8080/",
          "height": 34
        },
        "outputId": "ea67d05a-06c9-4aa9-8572-3d6b15172f32"
      },
      "cell_type": "code",
      "source": [
        "print(\"Marks obtained by student {} is {}: \" .format(query_name,marks))"
      ],
      "execution_count": 0,
      "outputs": [
        {
          "output_type": "stream",
          "text": [
            "Marks obtained by student a is 10: \n"
          ],
          "name": "stdout"
        }
      ]
    },
    {
      "metadata": {
        "id": "bctX9KeL6O58",
        "colab_type": "code",
        "colab": {
          "base_uri": "https://localhost:8080/",
          "height": 34
        },
        "outputId": "35425bdb-00ee-4fe2-8f30-0cbe9a70e24d"
      },
      "cell_type": "code",
      "source": [
        "# make the prblem a bit more realistic\n",
        "\n",
        "#let the user enter the number of students\n",
        "user_input = int(input())"
      ],
      "execution_count": 0,
      "outputs": [
        {
          "output_type": "stream",
          "text": [
            "5\n"
          ],
          "name": "stdout"
        }
      ]
    },
    {
      "metadata": {
        "id": "8bqdxwvj8rpm",
        "colab_type": "code",
        "colab": {}
      },
      "cell_type": "code",
      "source": [
        "students_marks = {}"
      ],
      "execution_count": 0,
      "outputs": []
    },
    {
      "metadata": {
        "id": "aDtyoF1B7lLw",
        "colab_type": "code",
        "colab": {
          "base_uri": "https://localhost:8080/",
          "height": 119
        },
        "outputId": "02de0268-3649-4742-ce02-e294891c73f0"
      },
      "cell_type": "code",
      "source": [
        "# now let us take the names and marks of the students separated by space subjects three \n",
        "print('Enter the student name and marks in three subjects separated by space')\n",
        "for _ in range(n):\n",
        "  name ,*scores = input().split()\n",
        "  students_marks[name]=scores"
      ],
      "execution_count": 0,
      "outputs": [
        {
          "output_type": "stream",
          "text": [
            "Enter the student name and marks in three subjects separated by space\n",
            "a 10\n",
            "b 10 15 25\n",
            "c 14 12 15\n",
            "d 20 14 15\n",
            "e 7 15 87\n"
          ],
          "name": "stdout"
        }
      ]
    },
    {
      "metadata": {
        "id": "dInu8Ouf84z-",
        "colab_type": "code",
        "colab": {
          "base_uri": "https://localhost:8080/",
          "height": 34
        },
        "outputId": "98605446-bdac-4701-b54f-a957f61ddc03"
      },
      "cell_type": "code",
      "source": [
        "# get the student name which needs to be queried\n",
        "query_student = input()"
      ],
      "execution_count": 0,
      "outputs": [
        {
          "output_type": "stream",
          "text": [
            "e\n"
          ],
          "name": "stdout"
        }
      ]
    },
    {
      "metadata": {
        "id": "afFFkSJV9exk",
        "colab_type": "code",
        "colab": {
          "base_uri": "https://localhost:8080/",
          "height": 34
        },
        "outputId": "6a423553-bad2-4464-9ca0-4e0195bf1ebb"
      },
      "cell_type": "code",
      "source": [
        "print('The average scores obtained by the student')\n",
        "scores = students_marks[query_student] \n",
        "scores= map(float , scores)"
      ],
      "execution_count": 0,
      "outputs": [
        {
          "output_type": "stream",
          "text": [
            "The average scores obtained by the student\n"
          ],
          "name": "stdout"
        }
      ]
    },
    {
      "metadata": {
        "id": "Y6l-CWwv-V-g",
        "colab_type": "code",
        "colab": {
          "base_uri": "https://localhost:8080/",
          "height": 34
        },
        "outputId": "8a2b7244-2b57-4032-ba1e-69865cdf6abd"
      },
      "cell_type": "code",
      "source": [
        "print('The average scores of  {} is {}' .format(query_name , sum(scores)/3))"
      ],
      "execution_count": 0,
      "outputs": [
        {
          "output_type": "stream",
          "text": [
            "The average scores of  a is 36.333333333333336\n"
          ],
          "name": "stdout"
        }
      ]
    },
    {
      "metadata": {
        "id": "SUuvZJBQ-ep4",
        "colab_type": "code",
        "colab": {
          "base_uri": "https://localhost:8080/",
          "height": 164
        },
        "outputId": "17bd2faf-abec-4d2a-f94f-b863d4691b73"
      },
      "cell_type": "code",
      "source": [
        "sum(scores)"
      ],
      "execution_count": 0,
      "outputs": [
        {
          "output_type": "error",
          "ename": "TypeError",
          "evalue": "ignored",
          "traceback": [
            "\u001b[0;31m---------------------------------------------------------------------------\u001b[0m",
            "\u001b[0;31mTypeError\u001b[0m                                 Traceback (most recent call last)",
            "\u001b[0;32m<ipython-input-35-a30f4834dd06>\u001b[0m in \u001b[0;36m<module>\u001b[0;34m()\u001b[0m\n\u001b[0;32m----> 1\u001b[0;31m \u001b[0msum\u001b[0m\u001b[0;34m(\u001b[0m\u001b[0mscores\u001b[0m\u001b[0;34m)\u001b[0m\u001b[0;34m\u001b[0m\u001b[0m\n\u001b[0m",
            "\u001b[0;31mTypeError\u001b[0m: unsupported operand type(s) for +: 'int' and 'str'"
          ]
        }
      ]
    },
    {
      "metadata": {
        "id": "QbjDw7SP_HRU",
        "colab_type": "code",
        "colab": {}
      },
      "cell_type": "code",
      "source": [
        "lst=[1,2,3]"
      ],
      "execution_count": 0,
      "outputs": []
    },
    {
      "metadata": {
        "id": "dSOCcwDv_YXv",
        "colab_type": "code",
        "colab": {
          "base_uri": "https://localhost:8080/",
          "height": 34
        },
        "outputId": "10f1741a-f1c6-4c0d-ca2e-769902e50766"
      },
      "cell_type": "code",
      "source": [
        "sum(lst)"
      ],
      "execution_count": 0,
      "outputs": [
        {
          "output_type": "execute_result",
          "data": {
            "text/plain": [
              "6"
            ]
          },
          "metadata": {
            "tags": []
          },
          "execution_count": 37
        }
      ]
    },
    {
      "metadata": {
        "id": "ghZXW1zH_alc",
        "colab_type": "code",
        "colab": {
          "base_uri": "https://localhost:8080/",
          "height": 102
        },
        "outputId": "aaa38620-8e13-46ae-f8b3-efc5c2e3f2c9"
      },
      "cell_type": "code",
      "source": [
        "    n = int(input())\n",
        "    student_marks = {}\n",
        "    for _ in range(n):\n",
        "        name, *line = input().split()\n",
        "        scores = list(map(float, line))\n",
        "        student_marks[name] = scores\n",
        "    query_name = input()\n",
        "    score=student_marks[query_name]\n",
        "    score=sum(score)/3.0\n",
        "    print(score)"
      ],
      "execution_count": 0,
      "outputs": [
        {
          "output_type": "stream",
          "text": [
            "2\n",
            "a 10\n",
            "b 25\n",
            "b\n",
            "8.333333333333334\n"
          ],
          "name": "stdout"
        }
      ]
    },
    {
      "metadata": {
        "id": "W3WI7YmkGJHz",
        "colab_type": "text"
      },
      "cell_type": "markdown",
      "source": [
        "#Problem \n",
        "You are given a string  and width . \n",
        "Your task is to wrap the string into a paragraph of width .\n",
        "\n",
        "Input Format\n",
        "\n",
        "The first line contains a string, . \n",
        "The second line contains the width, .\n",
        "\n",
        "Constraints\n",
        "\n",
        "Output Format\n",
        "\n",
        "Print the text wrapped paragraph."
      ]
    },
    {
      "metadata": {
        "id": "V5E-y5FWGHzn",
        "colab_type": "code",
        "colab": {}
      },
      "cell_type": "code",
      "source": [
        "x= 'ABCDEFGHIJKLMNOPQRSTUVWXYZ'\n",
        "y = \"This is a very long string.\"\n"
      ],
      "execution_count": 0,
      "outputs": []
    },
    {
      "metadata": {
        "id": "yct1zeXBJ8qB",
        "colab_type": "code",
        "colab": {
          "base_uri": "https://localhost:8080/",
          "height": 34
        },
        "outputId": "75c745f0-f8fc-447e-fcb0-684ce4017067"
      },
      "cell_type": "code",
      "source": [
        "len(y)\n",
        "y\n"
      ],
      "execution_count": 0,
      "outputs": [
        {
          "output_type": "execute_result",
          "data": {
            "text/plain": [
              "'This is a very long string.'"
            ]
          },
          "metadata": {
            "tags": []
          },
          "execution_count": 81
        }
      ]
    },
    {
      "metadata": {
        "id": "nm_s4RiHGIFq",
        "colab_type": "code",
        "colab": {
          "base_uri": "https://localhost:8080/",
          "height": 136
        },
        "outputId": "4c56d39a-da3f-4d17-8e66-52e2fd87a5ec"
      },
      "cell_type": "code",
      "source": [
        "print(\"\\n\".join([x[i:i+4] for i in range(0, len(x), 4)]))"
      ],
      "execution_count": 0,
      "outputs": [
        {
          "output_type": "stream",
          "text": [
            "ABCD\n",
            "EFGH\n",
            "IJKL\n",
            "MNOP\n",
            "QRST\n",
            "UVWX\n",
            "YZ\n"
          ],
          "name": "stdout"
        }
      ]
    },
    {
      "metadata": {
        "id": "GooUUUuJGIKw",
        "colab_type": "code",
        "colab": {
          "base_uri": "https://localhost:8080/",
          "height": 34
        },
        "outputId": "392d1e3c-a165-4356-b791-4b27315e3756"
      },
      "cell_type": "code",
      "source": [
        "print(\"-\".join([x[i:i+4]for i in range(0, len(x),4)]))\n"
      ],
      "execution_count": 0,
      "outputs": [
        {
          "output_type": "stream",
          "text": [
            "ABCD-EFGH-IJKL-MNOP-QRST-UVWX-YZ\n"
          ],
          "name": "stdout"
        }
      ]
    },
    {
      "metadata": {
        "id": "-5_VhXPIGIOC",
        "colab_type": "code",
        "colab": {
          "base_uri": "https://localhost:8080/",
          "height": 34
        },
        "outputId": "a964fe75-fac7-4a04-fe1f-91284fd684ec"
      },
      "cell_type": "code",
      "source": [
        "#print(\"\\n\".join([y[i:i+4] for i in range(0, len(y),4)]))\n",
        "print(\"-\".join([y[i:i+4]for i in range(0, len(y),4)]))\n",
        "# the code fails for a list"
      ],
      "execution_count": 0,
      "outputs": [
        {
          "output_type": "stream",
          "text": [
            "This- is -a ve-ry l-ong -stri-ng.\n"
          ],
          "name": "stdout"
        }
      ]
    },
    {
      "metadata": {
        "id": "AgZf0VLPLiTq",
        "colab_type": "text"
      },
      "cell_type": "markdown",
      "source": [
        "#Print lists in Python (4 Different Ways)"
      ]
    },
    {
      "metadata": {
        "id": "U74wERAzLekq",
        "colab_type": "code",
        "colab": {
          "base_uri": "https://localhost:8080/",
          "height": 476
        },
        "outputId": "cd0a0f04-16f8-4d1d-8a84-ebdea94a706c"
      },
      "cell_type": "code",
      "source": [
        "#using for loops\n",
        "for i in range(len(y)):\n",
        "  print(y[i])\n",
        "  "
      ],
      "execution_count": 0,
      "outputs": [
        {
          "output_type": "stream",
          "text": [
            "T\n",
            "h\n",
            "i\n",
            "s\n",
            " \n",
            "i\n",
            "s\n",
            " \n",
            "a\n",
            " \n",
            "v\n",
            "e\n",
            "r\n",
            "y\n",
            " \n",
            "l\n",
            "o\n",
            "n\n",
            "g\n",
            " \n",
            "s\n",
            "t\n",
            "r\n",
            "i\n",
            "n\n",
            "g\n",
            ".\n"
          ],
          "name": "stdout"
        }
      ]
    },
    {
      "metadata": {
        "id": "e5n1NvO6pW5r",
        "colab_type": "text"
      },
      "cell_type": "markdown",
      "source": [
        "# Problem \n",
        "You are given a string . \n",
        "Your task is to verify that  is a floating point number.\n",
        "\n",
        "In this task, a valid float number must satisfy all of the following requirements:\n",
        "\n",
        " Number can start with +, - or . symbol. \n",
        "For example: \n",
        "✔\n",
        "+4.50 \n",
        "✔\n",
        "-1.0 \n",
        "✔\n",
        ".5 \n",
        "✔\n",
        "-.7 \n",
        "✔\n",
        "+.4 \n",
        "✖\n",
        " -+4.5\n",
        "\n",
        " Number must contain at least  decimal value. \n",
        "For example: \n",
        "✖\n",
        " 12. \n",
        "✔\n",
        "12.0  \n",
        "\n",
        " Number must have exactly one . symbol. \n",
        " Number must not give any exceptions when converted using float(N)"
      ]
    },
    {
      "metadata": {
        "id": "FDeSyMWWpi9s",
        "colab_type": "code",
        "colab": {
          "base_uri": "https://localhost:8080/",
          "height": 68
        },
        "outputId": "a1fd2e34-71ce-4c08-ec04-d62839242c46"
      },
      "cell_type": "code",
      "source": [
        "import re\n",
        "for _ in range(int(input())):\n",
        "\tprint(bool(re.match(r'^[-+]?[0-9]*\\.[0-9]+$', input())))"
      ],
      "execution_count": 0,
      "outputs": [
        {
          "output_type": "stream",
          "text": [
            "1\n",
            "124o5\n",
            "False\n"
          ],
          "name": "stdout"
        }
      ]
    },
    {
      "metadata": {
        "id": "gLPVggZFrsxt",
        "colab_type": "code",
        "colab": {
          "base_uri": "https://localhost:8080/",
          "height": 102
        },
        "outputId": "51765ef9-8aef-40a3-8927-24c85a70c6b4"
      },
      "cell_type": "code",
      "source": [
        "#from re import match, compile\n",
        "import re\n",
        "patt = compile('^[-+]?[0-9]*\\.[0-9]+$')\n",
        "for _ in range(int(input())):\n",
        "    print(bool(patt.match(input())))"
      ],
      "execution_count": 0,
      "outputs": [
        {
          "output_type": "stream",
          "text": [
            "2\n",
            "123.02\n",
            "True\n",
            "123.0\n",
            "True\n"
          ],
          "name": "stdout"
        }
      ]
    },
    {
      "metadata": {
        "id": "egwZPXKaq3Qn",
        "colab_type": "text"
      },
      "cell_type": "markdown",
      "source": [
        "#^ says start of the expression.\n",
        "\n",
        "[-+]? says it can start with either - or +.\n",
        "\n",
        "[0-9] says any number from 0-9 can be followed after it.\n",
        "\n",
        "* says that whichever thing it follows[in this case it is[0-9]], it can repeat arbitrarily times, even 0 times.\n",
        "\n",
        "'.' is placeholder for any character.(for the answer it should be '\\.' instead of '.' ; '\\' is escape character. Because of this you can literally mean a dot in expression).\n",
        "\n",
        "again[0-9] as explained earlier.\n",
        "\n",
        "'+' says that whichever thing it follows[in this case it is[0-9]], it can repeat arbitrarily times, but atleast one time.\n",
        "\n",
        "$ follows whichever thing it should come in the end"
      ]
    },
    {
      "metadata": {
        "id": "GrUTKhEtq6ve",
        "colab_type": "code",
        "colab": {}
      },
      "cell_type": "code",
      "source": [
        "import re\n",
        "for _ in range(int(input())):\n",
        "    print(bool(re.match(\"^[\\+-]?\\d*\\.\\d+$\", input()))) # slight change"
      ],
      "execution_count": 0,
      "outputs": []
    },
    {
      "metadata": {
        "id": "Vi0ZajlUy6zJ",
        "colab_type": "text"
      },
      "cell_type": "markdown",
      "source": [
        "# sol\n",
        "\n",
        "Number can start with +, - or . symbol:\n",
        "[\\+-]?\\d*\\.\n",
        "Number must contain at least 1 decimal value:\n",
        "\\.\\d+$\n",
        "Number must have exactly one . symbol.\n",
        "\\.\n",
        "My solution:"
      ]
    },
    {
      "metadata": {
        "id": "zqP2YmoDu8SM",
        "colab_type": "code",
        "colab": {}
      },
      "cell_type": "code",
      "source": [
        ""
      ],
      "execution_count": 0,
      "outputs": []
    },
    {
      "metadata": {
        "id": "754f2UT1R3At",
        "colab_type": "text"
      },
      "cell_type": "markdown",
      "source": [
        "# List Operations from command line:\n"
      ]
    },
    {
      "metadata": {
        "id": "qW0x0tlzJuEF",
        "colab_type": "code",
        "colab": {
          "base_uri": "https://localhost:8080/",
          "height": 561
        },
        "outputId": "e77a8afe-a71f-4b7b-eb9b-b0590d922925"
      },
      "cell_type": "code",
      "source": [
        "if __name__ == '__main__':\n",
        "    N = int(input())\n",
        "    result = []\n",
        "    for n in range(N):\n",
        "        x = input().split(\" \")\n",
        "        command = x[0]\n",
        "        if command == 'append':\n",
        "            result.append(int(x[1]))\n",
        "        if command == 'print':\n",
        "            print(result)\n",
        "        if command == 'insert':\n",
        "            result.insert(int(x[1]), int(x[2])) # (index , element)\n",
        "        if command == 'reverse':\n",
        "            result.reverse()\n",
        "        if command == 'pop':\n",
        "            result.pop() #removes the last element in the list\n",
        "        if command == 'sort':\n",
        "            result.sort()\n",
        "        if command == 'remove':\n",
        "            result.remove(int(x[1])) #(elemnt name if it exists gets removed else valueError)\n",
        "        "
      ],
      "execution_count": 0,
      "outputs": [
        {
          "output_type": "stream",
          "text": [
            "12\n",
            "insert 0 5\n",
            "[5]\n",
            "insert 1 10\n",
            "[5, 10]\n",
            "insert 0 6\n",
            "[6, 5, 10]\n",
            "print\n",
            "[6, 5, 10]\n",
            "[6, 5, 10]\n",
            "print\n",
            "[6, 5, 10]\n",
            "[6, 5, 10]\n",
            "print\n",
            "[6, 5, 10]\n",
            "[6, 5, 10]\n",
            "print\n",
            "[6, 5, 10]\n",
            "[6, 5, 10]\n",
            "print\n",
            "[6, 5, 10]\n",
            "[6, 5, 10]\n",
            "\n",
            "[6, 5, 10]\n",
            "\n",
            "[6, 5, 10]\n",
            "print\n",
            "[6, 5, 10]\n",
            "[6, 5, 10]\n",
            "print\n",
            "[6, 5, 10]\n",
            "[6, 5, 10]\n"
          ],
          "name": "stdout"
        }
      ]
    },
    {
      "metadata": {
        "id": "EFvRZWEqN8hK",
        "colab_type": "code",
        "colab": {
          "base_uri": "https://localhost:8080/",
          "height": 85
        },
        "outputId": "6835a51a-52aa-4de9-dbe7-a16698229d93"
      },
      "cell_type": "code",
      "source": [
        "N = int(input())\n",
        "result = []\n",
        "for n in range(N):\n",
        "    x = input().split(\" \")"
      ],
      "execution_count": 0,
      "outputs": [
        {
          "output_type": "stream",
          "text": [
            "3\n",
            "insert 4 5\n",
            "insert 4 5 \n",
            "insert 4 5\n"
          ],
          "name": "stdout"
        }
      ]
    },
    {
      "metadata": {
        "id": "rDzexmKuN-WT",
        "colab_type": "code",
        "colab": {}
      },
      "cell_type": "code",
      "source": [
        "result=[]\n",
        "result.insert(int(x[1]),int(x[2]))"
      ],
      "execution_count": 0,
      "outputs": []
    },
    {
      "metadata": {
        "id": "v-zd7KY3OlT0",
        "colab_type": "code",
        "colab": {
          "base_uri": "https://localhost:8080/",
          "height": 34
        },
        "outputId": "38892078-d299-496e-aa3f-bf0ca19a2600"
      },
      "cell_type": "code",
      "source": [
        "result.insert(10,12)\n",
        "result"
      ],
      "execution_count": 0,
      "outputs": [
        {
          "output_type": "execute_result",
          "data": {
            "text/plain": [
              "[5, 12]"
            ]
          },
          "metadata": {
            "tags": []
          },
          "execution_count": 20
        }
      ]
    },
    {
      "metadata": {
        "id": "TufQAFW-Op2K",
        "colab_type": "code",
        "colab": {
          "base_uri": "https://localhost:8080/",
          "height": 68
        },
        "outputId": "3d03be38-8553-45b9-e451-b6c81dc487f1"
      },
      "cell_type": "code",
      "source": [
        "# python list extend() command\n",
        "list_1 = ['abc' , 'efg','cat']\n",
        "tuple_1 =('get','set','mat')\n",
        "set_1={'set2','set3'}\n",
        "print('list_1 before extending:' , list_1)\n",
        "list_1.extend(tuple_1)\n",
        "print('list_1 after extending with a tuple:' , list_1)\n",
        "list_1.extend(set_1)\n",
        "print('list_1 after extending with a set:' , list_1)"
      ],
      "execution_count": 0,
      "outputs": [
        {
          "output_type": "stream",
          "text": [
            "list_1 before extending: ['abc', 'efg', 'cat']\n",
            "list_1 after extending with a tuple: ['abc', 'efg', 'cat', 'get', 'set', 'mat']\n",
            "list_1 after extending with a set: ['abc', 'efg', 'cat', 'get', 'set', 'mat', 'set2', 'set3']\n"
          ],
          "name": "stdout"
        }
      ]
    },
    {
      "metadata": {
        "id": "PpCxoST95Ztt",
        "colab_type": "text"
      },
      "cell_type": "markdown",
      "source": [
        "# Problem\n",
        "Given a integer  , n , and n space-separated integers as input , create a tuple t , of these n integers. Then Compute the Hash table of these numbers"
      ]
    },
    {
      "metadata": {
        "id": "KkLzqRjzUXaV",
        "colab_type": "code",
        "colab": {
          "base_uri": "https://localhost:8080/",
          "height": 34
        },
        "outputId": "72f09356-8804-41d8-f646-3a211b0671bf"
      },
      "cell_type": "code",
      "source": [
        "# read the user input\n",
        "user_input = int(input())"
      ],
      "execution_count": 0,
      "outputs": [
        {
          "output_type": "stream",
          "text": [
            "2\n"
          ],
          "name": "stdout"
        }
      ]
    },
    {
      "metadata": {
        "id": "GiYS_O3H6W5n",
        "colab_type": "code",
        "colab": {
          "base_uri": "https://localhost:8080/",
          "height": 34
        },
        "outputId": "34372301-336d-4e4d-8f0a-e04a6a0e5eee"
      },
      "cell_type": "code",
      "source": [
        "# read in the user data for the tuple\n",
        "user_data = input().split()\n",
        "  \n",
        "  "
      ],
      "execution_count": 0,
      "outputs": [
        {
          "output_type": "stream",
          "text": [
            "2 3\n"
          ],
          "name": "stdout"
        }
      ]
    },
    {
      "metadata": {
        "id": "Quvdl9me8ZK9",
        "colab_type": "code",
        "colab": {
          "base_uri": "https://localhost:8080/",
          "height": 34
        },
        "outputId": "029d1a59-3265-401b-b799-0db63d6eb9d4"
      },
      "cell_type": "code",
      "source": [
        "user_data"
      ],
      "execution_count": 0,
      "outputs": [
        {
          "output_type": "execute_result",
          "data": {
            "text/plain": [
              "['2', '3']"
            ]
          },
          "metadata": {
            "tags": []
          },
          "execution_count": 16
        }
      ]
    },
    {
      "metadata": {
        "id": "XWRAUv1W7JGy",
        "colab_type": "code",
        "colab": {}
      },
      "cell_type": "code",
      "source": [
        "# convert string to integer\n",
        "user_data = map(int , user_data)"
      ],
      "execution_count": 0,
      "outputs": []
    },
    {
      "metadata": {
        "id": "QzDN8QjI7ewk",
        "colab_type": "code",
        "colab": {}
      },
      "cell_type": "code",
      "source": [
        "user_data =tuple(user_data)"
      ],
      "execution_count": 0,
      "outputs": []
    },
    {
      "metadata": {
        "id": "ct19QTsg8Pcy",
        "colab_type": "code",
        "colab": {
          "base_uri": "https://localhost:8080/",
          "height": 34
        },
        "outputId": "458d0182-494b-43fd-9885-1fa0a63f8688"
      },
      "cell_type": "code",
      "source": [
        "user_data"
      ],
      "execution_count": 0,
      "outputs": [
        {
          "output_type": "execute_result",
          "data": {
            "text/plain": [
              "(2, 3)"
            ]
          },
          "metadata": {
            "tags": []
          },
          "execution_count": 19
        }
      ]
    },
    {
      "metadata": {
        "id": "lBhEAiFl8mSR",
        "colab_type": "code",
        "colab": {}
      },
      "cell_type": "code",
      "source": [
        "#Converting ['1','2','3','4'] ---> [1,2,3,4] (string ---> int)\n",
        "# method 1 :\n",
        "my_list = ['1','2','3','4']\n",
        "my_list1= map(int, my_list)"
      ],
      "execution_count": 0,
      "outputs": []
    },
    {
      "metadata": {
        "id": "qg8L-mHY-CEL",
        "colab_type": "code",
        "colab": {
          "base_uri": "https://localhost:8080/",
          "height": 34
        },
        "outputId": "ba4cd3ac-596e-426e-99e3-6c92f85a0c76"
      },
      "cell_type": "code",
      "source": [
        "my_list1"
      ],
      "execution_count": 0,
      "outputs": [
        {
          "output_type": "execute_result",
          "data": {
            "text/plain": [
              "<map at 0x7f4c5a6a8588>"
            ]
          },
          "metadata": {
            "tags": []
          },
          "execution_count": 26
        }
      ]
    },
    {
      "metadata": {
        "id": "i71dEQbz-Ml5",
        "colab_type": "code",
        "colab": {
          "base_uri": "https://localhost:8080/",
          "height": 34
        },
        "outputId": "cc3ddf47-fe10-468b-d8cc-46330381e1c8"
      },
      "cell_type": "code",
      "source": [
        "# convert it back to list\n",
        "print(list(my_list1))"
      ],
      "execution_count": 0,
      "outputs": [
        {
          "output_type": "stream",
          "text": [
            "[1, 2, 3, 4]\n"
          ],
          "name": "stdout"
        }
      ]
    },
    {
      "metadata": {
        "id": "t3Hd60Lg-S1J",
        "colab_type": "code",
        "colab": {}
      },
      "cell_type": "code",
      "source": [
        "# option two\n",
        "new_list =['1','2','5','9']\n",
        "for i in range(len(new_list)):\n",
        "  new_list[i]= int(new_list[i])"
      ],
      "execution_count": 0,
      "outputs": []
    },
    {
      "metadata": {
        "id": "p__p1t7o-oXS",
        "colab_type": "code",
        "colab": {
          "base_uri": "https://localhost:8080/",
          "height": 34
        },
        "outputId": "e62ea549-5c63-47c5-f049-6c50261c7876"
      },
      "cell_type": "code",
      "source": [
        "new_list"
      ],
      "execution_count": 0,
      "outputs": [
        {
          "output_type": "execute_result",
          "data": {
            "text/plain": [
              "[1, 2, 5, 9]"
            ]
          },
          "metadata": {
            "tags": []
          },
          "execution_count": 37
        }
      ]
    },
    {
      "metadata": {
        "id": "hYazX4pn_z2w",
        "colab_type": "code",
        "colab": {}
      },
      "cell_type": "code",
      "source": [
        "#Converting a list of String to integers using the list comprehension\n",
        "list_comp = ['1','2','3','4']\n",
        "list_comp =[int(x) for x in list_comp]"
      ],
      "execution_count": 0,
      "outputs": []
    },
    {
      "metadata": {
        "id": "mVQxEfsEAR12",
        "colab_type": "code",
        "colab": {
          "base_uri": "https://localhost:8080/",
          "height": 34
        },
        "outputId": "aa86ee00-0c50-4489-a094-7b7de80e77e3"
      },
      "cell_type": "code",
      "source": [
        "list_comp"
      ],
      "execution_count": 0,
      "outputs": [
        {
          "output_type": "execute_result",
          "data": {
            "text/plain": [
              "[1, 2, 3, 4]"
            ]
          },
          "metadata": {
            "tags": []
          },
          "execution_count": 42
        }
      ]
    },
    {
      "metadata": {
        "id": "qfXYgw57ATuT",
        "colab_type": "code",
        "colab": {}
      },
      "cell_type": "code",
      "source": [
        "#convert to tuple\n",
        "tuple_comp = tuple(list_comp)"
      ],
      "execution_count": 0,
      "outputs": []
    },
    {
      "metadata": {
        "id": "J6xQpFkhB6Ye",
        "colab_type": "code",
        "colab": {
          "base_uri": "https://localhost:8080/",
          "height": 34
        },
        "outputId": "40ee9f60-2303-4d53-aaef-edb147aed30f"
      },
      "cell_type": "code",
      "source": [
        "print(hash(tuple_comp))"
      ],
      "execution_count": 0,
      "outputs": [
        {
          "output_type": "stream",
          "text": [
            "485696759010151909\n"
          ],
          "name": "stdout"
        }
      ]
    },
    {
      "metadata": {
        "id": "Fk6sV7fyKvYH",
        "colab_type": "text"
      },
      "cell_type": "markdown",
      "source": [
        "# Problem\n",
        "\n",
        "You are given a string and your task is to swap cases. In other words, convert all lowercase letters to uppercase letters and vice versa."
      ]
    },
    {
      "metadata": {
        "id": "Y5EjHW7aB_dV",
        "colab_type": "code",
        "colab": {
          "base_uri": "https://localhost:8080/",
          "height": 34
        },
        "outputId": "0ecf05f4-17f7-42e9-e25d-a90634bb45c4"
      },
      "cell_type": "code",
      "source": [
        "input_data = input()"
      ],
      "execution_count": 0,
      "outputs": [
        {
          "output_type": "stream",
          "text": [
            "hi this The Best The ThIng\n"
          ],
          "name": "stdout"
        }
      ]
    },
    {
      "metadata": {
        "id": "2ubH4_tDMHex",
        "colab_type": "code",
        "colab": {
          "base_uri": "https://localhost:8080/",
          "height": 34
        },
        "outputId": "a9a08a04-3264-4936-9517-ee3377bae983"
      },
      "cell_type": "code",
      "source": [
        "print(''.join([x.lower() if x.isupper() else x.upper() for x in input_data]))"
      ],
      "execution_count": 0,
      "outputs": [
        {
          "output_type": "stream",
          "text": [
            "HI THIS tHE bEST tHE tHiNG\n"
          ],
          "name": "stdout"
        }
      ]
    },
    {
      "metadata": {
        "id": "AhxtyUkYMe3e",
        "colab_type": "code",
        "colab": {
          "base_uri": "https://localhost:8080/",
          "height": 34
        },
        "outputId": "d5090756-4688-4c1a-c4bf-7d5a362cd8b3"
      },
      "cell_type": "code",
      "source": [
        "print(''.join([x.upper() if x.islower() else x.lower() for x in input_data]))"
      ],
      "execution_count": 0,
      "outputs": [
        {
          "output_type": "stream",
          "text": [
            "HI THIS tHE bEST tHE tHiNG\n"
          ],
          "name": "stdout"
        }
      ]
    },
    {
      "metadata": {
        "id": "kpNWM7xBM9hJ",
        "colab_type": "code",
        "colab": {
          "base_uri": "https://localhost:8080/",
          "height": 34
        },
        "outputId": "91c0a510-2bad-4bad-90ce-0f91cc437fda"
      },
      "cell_type": "code",
      "source": [
        "# method 2\n",
        "print(''.join(map(str.swapcase , input_data)))"
      ],
      "execution_count": 0,
      "outputs": [
        {
          "output_type": "stream",
          "text": [
            "HI THIS tHE bEST tHE tHiNG\n"
          ],
          "name": "stdout"
        }
      ]
    },
    {
      "metadata": {
        "id": "0tMbw0jSREPZ",
        "colab_type": "text"
      },
      "cell_type": "markdown",
      "source": [
        "#Problem\n",
        "split and join string"
      ]
    },
    {
      "metadata": {
        "id": "Hs4cAgIFNLFb",
        "colab_type": "code",
        "colab": {
          "base_uri": "https://localhost:8080/",
          "height": 51
        },
        "outputId": "0f121d9f-fa09-4e00-fe66-f80a56fc816e"
      },
      "cell_type": "code",
      "source": [
        "a = 'this is a string'\n",
        "a=a.split(' ')\n",
        "print(a)\n",
        "#join by -\n",
        "a = '-'.join(a)\n",
        "print(a)"
      ],
      "execution_count": 0,
      "outputs": [
        {
          "output_type": "stream",
          "text": [
            "['this', 'is', 'a', 'string']\n",
            "this-is-a-string\n"
          ],
          "name": "stdout"
        }
      ]
    },
    {
      "metadata": {
        "id": "fSWAZ52NR_3b",
        "colab_type": "text"
      },
      "cell_type": "markdown",
      "source": [
        "# Problem\n",
        "You are given the firstname and lastname of a person on two different lines. Your task is to read them and print the following:\n",
        "\n",
        "Hello firstname lastname! You just delved into python."
      ]
    },
    {
      "metadata": {
        "id": "u3O29V7mNeku",
        "colab_type": "code",
        "colab": {
          "base_uri": "https://localhost:8080/",
          "height": 34
        },
        "outputId": "a7ca8620-2fa2-4992-d7b3-e4de0595c713"
      },
      "cell_type": "code",
      "source": [
        "data_input = str(input())"
      ],
      "execution_count": 0,
      "outputs": [
        {
          "output_type": "stream",
          "text": [
            "ross taylor\n"
          ],
          "name": "stdout"
        }
      ]
    },
    {
      "metadata": {
        "id": "Di13_ZU4SHmp",
        "colab_type": "code",
        "colab": {}
      },
      "cell_type": "code",
      "source": [
        "name = data_input.split(' ')"
      ],
      "execution_count": 0,
      "outputs": []
    },
    {
      "metadata": {
        "id": "dadxnVQmSTrY",
        "colab_type": "code",
        "colab": {
          "base_uri": "https://localhost:8080/",
          "height": 34
        },
        "outputId": "a77eb994-376f-4e5b-863e-843b1c289844"
      },
      "cell_type": "code",
      "source": [
        "name"
      ],
      "execution_count": 0,
      "outputs": [
        {
          "output_type": "execute_result",
          "data": {
            "text/plain": [
              "['ross', 'taylor']"
            ]
          },
          "metadata": {
            "tags": []
          },
          "execution_count": 22
        }
      ]
    },
    {
      "metadata": {
        "id": "8iazn_TkSY-q",
        "colab_type": "code",
        "colab": {}
      },
      "cell_type": "code",
      "source": [
        "first_name = name[0]\n",
        "last_name = name[1]"
      ],
      "execution_count": 0,
      "outputs": []
    },
    {
      "metadata": {
        "id": "noN801paSqn4",
        "colab_type": "code",
        "colab": {
          "base_uri": "https://localhost:8080/",
          "height": 34
        },
        "outputId": "d980f6cb-7bb6-4762-a1b0-3e0650af995f"
      },
      "cell_type": "code",
      "source": [
        "print('Hello {} {}! You just delved into python.' .format(first_name , last_name))"
      ],
      "execution_count": 0,
      "outputs": [
        {
          "output_type": "stream",
          "text": [
            "Hello ross taylor! You just delved into python.\n"
          ],
          "name": "stdout"
        }
      ]
    },
    {
      "metadata": {
        "id": "nqDKMQJUTuqA",
        "colab_type": "text"
      },
      "cell_type": "markdown",
      "source": [
        "#Problem\n",
        "We have seen that lists are mutable (they can be changed), and tuples are immutable (they cannot be changed).\n",
        "\n",
        "Let's try to understand this with an example.\n",
        "\n",
        "You are given an immutable string, and you want to make changes to it."
      ]
    },
    {
      "metadata": {
        "id": "riY2H5zTS3zS",
        "colab_type": "code",
        "colab": {
          "base_uri": "https://localhost:8080/",
          "height": 34
        },
        "outputId": "c250bd97-61ff-40e7-b40e-ee89930a8d45"
      },
      "cell_type": "code",
      "source": [
        "string_1 = \"abcdefgh\"\n",
        "print(string_1)"
      ],
      "execution_count": 0,
      "outputs": [
        {
          "output_type": "stream",
          "text": [
            "abcdefgh\n"
          ],
          "name": "stdout"
        }
      ]
    },
    {
      "metadata": {
        "id": "sjRjTUnUT19j",
        "colab_type": "code",
        "colab": {
          "base_uri": "https://localhost:8080/",
          "height": 34
        },
        "outputId": "46d9b399-b4ef-4eb2-9726-7f031c30ffcd"
      },
      "cell_type": "code",
      "source": [
        "string_1[0]"
      ],
      "execution_count": 0,
      "outputs": [
        {
          "output_type": "execute_result",
          "data": {
            "text/plain": [
              "'a'"
            ]
          },
          "metadata": {
            "tags": []
          },
          "execution_count": 28
        }
      ]
    },
    {
      "metadata": {
        "id": "yBO_6MqIT3oH",
        "colab_type": "code",
        "colab": {
          "base_uri": "https://localhost:8080/",
          "height": 164
        },
        "outputId": "fef8594a-ef4c-4aa0-bdda-97d6ed68368c"
      },
      "cell_type": "code",
      "source": [
        "#however if I try to change the character then I get an error\n",
        "string_1[0]='s'"
      ],
      "execution_count": 0,
      "outputs": [
        {
          "output_type": "error",
          "ename": "TypeError",
          "evalue": "ignored",
          "traceback": [
            "\u001b[0;31m---------------------------------------------------------------------------\u001b[0m",
            "\u001b[0;31mTypeError\u001b[0m                                 Traceback (most recent call last)",
            "\u001b[0;32m<ipython-input-29-13529206363a>\u001b[0m in \u001b[0;36m<module>\u001b[0;34m()\u001b[0m\n\u001b[0;32m----> 1\u001b[0;31m \u001b[0mstring_1\u001b[0m\u001b[0;34m[\u001b[0m\u001b[0;36m0\u001b[0m\u001b[0;34m]\u001b[0m\u001b[0;34m=\u001b[0m\u001b[0;34m's'\u001b[0m\u001b[0;34m\u001b[0m\u001b[0m\n\u001b[0m",
            "\u001b[0;31mTypeError\u001b[0m: 'str' object does not support item assignment"
          ]
        }
      ]
    },
    {
      "metadata": {
        "id": "k2monrIsUAlA",
        "colab_type": "code",
        "colab": {}
      },
      "cell_type": "code",
      "source": [
        "# to change the string I need to convert it to list and convert it back to string using join function\n",
        "list_1 = list(string_1)"
      ],
      "execution_count": 0,
      "outputs": []
    },
    {
      "metadata": {
        "id": "IjVNni3xUOMr",
        "colab_type": "code",
        "colab": {
          "base_uri": "https://localhost:8080/",
          "height": 34
        },
        "outputId": "c798b566-e5bd-4e7a-cd7b-10bd904824bb"
      },
      "cell_type": "code",
      "source": [
        "list_1[0]='A'\n",
        "print(list_1)"
      ],
      "execution_count": 0,
      "outputs": [
        {
          "output_type": "stream",
          "text": [
            "['A', 'b', 'c', 'd', 'e', 'f', 'g', 'h']\n"
          ],
          "name": "stdout"
        }
      ]
    },
    {
      "metadata": {
        "id": "-_4bt3piUaft",
        "colab_type": "code",
        "colab": {}
      },
      "cell_type": "code",
      "source": [
        "# convert it to string\n",
        "str_1 = ''.join(list_1.split(' '))"
      ],
      "execution_count": 0,
      "outputs": []
    },
    {
      "metadata": {
        "id": "V86zfJN6Ungq",
        "colab_type": "code",
        "colab": {
          "base_uri": "https://localhost:8080/",
          "height": 34
        },
        "outputId": "26dde95e-cd61-41fb-9f74-08fe0439648f"
      },
      "cell_type": "code",
      "source": [
        "print(str_1)"
      ],
      "execution_count": 0,
      "outputs": [
        {
          "output_type": "stream",
          "text": [
            "Abcdefgh\n"
          ],
          "name": "stdout"
        }
      ]
    },
    {
      "metadata": {
        "id": "MoBVwKFmWttn",
        "colab_type": "text"
      },
      "cell_type": "markdown",
      "source": [
        "# Problem\n",
        "In this challenge, the user enters a string and a substring. You have to print the number of times that the substring occurs in the given string. String traversal will take place from left to right, not from right to left"
      ]
    },
    {
      "metadata": {
        "id": "3FLHilfDUqQ2",
        "colab_type": "code",
        "colab": {
          "base_uri": "https://localhost:8080/",
          "height": 51
        },
        "outputId": "7578231d-974c-4b30-95d2-304e3784b302"
      },
      "cell_type": "code",
      "source": [
        "string , sub_string = (input().strip() , input().strip())"
      ],
      "execution_count": 0,
      "outputs": [
        {
          "output_type": "stream",
          "text": [
            "abcabcefg\n",
            "abc\n"
          ],
          "name": "stdout"
        }
      ]
    },
    {
      "metadata": {
        "id": "292mpg_PXioI",
        "colab_type": "code",
        "colab": {}
      },
      "cell_type": "code",
      "source": [
        "l= (sum([1 for i in range(len(string)-len(sub_string)+1) if string[i:i+len(sub_string)]==sub_string]))\n",
        "            "
      ],
      "execution_count": 0,
      "outputs": []
    },
    {
      "metadata": {
        "id": "k9T3GSTtY85F",
        "colab_type": "code",
        "colab": {
          "base_uri": "https://localhost:8080/",
          "height": 34
        },
        "outputId": "8d380e75-c281-44e4-c00e-dcc5f0be0217"
      },
      "cell_type": "code",
      "source": [
        "print(l)"
      ],
      "execution_count": 0,
      "outputs": [
        {
          "output_type": "stream",
          "text": [
            "2\n"
          ],
          "name": "stdout"
        }
      ]
    },
    {
      "metadata": {
        "id": "l1bwGuHsY-Hr",
        "colab_type": "code",
        "colab": {
          "base_uri": "https://localhost:8080/",
          "height": 34
        },
        "outputId": "87b70ace-b248-495f-a26a-2223cde02e60"
      },
      "cell_type": "code",
      "source": [
        "len([i for i in range(len(string)) if string[i:i+len(sub_string)] == sub_string])"
      ],
      "execution_count": 0,
      "outputs": [
        {
          "output_type": "execute_result",
          "data": {
            "text/plain": [
              "2"
            ]
          },
          "metadata": {
            "tags": []
          },
          "execution_count": 89
        }
      ]
    },
    {
      "metadata": {
        "id": "rouvOqjkaIND",
        "colab_type": "code",
        "colab": {
          "base_uri": "https://localhost:8080/",
          "height": 34
        },
        "outputId": "a67c0e1b-a82b-40b7-ab71-b7a4784abc56"
      },
      "cell_type": "code",
      "source": [
        "#alternate way to solve\n",
        "counter=0\n",
        "i=0\n",
        "while i<len(string):\n",
        "    if string.find(sub_string,i)>=0:\n",
        "        i=string.find(sub_string,i)+1\n",
        "        counter+=1\n",
        "    else: break\n",
        "print(counter)"
      ],
      "execution_count": 0,
      "outputs": [
        {
          "output_type": "stream",
          "text": [
            "2\n"
          ],
          "name": "stdout"
        }
      ]
    },
    {
      "metadata": {
        "id": "8u4vZtmFgNCC",
        "colab_type": "code",
        "colab": {}
      },
      "cell_type": "code",
      "source": [
        "def count_substring(string, sub_string):\n",
        "    return (sum([1 for i in range(0, len(string) - len(sub_string) + 1) if (string[i:(len(sub_string)+i)] == sub_string)]))"
      ],
      "execution_count": 0,
      "outputs": []
    },
    {
      "metadata": {
        "id": "2Xsk7f1sgOtQ",
        "colab_type": "code",
        "colab": {
          "base_uri": "https://localhost:8080/",
          "height": 68
        },
        "outputId": "06d947ab-5674-4c86-8003-08c78a822194"
      },
      "cell_type": "code",
      "source": [
        "if __name__ == '__main__':\n",
        "    string = input().strip()\n",
        "    sub_string = input().strip()\n",
        "    \n",
        "    count = count_substring(string, sub_string)\n",
        "    print(count)"
      ],
      "execution_count": 0,
      "outputs": [
        {
          "output_type": "stream",
          "text": [
            "abcabcefg\n",
            "abc\n",
            "2\n"
          ],
          "name": "stdout"
        }
      ]
    },
    {
      "metadata": {
        "id": "in_HZNuXkrUm",
        "colab_type": "text"
      },
      "cell_type": "markdown",
      "source": [
        "# Problem\n",
        "Python has built-in string validation methods for basic data. It can check if a string is composed of alphabetical characters, alphanumeric characters, digits, etc."
      ]
    },
    {
      "metadata": {
        "id": "hqhDXBwWgl8J",
        "colab_type": "code",
        "colab": {
          "base_uri": "https://localhost:8080/",
          "height": 102
        },
        "outputId": "0d9d615b-064b-47f5-9e02-9c81e71b2b3e"
      },
      "cell_type": "code",
      "source": [
        "if __name__ == '__main__':\n",
        "    t = type(s)\n",
        "    for method in [t.isalnum, t.isalpha, t.isdigit, t.islower, t.isupper]:\n",
        "                    print (any(method(c) for c in s))"
      ],
      "execution_count": 0,
      "outputs": [
        {
          "output_type": "stream",
          "text": [
            "True\n",
            "True\n",
            "True\n",
            "True\n",
            "True\n"
          ],
          "name": "stdout"
        }
      ]
    },
    {
      "metadata": {
        "id": "3Ht2CiKQbvsx",
        "colab_type": "text"
      },
      "cell_type": "markdown",
      "source": [
        "# Problem\n",
        "Given an integer, , print the following values for each integer  from  to :\n",
        "\n",
        "Decimal\n",
        "Octal\n",
        "Hexadecimal (capitalized)\n",
        "Binary"
      ]
    },
    {
      "metadata": {
        "id": "z3MPbMh0gmMk",
        "colab_type": "code",
        "colab": {
          "base_uri": "https://localhost:8080/",
          "height": 85
        },
        "outputId": "9deff7fa-1dc5-4117-dfd6-4495fc6f747c"
      },
      "cell_type": "code",
      "source": [
        "n = int(input())\n",
        "width = len(\"{0:b}\".format(n))\n",
        "print('decimal:{width}' .format(\"decimal\",width=width))\n",
        "for i in range(1,n+1):\n",
        "  print (\"{0:{width}d} {0:{width}o} {0:{width}X} {0:{width}b}\".format(i, width=width))  #check  https://pyformat.info/  for more details..."
      ],
      "execution_count": 0,
      "outputs": [
        {
          "output_type": "stream",
          "text": [
            "2\n",
            "decimal:2\n",
            " 1  1  1  1\n",
            " 2  2  2 10\n"
          ],
          "name": "stdout"
        }
      ]
    },
    {
      "metadata": {
        "id": "553OyH2XAJLh",
        "colab_type": "text"
      },
      "cell_type": "markdown",
      "source": [
        "# Defaultdict\n",
        "\n"
      ]
    },
    {
      "metadata": {
        "id": "8E-n1knNAH5j",
        "colab_type": "code",
        "colab": {
          "base_uri": "https://localhost:8080/",
          "height": 187
        },
        "outputId": "2f27c1d7-ac42-444c-dc88-dd09e8e28822"
      },
      "cell_type": "code",
      "source": [
        "from collections import defaultdict # imported the libraries\n",
        "d = defaultdict(list)  # created a default dict of type list\n",
        "list1=[] # empty list\n",
        "\n",
        "n, m = map(int,input().split()) # get the imput\n",
        "\n",
        "# append the entries to the default dict\n",
        "\n",
        "for i in range(0,n):\n",
        "    d[input()].append(i+1)\n",
        "    \n",
        "# append to the list    \n",
        "\n",
        "for i in range(0,m):\n",
        "    list1=list1+[input()]  \n",
        "\n",
        "# print the element which comes in the list from the \n",
        "# dictionary\n",
        "\n",
        "    \n",
        "for i in list1: \n",
        "    if i in d:\n",
        "        print (\" \".join( map(str,d[i])))\n",
        "    else:\n",
        "        print(-1)"
      ],
      "execution_count": 0,
      "outputs": [
        {
          "output_type": "stream",
          "text": [
            "5 2\n",
            "a\n",
            "\n",
            "a\n",
            "a\n",
            "a\n",
            "a\n",
            "s\n",
            "1 3 4 5\n",
            "-1\n"
          ],
          "name": "stdout"
        }
      ]
    },
    {
      "metadata": {
        "id": "wXQ2KMhGAIW9",
        "colab_type": "code",
        "colab": {
          "base_uri": "https://localhost:8080/",
          "height": 34
        },
        "outputId": "2e28860e-61dd-4c37-bcef-2a98e5c278f8"
      },
      "cell_type": "code",
      "source": [
        "from collections import defaultdict\n",
        "\n",
        "s = 'mississippi'\n",
        "d = defaultdict(int)\n",
        "for k in s:\n",
        "   d[k] += 1\n",
        "   \n",
        "  \n",
        "d.items()\n"
      ],
      "execution_count": 0,
      "outputs": [
        {
          "output_type": "execute_result",
          "data": {
            "text/plain": [
              "dict_items([('m', 1), ('i', 4), ('s', 4), ('p', 2)])"
            ]
          },
          "metadata": {
            "tags": []
          },
          "execution_count": 7
        }
      ]
    },
    {
      "metadata": {
        "id": "LTyhWdhXHLSL",
        "colab_type": "code",
        "colab": {
          "base_uri": "https://localhost:8080/",
          "height": 34
        },
        "outputId": "ad32f009-2266-4900-83ab-2330655991e6"
      },
      "cell_type": "code",
      "source": [
        "#somedict = {}\n",
        "#print(somedict[3]) # KeyError\n",
        "\n",
        "someddict = defaultdict(int) # However in defaultdict will create the key and the associated value with it and if I donot specify any value it\n",
        "# it would assign 0 to it.\n",
        "print(someddict[3]) "
      ],
      "execution_count": 0,
      "outputs": [
        {
          "output_type": "stream",
          "text": [
            "0\n"
          ],
          "name": "stdout"
        }
      ]
    },
    {
      "metadata": {
        "id": "sy7RBUjCHVHY",
        "colab_type": "code",
        "colab": {
          "base_uri": "https://localhost:8080/",
          "height": 34
        },
        "outputId": "be20aec4-c60e-4675-ae93-7225765a8e4c"
      },
      "cell_type": "code",
      "source": [
        "print(someddict)"
      ],
      "execution_count": 0,
      "outputs": [
        {
          "output_type": "stream",
          "text": [
            "defaultdict(<class 'int'>, {3: 0})\n"
          ],
          "name": "stdout"
        }
      ]
    },
    {
      "metadata": {
        "id": "aqZtqHsbHbkG",
        "colab_type": "text"
      },
      "cell_type": "markdown",
      "source": [
        "# A defaultDict is an extension of the normal dictionary\n",
        "here the difference  from the normal dictionary is that if we donot have a key in the dictionary then the moment I call that dictionary<key> a new entry is created for the key and assigned a value of '0' for the key."
      ]
    },
    {
      "metadata": {
        "id": "EEQum9qVHXuZ",
        "colab_type": "code",
        "colab": {}
      },
      "cell_type": "code",
      "source": [
        "from collections import defaultdict"
      ],
      "execution_count": 0,
      "outputs": []
    },
    {
      "metadata": {
        "id": "30mXwpjKH_QZ",
        "colab_type": "code",
        "colab": {
          "base_uri": "https://localhost:8080/",
          "height": 34
        },
        "outputId": "77d02300-762f-4a75-f7b9-6167b9e8cbaf"
      },
      "cell_type": "code",
      "source": [
        "defdict = defaultdict(int)\n",
        "phrase = 'missioanry'\n",
        "for char in phrase:\n",
        "  defdict[char]+=1\n",
        "print(defdict.items())  "
      ],
      "execution_count": 0,
      "outputs": [
        {
          "output_type": "stream",
          "text": [
            "dict_items([('m', 1), ('i', 2), ('s', 2), ('o', 1), ('a', 1), ('n', 1), ('r', 1), ('y', 1)])\n"
          ],
          "name": "stdout"
        }
      ]
    },
    {
      "metadata": {
        "id": "z4Ad0aw2H_2O",
        "colab_type": "code",
        "colab": {
          "base_uri": "https://localhost:8080/",
          "height": 34
        },
        "outputId": "539b55fe-d18d-4ff1-8f18-3f6ead37870b"
      },
      "cell_type": "code",
      "source": [
        "defdict['k']"
      ],
      "execution_count": 0,
      "outputs": [
        {
          "output_type": "execute_result",
          "data": {
            "text/plain": [
              "0"
            ]
          },
          "metadata": {
            "tags": []
          },
          "execution_count": 30
        }
      ]
    },
    {
      "metadata": {
        "id": "ToFElgDFJWHe",
        "colab_type": "code",
        "colab": {
          "base_uri": "https://localhost:8080/",
          "height": 34
        },
        "outputId": "251c4abb-3855-4c80-b3c5-60685a1c6dc6"
      },
      "cell_type": "code",
      "source": [
        "defdict.items()"
      ],
      "execution_count": 0,
      "outputs": [
        {
          "output_type": "execute_result",
          "data": {
            "text/plain": [
              "dict_items([('m', 1), ('i', 2), ('s', 2), ('o', 1), ('a', 1), ('n', 1), ('r', 1), ('y', 1), ('k', 0)])"
            ]
          },
          "metadata": {
            "tags": []
          },
          "execution_count": 31
        }
      ]
    },
    {
      "metadata": {
        "id": "ddoqcjjQJYX6",
        "colab_type": "code",
        "colab": {}
      },
      "cell_type": "code",
      "source": [
        "defdict['k']=5"
      ],
      "execution_count": 0,
      "outputs": []
    },
    {
      "metadata": {
        "id": "5wRscAWxJdzS",
        "colab_type": "code",
        "colab": {
          "base_uri": "https://localhost:8080/",
          "height": 187
        },
        "outputId": "8177fe89-506b-4835-f8e6-684f11da2be4"
      },
      "cell_type": "code",
      "source": [
        "defdict"
      ],
      "execution_count": 0,
      "outputs": [
        {
          "output_type": "execute_result",
          "data": {
            "text/plain": [
              "defaultdict(int,\n",
              "            {'a': 1,\n",
              "             'i': 2,\n",
              "             'k': 5,\n",
              "             'm': 1,\n",
              "             'n': 1,\n",
              "             'o': 1,\n",
              "             'r': 1,\n",
              "             's': 2,\n",
              "             'y': 1})"
            ]
          },
          "metadata": {
            "tags": []
          },
          "execution_count": 33
        }
      ]
    },
    {
      "metadata": {
        "id": "K3XXX2zgJfhE",
        "colab_type": "code",
        "colab": {}
      },
      "cell_type": "code",
      "source": [
        "\n"
      ],
      "execution_count": 0,
      "outputs": []
    },
    {
      "metadata": {
        "id": "Oj4o-HytJpun",
        "colab_type": "code",
        "colab": {
          "base_uri": "https://localhost:8080/",
          "height": 170
        },
        "outputId": "e1fe3abf-17f5-44e2-fafc-7d8f5ca63a58"
      },
      "cell_type": "code",
      "source": [
        "for i , v in sorted(list(defdict.items())):\n",
        "  print(i , v )"
      ],
      "execution_count": 0,
      "outputs": [
        {
          "output_type": "stream",
          "text": [
            "a 1\n",
            "i 2\n",
            "k 5\n",
            "m 1\n",
            "n 1\n",
            "o 1\n",
            "r 1\n",
            "s 2\n",
            "y 1\n"
          ],
          "name": "stdout"
        }
      ]
    },
    {
      "metadata": {
        "id": "Cmm83bjDLBCh",
        "colab_type": "code",
        "colab": {
          "base_uri": "https://localhost:8080/",
          "height": 459
        },
        "outputId": "02f5743f-e976-4dc3-8a6d-d4f94e9bfc10"
      },
      "cell_type": "code",
      "source": [
        "thickness = int(input()) #This must be an odd number\n",
        "c = 'H'\n",
        "\n",
        "#Top Cone\n",
        "for i in range(thickness):\n",
        "    print((c*i).rjust(thickness-1)+c+(c*i).ljust(thickness-1))\n",
        "\n",
        "#Top Pillars\n",
        "for i in range(thickness+1):\n",
        "    print((c*thickness).center(thickness*2)+(c*thickness).center(thickness*6))\n",
        "\n",
        "#Middle Belt\n",
        "for i in range((thickness+1)//2):\n",
        "    print((c*thickness*5).center(thickness*6))    \n",
        "\n",
        "#Bottom Pillars\n",
        "for i in range(thickness+1):\n",
        "    print((c*thickness).center(thickness*2)+(c*thickness).center(thickness*6))    \n",
        "\n",
        "#Bottom Cone\n",
        "for i in range(thickness):\n",
        "    print(((c*(thickness-i-1)).rjust(thickness)+c+(c*(thickness-i-1)).ljust(thickness)).rjust(thickness*6))"
      ],
      "execution_count": 0,
      "outputs": [
        {
          "output_type": "stream",
          "text": [
            "5\n",
            "    H    \n",
            "   HHH   \n",
            "  HHHHH  \n",
            " HHHHHHH \n",
            "HHHHHHHHH\n",
            "  HHHHH               HHHHH             \n",
            "  HHHHH               HHHHH             \n",
            "  HHHHH               HHHHH             \n",
            "  HHHHH               HHHHH             \n",
            "  HHHHH               HHHHH             \n",
            "  HHHHH               HHHHH             \n",
            "  HHHHHHHHHHHHHHHHHHHHHHHHH   \n",
            "  HHHHHHHHHHHHHHHHHHHHHHHHH   \n",
            "  HHHHHHHHHHHHHHHHHHHHHHHHH   \n",
            "  HHHHH               HHHHH             \n",
            "  HHHHH               HHHHH             \n",
            "  HHHHH               HHHHH             \n",
            "  HHHHH               HHHHH             \n",
            "  HHHHH               HHHHH             \n",
            "  HHHHH               HHHHH             \n",
            "                    HHHHHHHHH \n",
            "                     HHHHHHH  \n",
            "                      HHHHH   \n",
            "                       HHH    \n",
            "                        H     \n"
          ],
          "name": "stdout"
        }
      ]
    },
    {
      "metadata": {
        "id": "J9aXZbSgyQKh",
        "colab_type": "code",
        "colab": {
          "base_uri": "https://localhost:8080/",
          "height": 221
        },
        "outputId": "2938f4bb-6521-44d1-95b3-96dcbabebf29"
      },
      "cell_type": "code",
      "source": [
        "n, m = map(int,input().split())\n",
        "pattern = [('.|.'*(2*i + 1)).center(m, '-') for i in range(n//2)]\n",
        "print('\\n'.join(pattern + ['WELCOME'.center(m, '-')] + pattern[::-1]))"
      ],
      "execution_count": 0,
      "outputs": [
        {
          "output_type": "stream",
          "text": [
            "10 15\n",
            "------.|.------\n",
            "---.|..|..|.---\n",
            ".|..|..|..|..|.\n",
            ".|..|..|..|..|..|..|.\n",
            ".|..|..|..|..|..|..|..|..|.\n",
            "----WELCOME----\n",
            ".|..|..|..|..|..|..|..|..|.\n",
            ".|..|..|..|..|..|..|.\n",
            ".|..|..|..|..|.\n",
            "---.|..|..|.---\n",
            "------.|.------\n"
          ],
          "name": "stdout"
        }
      ]
    },
    {
      "metadata": {
        "id": "kpcHJdwyzMOp",
        "colab_type": "code",
        "colab": {}
      },
      "cell_type": "code",
      "source": [
        "def print_rangoli(size):\n",
        "    import string\n",
        "    alpha = string.ascii_lowercase\n",
        "\n",
        "    \n",
        "    L = []\n",
        "    for i in range(n):\n",
        "        s = \"-\".join(alpha[i:n])\n",
        "        L.append((s[::-1]+s[1:]).center(4*n-3, \"-\"))\n",
        "    print('\\n'.join(L[:0:-1]+L))"
      ],
      "execution_count": 0,
      "outputs": []
    },
    {
      "metadata": {
        "id": "GqL1AnLuzR8s",
        "colab_type": "code",
        "colab": {
          "base_uri": "https://localhost:8080/",
          "height": 187
        },
        "outputId": "aadfc7b8-03ab-4bc3-ef0d-48ac565a2a23"
      },
      "cell_type": "code",
      "source": [
        "if __name__=='__main__':\n",
        "  n =int(input())\n",
        "  print_rangoli(n)"
      ],
      "execution_count": 0,
      "outputs": [
        {
          "output_type": "stream",
          "text": [
            "5\n",
            "--------e--------\n",
            "------e-d-e------\n",
            "----e-d-c-d-e----\n",
            "--e-d-c-b-c-d-e--\n",
            "e-d-c-b-a-b-c-d-e\n",
            "--e-d-c-b-c-d-e--\n",
            "----e-d-c-d-e----\n",
            "------e-d-e------\n",
            "--------e--------\n"
          ],
          "name": "stdout"
        }
      ]
    },
    {
      "metadata": {
        "id": "k-dG_AN50Y4M",
        "colab_type": "text"
      },
      "cell_type": "markdown",
      "source": [
        "# You are asked to ensure that the first and last names of people begin with a capital letter in their passports. For example, alison heck should be capitalised correctly as Alison Heck.\n",
        "\n",
        "\n",
        "Given a full name, your task is to capitalize the name appropriately."
      ]
    },
    {
      "metadata": {
        "id": "Y-UnAqrC0X59",
        "colab_type": "code",
        "colab": {
          "base_uri": "https://localhost:8080/",
          "height": 51
        },
        "outputId": "56e9da78-c16b-4ef8-e891-e7f6d29267d2"
      },
      "cell_type": "code",
      "source": [
        "a_string = input().split(' ')\n",
        "print(' '.join(word.capitalize() for word in a_string))"
      ],
      "execution_count": 0,
      "outputs": [
        {
          "output_type": "stream",
          "text": [
            "anirban ghosh\n",
            "Anirban Ghosh\n"
          ],
          "name": "stdout"
        }
      ]
    },
    {
      "metadata": {
        "id": "L1-3kQ_IfJxT",
        "colab_type": "code",
        "colab": {
          "base_uri": "https://localhost:8080/",
          "height": 51
        },
        "outputId": "72561b16-b249-406e-b69c-3d67cf710a0a"
      },
      "cell_type": "code",
      "source": [
        "# Capitalize the first letter using functions\n",
        "def cap_first_letter_name(name):\n",
        "  # create a list [a,b,c] from the string using .split()\n",
        "  name_string = name.split(' ')\n",
        "  # create a placeholer \n",
        "  capitalize_name =[ ]\n",
        "  for word in name_string:\n",
        "    capitalize_name.append(word.capitalize())\n",
        "  return capitalize_name\n",
        "\n",
        "# call the function\n",
        "persons_name = \"alison heck\"\n",
        "capitalize_name = cap_first_letter_name(persons_name)\n",
        "print(capitalize_name)\n",
        "cap_name= ' '.join(capitalize_name)\n",
        "print(cap_name)"
      ],
      "execution_count": 0,
      "outputs": [
        {
          "output_type": "stream",
          "text": [
            "['Alison', 'Heck']\n",
            "Alison Heck\n"
          ],
          "name": "stdout"
        }
      ]
    },
    {
      "metadata": {
        "id": "hjF4qjoqh5c3",
        "colab_type": "code",
        "colab": {
          "base_uri": "https://localhost:8080/",
          "height": 51
        },
        "outputId": "5de785c3-4bf2-4366-fe45-d5c9332a76c8"
      },
      "cell_type": "code",
      "source": [
        "# a variation by using upper() instead of capitalize()\n",
        "input = \"they're bill's friends from the UK\"\n",
        "words = input.split(' ')\n",
        "capitalized_words = []\n",
        "for word in words:\n",
        "    title_case_word = word[0].upper() + word[1:]\n",
        "    capitalized_words.append(title_case_word)\n",
        "output = ' '.join(capitalized_words)\n",
        "print('output' , output)\n",
        "print('capitalized_words', capitalized_words)"
      ],
      "execution_count": 0,
      "outputs": [
        {
          "output_type": "stream",
          "text": [
            "output They're Bill's Friends From The UK\n",
            "capitalized_words [\"They're\", \"Bill's\", 'Friends', 'From', 'The', 'UK']\n"
          ],
          "name": "stdout"
        }
      ]
    },
    {
      "metadata": {
        "id": "P1wxrQ-aiKh-",
        "colab_type": "code",
        "colab": {
          "base_uri": "https://localhost:8080/",
          "height": 34
        },
        "outputId": "95c84597-9740-4825-d58c-fa68b1c38eb8"
      },
      "cell_type": "code",
      "source": [
        "for word in name:\n",
        "  word.capitalize()\n",
        "print(name)  \n",
        "  "
      ],
      "execution_count": 0,
      "outputs": [
        {
          "output_type": "stream",
          "text": [
            "['Alison', 'heck']\n"
          ],
          "name": "stdout"
        }
      ]
    },
    {
      "metadata": {
        "id": "-VQFAUX62f56",
        "colab_type": "text"
      },
      "cell_type": "markdown",
      "source": [
        "# Making alternate case upper and lower"
      ]
    },
    {
      "metadata": {
        "id": "HvHa6UwNzi6s",
        "colab_type": "code",
        "colab": {
          "base_uri": "https://localhost:8080/",
          "height": 595
        },
        "outputId": "a44485f3-e0b8-4e33-ef5b-53ae0420f84f"
      },
      "cell_type": "code",
      "source": [
        "test = \"AltERNating WoRd\"\n",
        "\n",
        "def to_alternating_case(string):\n",
        "    result = ''\n",
        "    for word in string:\n",
        "        print(word)\n",
        "        if word.isupper():\n",
        "            result += word.lower()\n",
        "        else:\n",
        "            result += word.upper()\n",
        "    return result\n",
        "\n",
        "print(to_alternating_case(test))\n",
        "result = to_alternating_case(test)\n",
        "print('final',''.join(result))"
      ],
      "execution_count": 0,
      "outputs": [
        {
          "output_type": "stream",
          "text": [
            "A\n",
            "l\n",
            "t\n",
            "E\n",
            "R\n",
            "N\n",
            "a\n",
            "t\n",
            "i\n",
            "n\n",
            "g\n",
            " \n",
            "W\n",
            "o\n",
            "R\n",
            "d\n",
            "aLTernATING wOrD\n",
            "A\n",
            "l\n",
            "t\n",
            "E\n",
            "R\n",
            "N\n",
            "a\n",
            "t\n",
            "i\n",
            "n\n",
            "g\n",
            " \n",
            "W\n",
            "o\n",
            "R\n",
            "d\n",
            "final aLTernATING wOrD\n"
          ],
          "name": "stdout"
        }
      ]
    },
    {
      "metadata": {
        "id": "rbJ7qb5-0zBA",
        "colab_type": "code",
        "colab": {}
      },
      "cell_type": "code",
      "source": [
        "# list comprehension to upper and lower case\n",
        "def to_alternating_case(string):\n",
        "    result =[word.lower() if word.isupper() else word.upper() for word in string]\n",
        "    return ''.join(result)"
      ],
      "execution_count": 0,
      "outputs": []
    },
    {
      "metadata": {
        "id": "M5Cc_bfX07m4",
        "colab_type": "code",
        "colab": {
          "base_uri": "https://localhost:8080/",
          "height": 34
        },
        "outputId": "cc1c2ffa-3a5d-4504-945b-c9a83114ef40"
      },
      "cell_type": "code",
      "source": [
        "print(to_alternating_case(test))"
      ],
      "execution_count": 0,
      "outputs": [
        {
          "output_type": "stream",
          "text": [
            "aLTernATING wOrD\n"
          ],
          "name": "stdout"
        }
      ]
    },
    {
      "metadata": {
        "id": "7dnzL8LM-9tf",
        "colab_type": "code",
        "colab": {}
      },
      "cell_type": "code",
      "source": [
        "#using map function\n",
        "def to_alternating_case(string):\n",
        "    result = map(lambda word:word.lower() if word.isupper() else word.upper(), string)\n",
        "    return ''.join(result)"
      ],
      "execution_count": 0,
      "outputs": []
    },
    {
      "metadata": {
        "id": "6c_U1DeJ_Fxn",
        "colab_type": "code",
        "colab": {
          "base_uri": "https://localhost:8080/",
          "height": 34
        },
        "outputId": "f7cf922d-a277-456e-a657-7e786d21ced3"
      },
      "cell_type": "code",
      "source": [
        "test_case = \"This is A PyThon CoDe\"\n",
        "print(to_alternating_case(test_case))"
      ],
      "execution_count": 0,
      "outputs": [
        {
          "output_type": "stream",
          "text": [
            "tHIS IS a pYtHON cOdE\n"
          ],
          "name": "stdout"
        }
      ]
    },
    {
      "metadata": {
        "id": "3ANnADuenUot",
        "colab_type": "code",
        "colab": {
          "base_uri": "https://localhost:8080/",
          "height": 34
        },
        "outputId": "57e641e5-bbd5-4e7f-f2c6-5d73161154bb"
      },
      "cell_type": "code",
      "source": [
        "input = \"they're bill's friends from the UK\"\n",
        "words = input.split(' ')\n",
        "capitalized_words = []\n",
        "for word in words:\n",
        "    title_case_word = word[0].upper() + word[1:]\n",
        "    capitalized_words.append(title_case_word)\n",
        "output = ' '.join(capitalized_words)\n",
        "print(output)"
      ],
      "execution_count": 0,
      "outputs": [
        {
          "output_type": "stream",
          "text": [
            "They're Bill's Friends From The UK\n"
          ],
          "name": "stdout"
        }
      ]
    },
    {
      "metadata": {
        "id": "pi82kK5W_PzE",
        "colab_type": "code",
        "colab": {
          "base_uri": "https://localhost:8080/",
          "height": 68
        },
        "outputId": "702a43d8-9a47-44d8-fa42-638fb51f489b"
      },
      "cell_type": "code",
      "source": [
        "# Do a camelcasing of the python code based on the fact that the first letter is always small while the rest are small-->upper and vice-versa\n",
        "test_case = \"This is A PyThon CoDe\"\n",
        "words = test_case.split(' ')\n",
        "final_sentence = []\n",
        "for word in words:\n",
        "  camelcase=word[0].lower()\n",
        "  for letter in range(len(word[1:])):\n",
        "    if word[letter].isupper():\n",
        "      word[letter].lower()\n",
        "    else:\n",
        "      word[letter].upper()\n",
        "  camelcased_word = camelcase+word[1:]\n",
        "  final_sentence.append(camelcased_word)\n",
        "print(camelcased_word)  \n",
        "print(final_sentence)\n",
        "print(' '.join(final_sentence))"
      ],
      "execution_count": 0,
      "outputs": [
        {
          "output_type": "stream",
          "text": [
            "coDe\n",
            "['this', 'is', 'a', 'pyThon', 'coDe']\n",
            "this is a pyThon coDe\n"
          ],
          "name": "stdout"
        }
      ]
    },
    {
      "metadata": {
        "id": "faW7MdyXrJ21",
        "colab_type": "code",
        "colab": {}
      },
      "cell_type": "code",
      "source": [
        ""
      ],
      "execution_count": 0,
      "outputs": []
    },
    {
      "metadata": {
        "id": "QA3BcU_FmVSL",
        "colab_type": "code",
        "colab": {}
      },
      "cell_type": "code",
      "source": [
        "\n",
        "  "
      ],
      "execution_count": 0,
      "outputs": []
    },
    {
      "metadata": {
        "id": "hcTeyTh-p9dH",
        "colab_type": "code",
        "colab": {}
      },
      "cell_type": "code",
      "source": [
        ""
      ],
      "execution_count": 0,
      "outputs": []
    }
  ]
}