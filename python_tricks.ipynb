{
  "nbformat": 4,
  "nbformat_minor": 0,
  "metadata": {
    "colab": {
      "name": "python_tricks.ipynb",
      "version": "0.3.2",
      "provenance": [],
      "collapsed_sections": [],
      "include_colab_link": true
    },
    "kernelspec": {
      "name": "python3",
      "display_name": "Python 3"
    }
  },
  "cells": [
    {
      "cell_type": "markdown",
      "metadata": {
        "id": "view-in-github",
        "colab_type": "text"
      },
      "source": [
        "[View in Colaboratory](https://colab.research.google.com/github/anirbanghoshsbi/python-projects/blob/master/python_tricks.ipynb)"
      ]
    },
    {
      "metadata": {
        "id": "-4kBNsxybOMn",
        "colab_type": "code",
        "colab": {
          "base_uri": "https://localhost:8080/",
          "height": 34
        },
        "outputId": "b124c5e9-49bf-4c60-90bb-800123017939"
      },
      "cell_type": "code",
      "source": [
        "#Swapping values\n",
        "a , b =5,10\n",
        "b,a=a,b\n",
        "print(a,b)"
      ],
      "execution_count": 1,
      "outputs": [
        {
          "output_type": "stream",
          "text": [
            "10 5\n"
          ],
          "name": "stdout"
        }
      ]
    },
    {
      "metadata": {
        "id": "oM1eAgwIxsmt",
        "colab_type": "code",
        "colab": {}
      },
      "cell_type": "code",
      "source": [
        ""
      ],
      "execution_count": 0,
      "outputs": []
    },
    {
      "metadata": {
        "id": "rD831aA-bZ_s",
        "colab_type": "code",
        "colab": {
          "base_uri": "https://localhost:8080/",
          "height": 34
        },
        "outputId": "e77cf89c-6b12-4a43-8df5-8f26c746ca17"
      },
      "cell_type": "code",
      "source": [
        "# convert a list to a string\n",
        "\n",
        "a = ['cat','mat','ram']\n",
        "combined= ''.join(a)\n",
        "print(combined)"
      ],
      "execution_count": 2,
      "outputs": [
        {
          "output_type": "stream",
          "text": [
            "catmatram\n"
          ],
          "name": "stdout"
        }
      ]
    },
    {
      "metadata": {
        "id": "voKtELWWb6Pa",
        "colab_type": "code",
        "colab": {
          "base_uri": "https://localhost:8080/",
          "height": 34
        },
        "outputId": "dfa87e68-ff1f-4d39-d49c-e7628c3fcb04"
      },
      "cell_type": "code",
      "source": [
        "# some other cool ways to join a list as string\n",
        "a = [1,2,3,'japan']\n",
        "combined ='-'.join(str(a).strip(','))\n",
        "print(combined)"
      ],
      "execution_count": 7,
      "outputs": [
        {
          "output_type": "stream",
          "text": [
            "[-1-,- -2-,- -3-,- -'-j-a-p-a-n-'-]\n"
          ],
          "name": "stdout"
        }
      ]
    },
    {
      "metadata": {
        "id": "L-Zxr_1OcKpe",
        "colab_type": "code",
        "colab": {
          "base_uri": "https://localhost:8080/",
          "height": 34
        },
        "outputId": "fcbdc2b5-6233-495d-ee6f-f6d0b83307c2"
      },
      "cell_type": "code",
      "source": [
        "# find the most frequent element in the list\n",
        "a = [1,2,1,2,3,2,1,2,21,2,3,2,2,2,3,2,5]\n",
        "print(max(set(a),key=a.count))"
      ],
      "execution_count": 9,
      "outputs": [
        {
          "output_type": "stream",
          "text": [
            "2\n"
          ],
          "name": "stdout"
        }
      ]
    },
    {
      "metadata": {
        "id": "fcyuzBMudWmE",
        "colab_type": "code",
        "colab": {
          "base_uri": "https://localhost:8080/",
          "height": 51
        },
        "outputId": "6a4ee4c1-ee5c-472e-ef89-189f564d06b6"
      },
      "cell_type": "code",
      "source": [
        "#find the most common using Counters\n",
        "from collections import Counter\n",
        "a = [1,2,1,2,3,2,1,2,21,2,3,2,2,2,3,2,5]\n",
        "cnt = Counter(a)\n",
        "print(cnt.most_common(3))\n",
        "print('The count of the number occuring : ' , cnt.most_common()[3][0])"
      ],
      "execution_count": 29,
      "outputs": [
        {
          "output_type": "stream",
          "text": [
            "[(2, 9), (1, 3), (3, 3)]\n",
            "The count of the number occuring :  21\n"
          ],
          "name": "stdout"
        }
      ]
    },
    {
      "metadata": {
        "id": "GGYJDR2Idlak",
        "colab_type": "code",
        "colab": {
          "base_uri": "https://localhost:8080/",
          "height": 34
        },
        "outputId": "560f545f-d436-4150-c1d4-e3383be04a8a"
      },
      "cell_type": "code",
      "source": [
        "# Check if two numbers are anagram : when two strings have exactly the same no. letters but in arranged in a different way\n",
        "from collections import Counter\n",
        "string1 = 'This is a day'\n",
        "string2 ='A day is this'\n",
        "\n",
        "if Counter(string1.lower())==Counter(string2.lower()):\n",
        "         print(\"These are anagrams\")\n",
        "  \n",
        "\n"
      ],
      "execution_count": 44,
      "outputs": [
        {
          "output_type": "stream",
          "text": [
            "These are anagrams\n"
          ],
          "name": "stdout"
        }
      ]
    },
    {
      "metadata": {
        "id": "Kc09bY3ZhgE4",
        "colab_type": "code",
        "colab": {
          "base_uri": "https://localhost:8080/",
          "height": 51
        },
        "outputId": "2924ca4c-c22b-4253-fce3-18c553574cbe"
      },
      "cell_type": "code",
      "source": [
        "#reversing a string in python\n",
        "str1= 'ABCDEFGHIJKLMNOPQRSTUVWXYZ'\n",
        "print('reversed mtd 1',str1[::-1])\n",
        "# method 2\n",
        "for character in reversed(str1):\n",
        "  print(character,end='')\n",
        "  \n"
      ],
      "execution_count": 48,
      "outputs": [
        {
          "output_type": "stream",
          "text": [
            "reversed mtd 1 ZYXWVUTSRQPONMLKJIHGFEDCBA\n",
            "ZYXWVUTSRQPONMLKJIHGFEDCBA"
          ],
          "name": "stdout"
        }
      ]
    },
    {
      "metadata": {
        "id": "ZJmcmkgljaRr",
        "colab_type": "code",
        "colab": {
          "base_uri": "https://localhost:8080/",
          "height": 34
        },
        "outputId": "9abd9af2-882a-470d-f3ed-586b8171b56f"
      },
      "cell_type": "code",
      "source": [
        "#printing a string by type conversion and slices\n",
        "\n",
        "num =123456789\n",
        "print(str(num)[::-1])"
      ],
      "execution_count": 49,
      "outputs": [
        {
          "output_type": "stream",
          "text": [
            "987654321\n"
          ],
          "name": "stdout"
        }
      ]
    },
    {
      "metadata": {
        "id": "PKKnP_1gkVvv",
        "colab_type": "code",
        "colab": {
          "base_uri": "https://localhost:8080/",
          "height": 34
        },
        "outputId": "31555d91-5074-4319-e48d-210d6b93a33b"
      },
      "cell_type": "code",
      "source": [
        "# reverse a list\n",
        "lst = [1,2,3,4,5]\n",
        "print(lst[::-1])\n"
      ],
      "execution_count": 50,
      "outputs": [
        {
          "output_type": "stream",
          "text": [
            "[5, 4, 3, 2, 1]\n"
          ],
          "name": "stdout"
        }
      ]
    },
    {
      "metadata": {
        "id": "O6_xtkxjkrNd",
        "colab_type": "code",
        "colab": {
          "base_uri": "https://localhost:8080/",
          "height": 34
        },
        "outputId": "6eeb3d37-f41b-460f-d78d-f9eb8fb06690"
      },
      "cell_type": "code",
      "source": [
        "# using iterations\n",
        "for element in reversed(lst):\n",
        "  print( element , end= \" \")"
      ],
      "execution_count": 57,
      "outputs": [
        {
          "output_type": "stream",
          "text": [
            "5 4 3 2 1 "
          ],
          "name": "stdout"
        }
      ]
    },
    {
      "metadata": {
        "id": "kPQIuxQLk7GL",
        "colab_type": "code",
        "colab": {
          "base_uri": "https://localhost:8080/",
          "height": 34
        },
        "outputId": "431a5746-4d84-4735-8610-fefe4b9557e4"
      },
      "cell_type": "code",
      "source": [
        "#using iterations and storing the elements in a list\n",
        "lst1=[]\n",
        "for element in reversed(lst):\n",
        "  lst1.append(element)\n",
        "print(lst1)  \n",
        "  "
      ],
      "execution_count": 58,
      "outputs": [
        {
          "output_type": "stream",
          "text": [
            "[5, 4, 3, 2, 1]\n"
          ],
          "name": "stdout"
        }
      ]
    },
    {
      "metadata": {
        "id": "QGTXJ7ozlkVq",
        "colab_type": "code",
        "colab": {
          "base_uri": "https://localhost:8080/",
          "height": 34
        },
        "outputId": "596c2e97-9aea-4ac9-a1f4-e55675789778"
      },
      "cell_type": "code",
      "source": [
        "# transpose a Matrix\n",
        "original = [[1,2,],[3,5],[3,4]]\n",
        "transposed = zip(*original)\n",
        "print(list(transposed))"
      ],
      "execution_count": 60,
      "outputs": [
        {
          "output_type": "stream",
          "text": [
            "[(1, 3, 3), (2, 5, 4)]\n"
          ],
          "name": "stdout"
        }
      ]
    },
    {
      "metadata": {
        "id": "I1TBXWiEnOky",
        "colab_type": "code",
        "colab": {}
      },
      "cell_type": "code",
      "source": [
        "#ignore blanklines from a file\n",
        "with open(filename) as f_in:\n",
        "    lines = (line.rstrip() for line in f_in) # All lines including the blank ones\n",
        "    lines = (line for line in lines if line) # Non-blank lines"
      ],
      "execution_count": 0,
      "outputs": []
    },
    {
      "metadata": {
        "id": "wNwZIqhNqZ5u",
        "colab_type": "code",
        "colab": {}
      },
      "cell_type": "code",
      "source": [
        "#alternate of doing the same -- ignore the blank lines\n",
        "def nonblank_lines(f):\n",
        "    for l in f:\n",
        "        line = l.rstrip()\n",
        "        if line:\n",
        "            yield line\n",
        "            \n",
        "with open(filename) as f_in:\n",
        "    for line in nonblank_lines(f_in):\n",
        "        # Stuff            "
      ],
      "execution_count": 0,
      "outputs": []
    },
    {
      "metadata": {
        "id": "-C8KBIJDq2CX",
        "colab_type": "code",
        "colab": {}
      },
      "cell_type": "code",
      "source": [
        "# ignore blanklines by using filter...\n",
        "with open(filename) as f_in:\n",
        "    lines = filter(None, (line.rstrip() for line in f_in))"
      ],
      "execution_count": 0,
      "outputs": []
    },
    {
      "metadata": {
        "id": "kmpnM7G5xupj",
        "colab_type": "code",
        "colab": {}
      },
      "cell_type": "code",
      "source": [
        "#largest number that can be formed from a given number\n",
        "def max_no(n):\n",
        "  return int('' .join(sorted(str(n),reverse=True)))"
      ],
      "execution_count": 0,
      "outputs": []
    },
    {
      "metadata": {
        "id": "KrBBMgrAyXuD",
        "colab_type": "code",
        "colab": {
          "base_uri": "https://localhost:8080/",
          "height": 34
        },
        "outputId": "c39dfe3e-9644-43a2-9f90-b741b202d0f7"
      },
      "cell_type": "code",
      "source": [
        "n=1527815754\n",
        "print(max_no(n))"
      ],
      "execution_count": 65,
      "outputs": [
        {
          "output_type": "stream",
          "text": [
            "8775554211\n"
          ],
          "name": "stdout"
        }
      ]
    },
    {
      "metadata": {
        "id": "DQwKYnI5ylgk",
        "colab_type": "code",
        "colab": {}
      },
      "cell_type": "code",
      "source": [
        "import pandas as pd"
      ],
      "execution_count": 0,
      "outputs": []
    },
    {
      "metadata": {
        "id": "FUlofWgXVZ0q",
        "colab_type": "code",
        "colab": {}
      },
      "cell_type": "code",
      "source": [
        "# convert an dictionary to pandas dataframe\n",
        "sales = [{'account': 'Jones LLC', 'Jan': 150, 'Feb': 200, 'Mar': 140},\n",
        "         {'account': 'Alpha Co',  'Jan': 200, 'Feb': 210, 'Mar': 215},\n",
        "         {'account': 'Blue Inc',  'Jan': 50,  'Feb': 90,  'Mar': 95 }]\n",
        "# The above is a dictionary having sales figure for the month of Jan , Feb and Mar\n",
        "\n",
        "dataframe = pd.DataFrame(sales)"
      ],
      "execution_count": 0,
      "outputs": []
    },
    {
      "metadata": {
        "id": "YmyhMK3PXAHA",
        "colab_type": "code",
        "colab": {
          "base_uri": "https://localhost:8080/",
          "height": 142
        },
        "outputId": "26b562e9-f78a-4a75-b09b-a146d3f4584a"
      },
      "cell_type": "code",
      "source": [
        "dataframe"
      ],
      "execution_count": 3,
      "outputs": [
        {
          "output_type": "execute_result",
          "data": {
            "text/html": [
              "<div>\n",
              "<style scoped>\n",
              "    .dataframe tbody tr th:only-of-type {\n",
              "        vertical-align: middle;\n",
              "    }\n",
              "\n",
              "    .dataframe tbody tr th {\n",
              "        vertical-align: top;\n",
              "    }\n",
              "\n",
              "    .dataframe thead th {\n",
              "        text-align: right;\n",
              "    }\n",
              "</style>\n",
              "<table border=\"1\" class=\"dataframe\">\n",
              "  <thead>\n",
              "    <tr style=\"text-align: right;\">\n",
              "      <th></th>\n",
              "      <th>Feb</th>\n",
              "      <th>Jan</th>\n",
              "      <th>Mar</th>\n",
              "      <th>account</th>\n",
              "    </tr>\n",
              "  </thead>\n",
              "  <tbody>\n",
              "    <tr>\n",
              "      <th>0</th>\n",
              "      <td>200</td>\n",
              "      <td>150</td>\n",
              "      <td>140</td>\n",
              "      <td>Jones LLC</td>\n",
              "    </tr>\n",
              "    <tr>\n",
              "      <th>1</th>\n",
              "      <td>210</td>\n",
              "      <td>200</td>\n",
              "      <td>215</td>\n",
              "      <td>Alpha Co</td>\n",
              "    </tr>\n",
              "    <tr>\n",
              "      <th>2</th>\n",
              "      <td>90</td>\n",
              "      <td>50</td>\n",
              "      <td>95</td>\n",
              "      <td>Blue Inc</td>\n",
              "    </tr>\n",
              "  </tbody>\n",
              "</table>\n",
              "</div>"
            ],
            "text/plain": [
              "   Feb  Jan  Mar    account\n",
              "0  200  150  140  Jones LLC\n",
              "1  210  200  215   Alpha Co\n",
              "2   90   50   95   Blue Inc"
            ]
          },
          "metadata": {
            "tags": []
          },
          "execution_count": 3
        }
      ]
    },
    {
      "metadata": {
        "id": "Kg7KtngTXBn6",
        "colab_type": "code",
        "colab": {}
      },
      "cell_type": "code",
      "source": [
        "# As I can see the keys are repeated in the various dictionary entry\n",
        "sales = {'account': ['Jones LLC', 'Alpha Co', 'Blue Inc'],\n",
        "         'Jan': [150, 200, 50],\n",
        "         'Feb': [200, 210, 90],\n",
        "         'Mar': [140, 215, 95]} # here I clubbed the account key with all values in one \\\n",
        "#place and same with 'Jan','Feb','Mar'\n",
        "dataframe = pd.DataFrame.from_dict(sales)\n",
        "dataframe1 = pd.DataFrame(sales)"
      ],
      "execution_count": 0,
      "outputs": []
    },
    {
      "metadata": {
        "id": "Tu30e_x9X18m",
        "colab_type": "code",
        "colab": {
          "base_uri": "https://localhost:8080/",
          "height": 142
        },
        "outputId": "8659aea6-919b-4fcd-cc5c-4d4e59af9801"
      },
      "cell_type": "code",
      "source": [
        "dataframe1"
      ],
      "execution_count": 7,
      "outputs": [
        {
          "output_type": "execute_result",
          "data": {
            "text/html": [
              "<div>\n",
              "<style scoped>\n",
              "    .dataframe tbody tr th:only-of-type {\n",
              "        vertical-align: middle;\n",
              "    }\n",
              "\n",
              "    .dataframe tbody tr th {\n",
              "        vertical-align: top;\n",
              "    }\n",
              "\n",
              "    .dataframe thead th {\n",
              "        text-align: right;\n",
              "    }\n",
              "</style>\n",
              "<table border=\"1\" class=\"dataframe\">\n",
              "  <thead>\n",
              "    <tr style=\"text-align: right;\">\n",
              "      <th></th>\n",
              "      <th>Feb</th>\n",
              "      <th>Jan</th>\n",
              "      <th>Mar</th>\n",
              "      <th>account</th>\n",
              "    </tr>\n",
              "  </thead>\n",
              "  <tbody>\n",
              "    <tr>\n",
              "      <th>0</th>\n",
              "      <td>200</td>\n",
              "      <td>150</td>\n",
              "      <td>140</td>\n",
              "      <td>Jones LLC</td>\n",
              "    </tr>\n",
              "    <tr>\n",
              "      <th>1</th>\n",
              "      <td>210</td>\n",
              "      <td>200</td>\n",
              "      <td>215</td>\n",
              "      <td>Alpha Co</td>\n",
              "    </tr>\n",
              "    <tr>\n",
              "      <th>2</th>\n",
              "      <td>90</td>\n",
              "      <td>50</td>\n",
              "      <td>95</td>\n",
              "      <td>Blue Inc</td>\n",
              "    </tr>\n",
              "  </tbody>\n",
              "</table>\n",
              "</div>"
            ],
            "text/plain": [
              "   Feb  Jan  Mar    account\n",
              "0  200  150  140  Jones LLC\n",
              "1  210  200  215   Alpha Co\n",
              "2   90   50   95   Blue Inc"
            ]
          },
          "metadata": {
            "tags": []
          },
          "execution_count": 7
        }
      ]
    },
    {
      "metadata": {
        "id": "K4PQE6bsX3am",
        "colab_type": "code",
        "colab": {}
      },
      "cell_type": "code",
      "source": [
        "# Creating Pandas DataFrame from Lists\n",
        "sales = [('Jones LLC', 150, 200, 50),\n",
        "         ('Alpha Co', 200, 210, 90),\n",
        "         ('Blue Inc', 140, 215, 95)] # a list of tuples\n",
        "labels = ['account', 'Jan', 'Feb', 'Mar']"
      ],
      "execution_count": 0,
      "outputs": []
    },
    {
      "metadata": {
        "id": "IvwJpPAyYeBM",
        "colab_type": "code",
        "colab": {}
      },
      "cell_type": "code",
      "source": [
        "dataframe_list = pd.DataFrame(sales , columns = labels)"
      ],
      "execution_count": 0,
      "outputs": []
    },
    {
      "metadata": {
        "id": "qY578szZYsS3",
        "colab_type": "code",
        "colab": {
          "base_uri": "https://localhost:8080/",
          "height": 142
        },
        "outputId": "b6999637-7880-4883-fb59-22af8260be33"
      },
      "cell_type": "code",
      "source": [
        "dataframe_list"
      ],
      "execution_count": 11,
      "outputs": [
        {
          "output_type": "execute_result",
          "data": {
            "text/html": [
              "<div>\n",
              "<style scoped>\n",
              "    .dataframe tbody tr th:only-of-type {\n",
              "        vertical-align: middle;\n",
              "    }\n",
              "\n",
              "    .dataframe tbody tr th {\n",
              "        vertical-align: top;\n",
              "    }\n",
              "\n",
              "    .dataframe thead th {\n",
              "        text-align: right;\n",
              "    }\n",
              "</style>\n",
              "<table border=\"1\" class=\"dataframe\">\n",
              "  <thead>\n",
              "    <tr style=\"text-align: right;\">\n",
              "      <th></th>\n",
              "      <th>account</th>\n",
              "      <th>Jan</th>\n",
              "      <th>Feb</th>\n",
              "      <th>Mar</th>\n",
              "    </tr>\n",
              "  </thead>\n",
              "  <tbody>\n",
              "    <tr>\n",
              "      <th>0</th>\n",
              "      <td>Jones LLC</td>\n",
              "      <td>150</td>\n",
              "      <td>200</td>\n",
              "      <td>50</td>\n",
              "    </tr>\n",
              "    <tr>\n",
              "      <th>1</th>\n",
              "      <td>Alpha Co</td>\n",
              "      <td>200</td>\n",
              "      <td>210</td>\n",
              "      <td>90</td>\n",
              "    </tr>\n",
              "    <tr>\n",
              "      <th>2</th>\n",
              "      <td>Blue Inc</td>\n",
              "      <td>140</td>\n",
              "      <td>215</td>\n",
              "      <td>95</td>\n",
              "    </tr>\n",
              "  </tbody>\n",
              "</table>\n",
              "</div>"
            ],
            "text/plain": [
              "     account  Jan  Feb  Mar\n",
              "0  Jones LLC  150  200   50\n",
              "1   Alpha Co  200  210   90\n",
              "2   Blue Inc  140  215   95"
            ]
          },
          "metadata": {
            "tags": []
          },
          "execution_count": 11
        }
      ]
    },
    {
      "metadata": {
        "id": "DZ8FhaPIYvkp",
        "colab_type": "code",
        "colab": {}
      },
      "cell_type": "code",
      "source": [
        "# Difference between the list based and the dictionary based dataframe creation\n",
        "# in list based creation the explicit ordering of the dataframe columns can be maintained,\n",
        "# which is not the case for a dictionary based creation"
      ],
      "execution_count": 0,
      "outputs": []
    },
    {
      "metadata": {
        "id": "3gi0M3E0Zxyp",
        "colab_type": "code",
        "colab": {}
      },
      "cell_type": "code",
      "source": [
        "# Getting the null values in a pandas dataframe\n",
        "Temperature = [('Delhi',25,28,30,32,),('kolkata',28,30,32,35),('Mumbai',28,29,25),('Chennai',28,30,32)]\n",
        "labels = ['City','Jan','Feb','Mar','Apr']"
      ],
      "execution_count": 0,
      "outputs": []
    },
    {
      "metadata": {
        "id": "ZJ33ayP8a2F6",
        "colab_type": "code",
        "colab": {}
      },
      "cell_type": "code",
      "source": [
        "city_temperature = pd.DataFrame(Temperature , columns= labels)"
      ],
      "execution_count": 0,
      "outputs": []
    },
    {
      "metadata": {
        "id": "vKEuF_cxbBTV",
        "colab_type": "code",
        "colab": {
          "base_uri": "https://localhost:8080/",
          "height": 173
        },
        "outputId": "b053626f-9aab-4948-fb46-c69cb75c5eb5"
      },
      "cell_type": "code",
      "source": [
        "city_temperature"
      ],
      "execution_count": 24,
      "outputs": [
        {
          "output_type": "execute_result",
          "data": {
            "text/html": [
              "<div>\n",
              "<style scoped>\n",
              "    .dataframe tbody tr th:only-of-type {\n",
              "        vertical-align: middle;\n",
              "    }\n",
              "\n",
              "    .dataframe tbody tr th {\n",
              "        vertical-align: top;\n",
              "    }\n",
              "\n",
              "    .dataframe thead th {\n",
              "        text-align: right;\n",
              "    }\n",
              "</style>\n",
              "<table border=\"1\" class=\"dataframe\">\n",
              "  <thead>\n",
              "    <tr style=\"text-align: right;\">\n",
              "      <th></th>\n",
              "      <th>City</th>\n",
              "      <th>Jan</th>\n",
              "      <th>Feb</th>\n",
              "      <th>Mar</th>\n",
              "      <th>Apr</th>\n",
              "    </tr>\n",
              "  </thead>\n",
              "  <tbody>\n",
              "    <tr>\n",
              "      <th>0</th>\n",
              "      <td>Delhi</td>\n",
              "      <td>25</td>\n",
              "      <td>28</td>\n",
              "      <td>30</td>\n",
              "      <td>32.0</td>\n",
              "    </tr>\n",
              "    <tr>\n",
              "      <th>1</th>\n",
              "      <td>kolkata</td>\n",
              "      <td>28</td>\n",
              "      <td>30</td>\n",
              "      <td>32</td>\n",
              "      <td>35.0</td>\n",
              "    </tr>\n",
              "    <tr>\n",
              "      <th>2</th>\n",
              "      <td>Mumbai</td>\n",
              "      <td>28</td>\n",
              "      <td>29</td>\n",
              "      <td>25</td>\n",
              "      <td>NaN</td>\n",
              "    </tr>\n",
              "    <tr>\n",
              "      <th>3</th>\n",
              "      <td>Chennai</td>\n",
              "      <td>28</td>\n",
              "      <td>30</td>\n",
              "      <td>32</td>\n",
              "      <td>NaN</td>\n",
              "    </tr>\n",
              "  </tbody>\n",
              "</table>\n",
              "</div>"
            ],
            "text/plain": [
              "      City  Jan  Feb  Mar   Apr\n",
              "0    Delhi   25   28   30  32.0\n",
              "1  kolkata   28   30   32  35.0\n",
              "2   Mumbai   28   29   25   NaN\n",
              "3  Chennai   28   30   32   NaN"
            ]
          },
          "metadata": {
            "tags": []
          },
          "execution_count": 24
        }
      ]
    },
    {
      "metadata": {
        "id": "WS7BIPQZbC1I",
        "colab_type": "code",
        "colab": {
          "base_uri": "https://localhost:8080/",
          "height": 119
        },
        "outputId": "a5b0a7c9-981a-487c-ee6b-59e5a045e924"
      },
      "cell_type": "code",
      "source": [
        "city_temperature.isnull().sum(axis=0) # column missing values"
      ],
      "execution_count": 25,
      "outputs": [
        {
          "output_type": "execute_result",
          "data": {
            "text/plain": [
              "City    0\n",
              "Jan     0\n",
              "Feb     0\n",
              "Mar     0\n",
              "Apr     2\n",
              "dtype: int64"
            ]
          },
          "metadata": {
            "tags": []
          },
          "execution_count": 25
        }
      ]
    },
    {
      "metadata": {
        "id": "JLIKRMFMbMm2",
        "colab_type": "code",
        "colab": {
          "base_uri": "https://localhost:8080/",
          "height": 102
        },
        "outputId": "2a01180a-b98d-409b-8213-a911c18c0d99"
      },
      "cell_type": "code",
      "source": [
        "city_temperature.isnull().sum(axis=1) # along the row"
      ],
      "execution_count": 28,
      "outputs": [
        {
          "output_type": "execute_result",
          "data": {
            "text/plain": [
              "0    0\n",
              "1    0\n",
              "2    1\n",
              "3    1\n",
              "dtype: int64"
            ]
          },
          "metadata": {
            "tags": []
          },
          "execution_count": 28
        }
      ]
    },
    {
      "metadata": {
        "id": "9DrbP3Phb9PL",
        "colab_type": "code",
        "colab": {}
      },
      "cell_type": "code",
      "source": [
        "# Zipping and unzipping data in python\n",
        "data = [(1,2,3),('a','v','d')]\n",
        "zipped = zip(*data)"
      ],
      "execution_count": 0,
      "outputs": []
    },
    {
      "metadata": {
        "id": "YJcYs0GYdPYB",
        "colab_type": "code",
        "colab": {
          "base_uri": "https://localhost:8080/",
          "height": 34
        },
        "outputId": "f810169f-1850-4571-b7c8-7e7e6c4ebb50"
      },
      "cell_type": "code",
      "source": [
        "print(zipped)"
      ],
      "execution_count": 31,
      "outputs": [
        {
          "output_type": "stream",
          "text": [
            "<zip object at 0x7efcc8dde988>\n"
          ],
          "name": "stdout"
        }
      ]
    },
    {
      "metadata": {
        "id": "lRxDemisdRJa",
        "colab_type": "code",
        "colab": {
          "base_uri": "https://localhost:8080/",
          "height": 34
        },
        "outputId": "5b3fbe49-41fd-43eb-c11d-c18ddfd3901c"
      },
      "cell_type": "code",
      "source": [
        "# In python I can use the print + join to make a string\n",
        "row = [1, 'happy','go','lucky']\n",
        "sent =','.join(str(x) for x in row)\n",
        "print(sent)"
      ],
      "execution_count": 34,
      "outputs": [
        {
          "output_type": "stream",
          "text": [
            "1,happy,go,lucky\n"
          ],
          "name": "stdout"
        }
      ]
    },
    {
      "metadata": {
        "id": "6IvhT2d2fcnS",
        "colab_type": "code",
        "colab": {
          "base_uri": "https://localhost:8080/",
          "height": 34
        },
        "outputId": "675a1e76-4ab8-4b39-b0d4-549111dcbae2"
      },
      "cell_type": "code",
      "source": [
        "# In python I can also do the same using the print function\n",
        "print(*row , sep=',')"
      ],
      "execution_count": 35,
      "outputs": [
        {
          "output_type": "stream",
          "text": [
            "1,happy,go,lucky\n"
          ],
          "name": "stdout"
        }
      ]
    },
    {
      "metadata": {
        "id": "6XJhILMIfsag",
        "colab_type": "code",
        "colab": {}
      },
      "cell_type": "code",
      "source": [
        "# check if string contains only unique characters\n",
        "def check_if_unique(str):\n",
        "    return len(set(str))== len(str)\n",
        "\n",
        "# method 2\n",
        "def check_if_unique1(str):\n",
        "    unique_str =''\n",
        "    for char in str:\n",
        "      if char in unique_str:\n",
        "          return False\n",
        "      else:\n",
        "          unique_str +=char\n",
        "    return True   "
      ],
      "execution_count": 0,
      "outputs": []
    },
    {
      "metadata": {
        "id": "haM-MMw9gMjz",
        "colab_type": "code",
        "colab": {
          "base_uri": "https://localhost:8080/",
          "height": 34
        },
        "outputId": "07f2f99e-1c6f-4a53-f76e-b853bad53fa9"
      },
      "cell_type": "code",
      "source": [
        "string = 'Amirban'\n",
        "check_if_unique(string)"
      ],
      "execution_count": 46,
      "outputs": [
        {
          "output_type": "execute_result",
          "data": {
            "text/plain": [
              "True"
            ]
          },
          "metadata": {
            "tags": []
          },
          "execution_count": 46
        }
      ]
    },
    {
      "metadata": {
        "id": "bTwJlpopq5dC",
        "colab_type": "code",
        "colab": {
          "base_uri": "https://localhost:8080/",
          "height": 34
        },
        "outputId": "a144bfa7-3b4c-4b6d-b458-ffa3e4281667"
      },
      "cell_type": "code",
      "source": [
        "check_if_unique1(string)"
      ],
      "execution_count": 47,
      "outputs": [
        {
          "output_type": "execute_result",
          "data": {
            "text/plain": [
              "True"
            ]
          },
          "metadata": {
            "tags": []
          },
          "execution_count": 47
        }
      ]
    },
    {
      "metadata": {
        "id": "qIejb4zUq_2O",
        "colab_type": "code",
        "colab": {}
      },
      "cell_type": "code",
      "source": [
        "# Check if two strings are anagram\n",
        "# a anagram are two strings having exactly the same number of letters\n",
        "# example : pass , ssap\n",
        "\n",
        "def check_letters(str1):\n",
        "  counter = {} # dict\n",
        "  for s in str1:\n",
        "    if s in counter:\n",
        "      counter[s] +=1\n",
        "    else :\n",
        "      counter[s]=1\n",
        "  return counter \n",
        "  \n",
        "def check_anagram(str1,str2):\n",
        "    str1 =str1.lower().replace(' ','')\n",
        "    str2 =str2.lower().replace(' ','')\n",
        "    counter1 = check_letters(str1)\n",
        "    print(counter1)\n",
        "    \n",
        "    counter2 = check_letters(str2)\n",
        "    print(counter2)\n",
        "    for letter in counter1:\n",
        "      if letter in counter2:\n",
        "        if counter1[letter] != counter2[letter] :\n",
        "            return False\n",
        "      else:\n",
        "          return False\n",
        "    return True "
      ],
      "execution_count": 0,
      "outputs": []
    },
    {
      "metadata": {
        "id": "nTOQcVHEvvme",
        "colab_type": "code",
        "colab": {
          "base_uri": "https://localhost:8080/",
          "height": 68
        },
        "outputId": "60fe648e-97a4-43ba-94c9-e6e131f7f4f8"
      },
      "cell_type": "code",
      "source": [
        "string1 = 'pass'\n",
        "string2= 'pass'\n",
        "check_anagram(string1,string2)"
      ],
      "execution_count": 62,
      "outputs": [
        {
          "output_type": "stream",
          "text": [
            "{'p': 1, 'a': 1, 's': 2}\n",
            "{'p': 1, 'a': 1, 's': 2}\n"
          ],
          "name": "stdout"
        },
        {
          "output_type": "execute_result",
          "data": {
            "text/plain": [
              "True"
            ]
          },
          "metadata": {
            "tags": []
          },
          "execution_count": 62
        }
      ]
    },
    {
      "metadata": {
        "id": "tniORkXFwi2i",
        "colab_type": "code",
        "colab": {
          "base_uri": "https://localhost:8080/",
          "height": 34
        },
        "outputId": "35b2c8ca-8d64-4a04-bc34-ec3631df08dc"
      },
      "cell_type": "code",
      "source": [
        "string1 = 'google'\n",
        "print(sorted(string1))"
      ],
      "execution_count": 63,
      "outputs": [
        {
          "output_type": "stream",
          "text": [
            "['e', 'g', 'g', 'l', 'o', 'o']\n"
          ],
          "name": "stdout"
        }
      ]
    },
    {
      "metadata": {
        "id": "aPuBwPtcy-7i",
        "colab_type": "code",
        "colab": {}
      },
      "cell_type": "code",
      "source": [
        "# Counters in python\n",
        "# A counter is a container that stores the element as dictionary key and their counts as values\n",
        "from collections import Counter\n",
        "my_list = [1,2,1,2,3,2,3,2,4,2,42,1,5,2,3,1]"
      ],
      "execution_count": 0,
      "outputs": []
    },
    {
      "metadata": {
        "id": "oXwhXJSBwhPD",
        "colab_type": "code",
        "colab": {}
      },
      "cell_type": "code",
      "source": [
        "cnt = Counter(my_list)"
      ],
      "execution_count": 0,
      "outputs": []
    },
    {
      "metadata": {
        "id": "L4niR2gwwnR5",
        "colab_type": "code",
        "colab": {
          "base_uri": "https://localhost:8080/",
          "height": 34
        },
        "outputId": "35cfa49a-616b-4f42-d8a4-a22240f5ac01"
      },
      "cell_type": "code",
      "source": [
        "print(cnt)"
      ],
      "execution_count": 3,
      "outputs": [
        {
          "output_type": "stream",
          "text": [
            "Counter({2: 6, 1: 4, 3: 3, 4: 1, 42: 1, 5: 1})\n"
          ],
          "name": "stdout"
        }
      ]
    },
    {
      "metadata": {
        "id": "vq2Va5k0wpvd",
        "colab_type": "code",
        "colab": {}
      },
      "cell_type": "code",
      "source": [
        "#type Dictionary having format { element : count} where the element is the key and the count its value"
      ],
      "execution_count": 0,
      "outputs": []
    },
    {
      "metadata": {
        "id": "kzhKXE3Bw3A7",
        "colab_type": "code",
        "colab": {
          "base_uri": "https://localhost:8080/",
          "height": 34
        },
        "outputId": "3c85ab94-8db3-43d2-ba69-d5ef42b7fa96"
      },
      "cell_type": "code",
      "source": [
        "# I can use the same commands that I use for dictionary\n",
        "cnt.items()"
      ],
      "execution_count": 5,
      "outputs": [
        {
          "output_type": "execute_result",
          "data": {
            "text/plain": [
              "dict_items([(1, 4), (2, 6), (3, 3), (4, 1), (42, 1), (5, 1)])"
            ]
          },
          "metadata": {
            "tags": []
          },
          "execution_count": 5
        }
      ]
    },
    {
      "metadata": {
        "id": "MzWcHWggxCu-",
        "colab_type": "code",
        "colab": {
          "base_uri": "https://localhost:8080/",
          "height": 34
        },
        "outputId": "62ce1f3b-7981-4d0d-ad26-56ab97ab31bf"
      },
      "cell_type": "code",
      "source": [
        "cnt.keys() # elemnts in the list "
      ],
      "execution_count": 6,
      "outputs": [
        {
          "output_type": "execute_result",
          "data": {
            "text/plain": [
              "dict_keys([1, 2, 3, 4, 42, 5])"
            ]
          },
          "metadata": {
            "tags": []
          },
          "execution_count": 6
        }
      ]
    },
    {
      "metadata": {
        "id": "fuBpohAqxEWd",
        "colab_type": "code",
        "colab": {
          "base_uri": "https://localhost:8080/",
          "height": 34
        },
        "outputId": "f12b7942-4e8a-4b55-ea97-657943e76a49"
      },
      "cell_type": "code",
      "source": [
        "cnt.values() # gives the count of the elements"
      ],
      "execution_count": 7,
      "outputs": [
        {
          "output_type": "execute_result",
          "data": {
            "text/plain": [
              "dict_values([4, 6, 3, 1, 1, 1])"
            ]
          },
          "metadata": {
            "tags": []
          },
          "execution_count": 7
        }
      ]
    },
    {
      "metadata": {
        "id": "1PjY7V2lxMqw",
        "colab_type": "code",
        "colab": {
          "base_uri": "https://localhost:8080/",
          "height": 34
        },
        "outputId": "3d99d277-9f7e-4156-f9dd-753047e2878a"
      },
      "cell_type": "code",
      "source": [
        "line = input().split()\n",
        "  \n",
        "           "
      ],
      "execution_count": 12,
      "outputs": [
        {
          "output_type": "stream",
          "text": [
            "5 6 7 8 9 10 12\n"
          ],
          "name": "stdout"
        }
      ]
    },
    {
      "metadata": {
        "id": "4FceKhIQxFng",
        "colab_type": "code",
        "colab": {
          "base_uri": "https://localhost:8080/",
          "height": 34
        },
        "outputId": "889f9e0e-1b07-4d3c-e187-6911a668e70e"
      },
      "cell_type": "code",
      "source": [
        "line"
      ],
      "execution_count": 13,
      "outputs": [
        {
          "output_type": "execute_result",
          "data": {
            "text/plain": [
              "['5', '6', '7', '8', '9', '10', '12']"
            ]
          },
          "metadata": {
            "tags": []
          },
          "execution_count": 13
        }
      ]
    },
    {
      "metadata": {
        "id": "_GSdO4OMzsYF",
        "colab_type": "code",
        "colab": {}
      },
      "cell_type": "code",
      "source": [
        "line_int = list(map(int , line))"
      ],
      "execution_count": 0,
      "outputs": []
    },
    {
      "metadata": {
        "id": "x_OCATwLzyH4",
        "colab_type": "code",
        "colab": {
          "base_uri": "https://localhost:8080/",
          "height": 34
        },
        "outputId": "16f23355-8235-4670-f033-e7b4c4cfceb4"
      },
      "cell_type": "code",
      "source": [
        "line_int"
      ],
      "execution_count": 22,
      "outputs": [
        {
          "output_type": "execute_result",
          "data": {
            "text/plain": [
              "[5, 6, 7, 8, 9, 10, 12]"
            ]
          },
          "metadata": {
            "tags": []
          },
          "execution_count": 22
        }
      ]
    },
    {
      "metadata": {
        "id": "N-qYXfGNz0AB",
        "colab_type": "code",
        "colab": {
          "base_uri": "https://localhost:8080/",
          "height": 34
        },
        "outputId": "198f3fb0-7b57-462f-d831-41310f6a0e3d"
      },
      "cell_type": "code",
      "source": [
        "print(sum(line_int))"
      ],
      "execution_count": 23,
      "outputs": [
        {
          "output_type": "stream",
          "text": [
            "57\n"
          ],
          "name": "stdout"
        }
      ]
    },
    {
      "metadata": {
        "id": "fdn9fnV40yFm",
        "colab_type": "text"
      },
      "cell_type": "markdown",
      "source": [
        "# Problem\n",
        "Get the number of customers and their purchases\n",
        "use counter"
      ]
    },
    {
      "metadata": {
        "id": "uzJguTuY0A87",
        "colab_type": "code",
        "colab": {
          "base_uri": "https://localhost:8080/",
          "height": 34
        },
        "outputId": "9b83d0a8-f76e-4fe7-9478-04453818e1f5"
      },
      "cell_type": "code",
      "source": [
        "from collections import Counter\n",
        "numShoes = int(input())"
      ],
      "execution_count": 48,
      "outputs": [
        {
          "output_type": "stream",
          "text": [
            "10\n"
          ],
          "name": "stdout"
        }
      ]
    },
    {
      "metadata": {
        "id": "LwRO2E0G0ETi",
        "colab_type": "code",
        "colab": {
          "base_uri": "https://localhost:8080/",
          "height": 51
        },
        "outputId": "60aad372-1a55-446b-9cfe-f0a9d90792d9"
      },
      "cell_type": "code",
      "source": [
        "shoes = Counter(map(int, input().split()))\n",
        "numCust = int(input())\n"
      ],
      "execution_count": 49,
      "outputs": [
        {
          "output_type": "stream",
          "text": [
            "10 2 1 2 5 5 1 10 5 4 2 1 10 7\n",
            "5\n"
          ],
          "name": "stdout"
        }
      ]
    },
    {
      "metadata": {
        "id": "vliKHDFt9-8x",
        "colab_type": "code",
        "colab": {
          "base_uri": "https://localhost:8080/",
          "height": 34
        },
        "outputId": "fc6376d3-fac3-463c-f398-e409f707eb97"
      },
      "cell_type": "code",
      "source": [
        "shoes"
      ],
      "execution_count": 50,
      "outputs": [
        {
          "output_type": "execute_result",
          "data": {
            "text/plain": [
              "Counter({1: 3, 2: 3, 4: 1, 5: 3, 7: 1, 10: 3})"
            ]
          },
          "metadata": {
            "tags": []
          },
          "execution_count": 50
        }
      ]
    },
    {
      "metadata": {
        "id": "ohN24Pm-2rjt",
        "colab_type": "code",
        "colab": {
          "base_uri": "https://localhost:8080/",
          "height": 170
        },
        "outputId": "6c343318-2ca8-47c5-d90c-a3f80b4521d5"
      },
      "cell_type": "code",
      "source": [
        "income = 0\n",
        "\n",
        "for i in range(numCust):\n",
        "    size, price = map(int, input().split())\n",
        "    if shoes[size]: \n",
        "        print('shoes[size]' , shoes[size])\n",
        "        income += price\n",
        "        #shoes[size] -= 1\n",
        "        print('income',income)\n",
        "        print('Shoe of size decremented' , shoes[size])\n",
        "\n",
        "print(income)"
      ],
      "execution_count": 57,
      "outputs": [
        {
          "output_type": "stream",
          "text": [
            "10  3\n",
            "7  1\n",
            "1  3\n",
            "shoes[size] 2\n",
            "income 3\n",
            "Shoe of size decremented 2\n",
            "2  3\n",
            "2  3\n",
            "3\n"
          ],
          "name": "stdout"
        }
      ]
    },
    {
      "metadata": {
        "id": "y2vhRk2dGjvw",
        "colab_type": "code",
        "colab": {
          "base_uri": "https://localhost:8080/",
          "height": 850
        },
        "outputId": "117cfa7f-e8ed-40cb-b838-2e62c449347a"
      },
      "cell_type": "code",
      "source": [
        "numCust=15\n",
        "income = 0\n",
        "my_list =[1,2,1,1,2,1,2,3,1,5,4,5,1,5,3,4,]\n",
        "shoes = Counter(my_list)\n",
        "print(shoes)\n",
        "for i in range(numCust):\n",
        "    size, price = map(int, input().split())\n",
        "    if shoes[size]: \n",
        "        print('shoes[size]' , shoes[size])\n",
        "        income += price\n",
        "        shoes[size] -= 1\n",
        "        print('price',price)\n",
        "        print('income',income)\n",
        "        print('Shoe of size decremented' , shoes[size])\n",
        "\n",
        "print(income)"
      ],
      "execution_count": 65,
      "outputs": [
        {
          "output_type": "stream",
          "text": [
            "Counter({1: 6, 2: 3, 5: 3, 3: 2, 4: 2})\n",
            "4 2\n",
            "shoes[size] 2\n",
            "price 2\n",
            "income 2\n",
            "Shoe of size decremented 1\n",
            "1 6\n",
            "shoes[size] 6\n",
            "price 6\n",
            "income 8\n",
            "Shoe of size decremented 5\n",
            "3 2\n",
            "shoes[size] 2\n",
            "price 2\n",
            "income 10\n",
            "Shoe of size decremented 1\n",
            "3 5\n",
            "shoes[size] 1\n",
            "price 5\n",
            "income 15\n",
            "Shoe of size decremented 0\n",
            "4 2\n",
            "shoes[size] 1\n",
            "price 2\n",
            "income 17\n",
            "Shoe of size decremented 0\n",
            "18 5\n",
            "19 5\n",
            "2 1\n",
            "shoes[size] 3\n",
            "price 1\n",
            "income 18\n",
            "Shoe of size decremented 2\n",
            "2 3\n",
            "shoes[size] 2\n",
            "price 3\n",
            "income 21\n",
            "Shoe of size decremented 1\n",
            "2 3\n",
            "shoes[size] 1\n",
            "price 3\n",
            "income 24\n",
            "Shoe of size decremented 0\n",
            "3 2\n",
            "7 5\n",
            "7 5\n",
            "7 5\n",
            "7 5\n",
            "24\n"
          ],
          "name": "stdout"
        }
      ]
    },
    {
      "metadata": {
        "id": "Scf8vFWME30r",
        "colab_type": "code",
        "colab": {}
      },
      "cell_type": "code",
      "source": [
        ""
      ],
      "execution_count": 0,
      "outputs": []
    }
  ]
}