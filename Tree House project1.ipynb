{
 "cells": [
  {
   "cell_type": "code",
   "execution_count": 4,
   "metadata": {
    "collapsed": true
   },
   "outputs": [],
   "source": [
    " import csv\n"
   ]
  },
  {
   "cell_type": "code",
   "execution_count": 14,
   "metadata": {},
   "outputs": [],
   "source": [
    "# define a function ton read the data from excel\n",
    "\n",
    "def read_csv(filename):\n",
    "    with open (filename, 'r')as file:\n",
    "        player_list=csv.DictReader(file)\n",
    "        player_data=list(player_list)\n",
    "    return player_data\n",
    "# read the csv output is a dictionary\n",
    "player_data = read_csv('soccer_players.csv')\n",
    "\n",
    "# sort the experienced and the inexperienced players\n",
    "exp_players = []\n",
    "no_exp_players = []\n",
    "for row in player_data:\n",
    "    if row['Soccer Experience']=='YES':\n",
    "        exp_players.append(row)\n",
    "    else:\n",
    "        no_exp_players.append(row)\n",
    "#split the experience and not experienced players onto theie teams\n",
    "\n",
    "no_exp1=no_exp_players[:3]\n",
    "no_exp2=no_exp_players[3:6]\n",
    "no_exp3=no_exp_players[:9]\n",
    "exp1=exp_players[:3]\n",
    "exp2=exp_players[3:6]\n",
    "exp3=exp_players[:6]\n",
    "sharks = no_exp1+exp1\n",
    "raptors = no_exp2+exp2\n",
    "dragons= no_exp3+exp3\n",
    "\n",
    "with open(\"teams1.txt\" , 'w') as file :\n",
    "    file.write(\"Sharks\\n\")\n",
    "    for player in sharks:\n",
    "        file.write(\"{Name}, {Soccer Experience}, \"\n",
    "            \"{Guardian Name(s)}\\n\".format(**player))"
   ]
  },
  {
   "cell_type": "code",
   "execution_count": null,
   "metadata": {},
   "outputs": [],
   "source": []
  },
  {
   "cell_type": "code",
   "execution_count": null,
   "metadata": {
    "collapsed": true
   },
   "outputs": [],
   "source": []
  },
  {
   "cell_type": "code",
   "execution_count": null,
   "metadata": {
    "collapsed": true
   },
   "outputs": [],
   "source": []
  },
  {
   "cell_type": "code",
   "execution_count": null,
   "metadata": {
    "collapsed": true
   },
   "outputs": [],
   "source": []
  }
 ],
 "metadata": {
  "kernelspec": {
   "display_name": "Python 3",
   "language": "python",
   "name": "python3"
  },
  "language_info": {
   "codemirror_mode": {
    "name": "ipython",
    "version": 3
   },
   "file_extension": ".py",
   "mimetype": "text/x-python",
   "name": "python",
   "nbconvert_exporter": "python",
   "pygments_lexer": "ipython3",
   "version": "3.6.3"
  }
 },
 "nbformat": 4,
 "nbformat_minor": 2
}
