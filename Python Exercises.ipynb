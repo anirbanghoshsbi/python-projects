{
 "cells": [
  {
   "cell_type": "code",
   "execution_count": 1,
   "metadata": {
    "collapsed": true
   },
   "outputs": [],
   "source": [
    "#Create a Simple Dictionary\n",
    "dicti={'a':1,'b':2,'c':3,'d':4 }"
   ]
  },
  {
   "cell_type": "code",
   "execution_count": 2,
   "metadata": {
    "collapsed": true
   },
   "outputs": [],
   "source": [
    "d=dict(land='terrain' , who ='me' , them= 'us')"
   ]
  },
  {
   "cell_type": "code",
   "execution_count": null,
   "metadata": {
    "collapsed": true
   },
   "outputs": [],
   "source": []
  },
  {
   "cell_type": "code",
   "execution_count": 3,
   "metadata": {},
   "outputs": [
    {
     "name": "stdout",
     "output_type": "stream",
     "text": [
      "{'a': 1, 'b': 2, 'c': 3, 'd': 4}\n"
     ]
    }
   ],
   "source": [
    "print(dicti)"
   ]
  },
  {
   "cell_type": "code",
   "execution_count": null,
   "metadata": {
    "collapsed": true
   },
   "outputs": [],
   "source": []
  },
  {
   "cell_type": "code",
   "execution_count": 4,
   "metadata": {},
   "outputs": [
    {
     "name": "stdout",
     "output_type": "stream",
     "text": [
      "4\n"
     ]
    }
   ],
   "source": [
    "# The code to print the value associated with the key \n",
    "print(dicti['d'])"
   ]
  },
  {
   "cell_type": "code",
   "execution_count": 5,
   "metadata": {},
   "outputs": [
    {
     "name": "stdout",
     "output_type": "stream",
     "text": [
      "1\n"
     ]
    }
   ],
   "source": [
    "# Second Example of printing the value associated with the key\n",
    "print(dicti['a'])"
   ]
  },
  {
   "cell_type": "code",
   "execution_count": 6,
   "metadata": {},
   "outputs": [
    {
     "name": "stdout",
     "output_type": "stream",
     "text": [
      "3\n"
     ]
    }
   ],
   "source": [
    "#Calculate the values associated with the keys a and b\n",
    "#First I need to get access to the values of the key a and b:\n",
    "x=dicti['a']\n",
    "y=dicti['b']\n",
    "z=x+y\n",
    "print(z)"
   ]
  },
  {
   "cell_type": "code",
   "execution_count": 7,
   "metadata": {},
   "outputs": [
    {
     "name": "stdout",
     "output_type": "stream",
     "text": [
      "3\n"
     ]
    }
   ],
   "source": [
    "# Another way of doing the same thing.\n",
    "#I am calculating the values associated with the two keys of the dictionary but I  have reduhced the number of steps.\n",
    "print(dicti['a']+dicti['b'])"
   ]
  },
  {
   "cell_type": "code",
   "execution_count": 8,
   "metadata": {},
   "outputs": [
    {
     "name": "stdout",
     "output_type": "stream",
     "text": [
      "10\n"
     ]
    }
   ],
   "source": [
    "#Let me calulate the entire dictioinary value associate with the keys\n",
    "print(dicti['a']+dicti['b']+dicti['c']+dicti['d'])"
   ]
  },
  {
   "cell_type": "code",
   "execution_count": 9,
   "metadata": {},
   "outputs": [
    {
     "name": "stdout",
     "output_type": "stream",
     "text": [
      "2\n"
     ]
    }
   ],
   "source": [
    "#I can even substract the values associated with the keys of the dictionary\n",
    "print(dicti['a']+dicti['b']+dicti['c']-dicti['d'])"
   ]
  },
  {
   "cell_type": "code",
   "execution_count": 10,
   "metadata": {},
   "outputs": [
    {
     "name": "stdout",
     "output_type": "stream",
     "text": [
      "8\n"
     ]
    }
   ],
   "source": [
    "# Can I multiplt the values assocaited with th keys of the dictionary\n",
    "print(dicti['d']*dicti['b'])"
   ]
  },
  {
   "cell_type": "code",
   "execution_count": 11,
   "metadata": {},
   "outputs": [
    {
     "name": "stdout",
     "output_type": "stream",
     "text": [
      "4\n"
     ]
    }
   ],
   "source": [
    "# Can I divide them , yes , however I was getting float , so I converted it to integer\n",
    "print(int(dicti['d']/dicti['a']))"
   ]
  },
  {
   "cell_type": "code",
   "execution_count": 12,
   "metadata": {
    "collapsed": true
   },
   "outputs": [],
   "source": [
    "# I want to print out the surname in a dictionary. How do I do that.\n",
    "# Create a dictionary\n",
    "d={'first name':'Anirban','Surname':'Ghosh'}"
   ]
  },
  {
   "cell_type": "code",
   "execution_count": 13,
   "metadata": {},
   "outputs": [
    {
     "name": "stdout",
     "output_type": "stream",
     "text": [
      "Ghosh\n"
     ]
    }
   ],
   "source": [
    "# Now I want to print the surname given in the above dictionary\n",
    "print(d['Surname'])"
   ]
  },
  {
   "cell_type": "code",
   "execution_count": 14,
   "metadata": {
    "collapsed": true
   },
   "outputs": [],
   "source": [
    "# Adding new keys to the dictionary\n",
    "d={'a':1,'b':2,'c':3,'d':4}"
   ]
  },
  {
   "cell_type": "code",
   "execution_count": 15,
   "metadata": {
    "collapsed": true
   },
   "outputs": [],
   "source": [
    "#Now we would try and add a new key to this dictionary\n",
    "d['e']=5"
   ]
  },
  {
   "cell_type": "code",
   "execution_count": 16,
   "metadata": {},
   "outputs": [
    {
     "name": "stdout",
     "output_type": "stream",
     "text": [
      "{'a': 1, 'b': 2, 'c': 3, 'd': 4, 'e': 5}\n"
     ]
    }
   ],
   "source": [
    "# How to print a dictionary\n",
    "print(d)"
   ]
  },
  {
   "cell_type": "code",
   "execution_count": 17,
   "metadata": {},
   "outputs": [
    {
     "name": "stdout",
     "output_type": "stream",
     "text": [
      "15\n",
      "15\n"
     ]
    },
    {
     "data": {
      "text/plain": [
       "dict_values([1, 2, 3, 4, 5])"
      ]
     },
     "execution_count": 17,
     "metadata": {},
     "output_type": "execute_result"
    }
   ],
   "source": [
    "#Summing the values of a dictionary\n",
    "#How I do it\n",
    "print(d['a']+d['b']+d['c']+d['d']+d['e'])\n",
    "#More pythonic way of doing the same\n",
    "y=sum(d.values())\n",
    "print(sum(d.values()))\n",
    "(d.values())"
   ]
  },
  {
   "cell_type": "code",
   "execution_count": 18,
   "metadata": {},
   "outputs": [
    {
     "name": "stdout",
     "output_type": "stream",
     "text": [
      "Help on built-in function fromkeys:\n",
      "\n",
      "fromkeys(iterable, value=None, /) method of builtins.type instance\n",
      "    Returns a new dict with keys from iterable and values equal to value.\n",
      "\n"
     ]
    }
   ],
   "source": [
    "# Taking the methods availble with the dictionary\n",
    "help(d.fromkeys)"
   ]
  },
  {
   "cell_type": "code",
   "execution_count": 19,
   "metadata": {},
   "outputs": [
    {
     "name": "stdout",
     "output_type": "stream",
     "text": [
      "dict_items([('a', 1), ('b', 2), ('c', 3), ('d', 4)])\n",
      "dict_keys(['a', 'b', 'c', 'd'])\n",
      "dict_values([1, 2, 3, 4])\n"
     ]
    }
   ],
   "source": [
    "# Dictionary filtering\n",
    "d={'a':1,'b':2, 'c':3 ,'d':4}\n",
    "print(d.items())\n",
    "print(d.keys())\n",
    "print(d.values())\n"
   ]
  },
  {
   "cell_type": "code",
   "execution_count": 20,
   "metadata": {},
   "outputs": [
    {
     "name": "stdout",
     "output_type": "stream",
     "text": [
      "{'b': 2, 'c': 3, 'd': 4}\n",
      "{'b': 2, 'c': 3, 'd': 4}\n"
     ]
    }
   ],
   "source": [
    "# Dictionary Filtering\n",
    "d={'a':1,'b':2,'c':3,'d':4}\n",
    "# I am changing the dictionary here\n",
    "d=dict((key,value) for key , value in d.items() if value>1)\n",
    "print(d)\n",
    "print(d)"
   ]
  },
  {
   "cell_type": "code",
   "execution_count": 21,
   "metadata": {
    "collapsed": true
   },
   "outputs": [],
   "source": [
    "# Check if two dictionary are the same or not\n",
    "d={'a':1,'b':2,'c':3,'d':4}\n",
    "e={'a':1,'b':2,'c':3,'d':4}\n",
    "# I want to check if the two dictionaries are equal\n"
   ]
  },
  {
   "cell_type": "code",
   "execution_count": 22,
   "metadata": {},
   "outputs": [
    {
     "name": "stdout",
     "output_type": "stream",
     "text": [
      "{'c': 3, 'd': 4, 'e': 5, 'f': 6, 'g': 7}\n"
     ]
    }
   ],
   "source": [
    "d={'a':1,'b':2,'c':3,'d':4,'e':5,'f':6,'g':7}\n",
    "d=dict((key,value) for key ,value in d.items() if value >2)\n",
    "print(d)"
   ]
  },
  {
   "cell_type": "code",
   "execution_count": 23,
   "metadata": {},
   "outputs": [
    {
     "name": "stdout",
     "output_type": "stream",
     "text": [
      "[   ['spam', 'eggs', 'lumberjack', 'knights', 'ni'],\n",
      "    'spam',\n",
      "    'eggs',\n",
      "    'lumberjack',\n",
      "    'knights',\n",
      "    'ni']\n"
     ]
    }
   ],
   "source": [
    "import pprint\n",
    "stuff=['spam', 'eggs', 'lumberjack', 'knights', 'ni']\n",
    "stuff.insert(0, stuff[:])\n",
    "pp = pprint.PrettyPrinter(indent=4)\n",
    "pp.pprint(stuff)"
   ]
  },
  {
   "cell_type": "code",
   "execution_count": 24,
   "metadata": {
    "scrolled": true
   },
   "outputs": [
    {
     "name": "stdout",
     "output_type": "stream",
     "text": [
      "[['spam', 'eggs', 'lumberjack', 'knights', 'ni'],\n",
      " 'spam',\n",
      " 'eggs',\n",
      " 'lumberjack',\n",
      " 'knights',\n",
      " 'ni']\n"
     ]
    }
   ],
   "source": [
    "import pprint\n",
    "stuff =['spam', 'eggs', 'lumberjack', 'knights', 'ni']\n",
    "stuff.insert(0, stuff[:])\n",
    "pp = pprint.PrettyPrinter(indent=1)\n",
    "pp.pprint(stuff)"
   ]
  },
  {
   "cell_type": "code",
   "execution_count": 25,
   "metadata": {},
   "outputs": [
    {
     "name": "stdout",
     "output_type": "stream",
     "text": [
      "{'b': 2, 'c': 3, 'd': 4}\n"
     ]
    }
   ],
   "source": [
    "d={'a':1,'b':2,\"c\":3,\"d\":4}\n",
    "d=dict((key ,value) for key , value in d.items() if value>1)\n",
    "print (d)"
   ]
  },
  {
   "cell_type": "code",
   "execution_count": 26,
   "metadata": {},
   "outputs": [
    {
     "name": "stdout",
     "output_type": "stream",
     "text": [
      "b has value 2\n",
      "c has value 3\n",
      "d has value 4\n"
     ]
    }
   ],
   "source": [
    "for key,value in d.items() :\n",
    "    print (key , 'has value', value)"
   ]
  },
  {
   "cell_type": "code",
   "execution_count": null,
   "metadata": {
    "collapsed": true
   },
   "outputs": [],
   "source": []
  },
  {
   "cell_type": "code",
   "execution_count": 27,
   "metadata": {},
   "outputs": [
    {
     "name": "stdout",
     "output_type": "stream",
     "text": [
      "{'a': [1, 2, 3, 4, 5, 6, 7, 8, 9, 10], 'b': [11, 12, 13, 14, 15, 16, 17, 18, 19, 20], 'c': [21, 22, 23, 24, 25, 26, 27, 28, 29, 30]}\n",
      "{'a': [1, 2, 3, 4, 5, 6, 7, 8, 9, 10],\n",
      " 'b': [11, 12, 13, 14, 15, 16, 17, 18, 19, 20],\n",
      " 'c': [21, 22, 23, 24, 25, 26, 27, 28, 29, 30]}\n"
     ]
    }
   ],
   "source": [
    "from pprint import pprint\n",
    "d=dict(a=list(range(1,11)),b=list(range(11,21)),c=list(range(21,31)))\n",
    "print(d)\n",
    "pprint(d)"
   ]
  },
  {
   "cell_type": "code",
   "execution_count": 28,
   "metadata": {},
   "outputs": [
    {
     "name": "stdout",
     "output_type": "stream",
     "text": [
      "{'a': [1, 2, 3, 4, 5, 6, 7, 8, 9, 10], 'b': [11, 12, 13, 14, 15, 16, 17, 18, 19, 20], 'c': [21, 22, 23, 24, 25, 26, 27, 28, 29, 30]}\n",
      "{'a': [1, 2, 3, 4, 5, 6, 7, 8, 9, 10],\n",
      "'b': [11, 12, 13, 14, 15, 16, 17, 18, 19, 20],\n",
      "'c': [21, 22, 23, 24, 25, 26, 27, 28, 29, 30]}\n"
     ]
    }
   ],
   "source": [
    "import pprint\n",
    "d=dict(a=list(range(1,11)),b=list(range(11,21)),c=list(range(21,31)))\n",
    "print(d)\n",
    "pp=pprint.PrettyPrinter(indent=0)\n",
    "pp.pprint(d)"
   ]
  },
  {
   "cell_type": "code",
   "execution_count": null,
   "metadata": {
    "collapsed": true
   },
   "outputs": [],
   "source": []
  },
  {
   "cell_type": "code",
   "execution_count": 29,
   "metadata": {},
   "outputs": [
    {
     "name": "stdout",
     "output_type": "stream",
     "text": [
      "17\n"
     ]
    }
   ],
   "source": [
    "# print the third element of the second key that is 'b'\n",
    "print(d['b'][6])"
   ]
  },
  {
   "cell_type": "code",
   "execution_count": 30,
   "metadata": {},
   "outputs": [
    {
     "name": "stdout",
     "output_type": "stream",
     "text": [
      "a has value [1, 2, 3, 4, 5, 6, 7, 8, 9, 10]\n",
      "b has value [11, 12, 13, 14, 15, 16, 17, 18, 19, 20]\n",
      "c has value [21, 22, 23, 24, 25, 26, 27, 28, 29, 30]\n"
     ]
    }
   ],
   "source": [
    "# print then items in the dictionary\n",
    "for key , value in d.items():\n",
    "    print(key , 'has value',value)"
   ]
  },
  {
   "cell_type": "code",
   "execution_count": 31,
   "metadata": {},
   "outputs": [
    {
     "name": "stdout",
     "output_type": "stream",
     "text": [
      "a\n",
      "b\n",
      "c\n",
      "d\n",
      "e\n",
      "f\n",
      "g\n",
      "h\n",
      "i\n",
      "j\n",
      "k\n",
      "l\n",
      "m\n",
      "n\n",
      "o\n",
      "p\n",
      "q\n",
      "r\n",
      "s\n",
      "t\n",
      "u\n",
      "v\n",
      "w\n",
      "x\n",
      "y\n",
      "z\n"
     ]
    }
   ],
   "source": [
    "# print the english alphabets in a line vertically\n",
    "\n",
    "import string\n",
    "\n",
    "for letter in string.ascii_lowercase:\n",
    "    print(letter)\n",
    "    "
   ]
  },
  {
   "cell_type": "code",
   "execution_count": 32,
   "metadata": {},
   "outputs": [
    {
     "name": "stdout",
     "output_type": "stream",
     "text": [
      "a    b    c    d    e    f    g    h    i    j    k    l    m    n    o    p    q    r    s    t    u    v    w    x    y    z    "
     ]
    }
   ],
   "source": [
    "# To print the line horizontally use end with in the print statement\n",
    "import string\n",
    "\n",
    "for letter in string.ascii_lowercase:\n",
    "    print(letter ,'  ',  end=' ')\n",
    "    "
   ]
  },
  {
   "cell_type": "code",
   "execution_count": 33,
   "metadata": {},
   "outputs": [
    {
     "name": "stdout",
     "output_type": "stream",
     "text": [
      "1\n",
      "2\n",
      "3\n",
      "4\n",
      "5\n",
      "6\n",
      "7\n",
      "8\n",
      "9\n",
      "10\n"
     ]
    }
   ],
   "source": [
    "# print 1 to 10 vertically\n",
    "\n",
    "for i in range(1,11):\n",
    "    print(i)"
   ]
  },
  {
   "cell_type": "code",
   "execution_count": 34,
   "metadata": {},
   "outputs": [
    {
     "name": "stdout",
     "output_type": "stream",
     "text": [
      "1 2 3 4 5 6 7 8 9 10 "
     ]
    }
   ],
   "source": [
    "# print 1 to 10  horizontally\n",
    "\n",
    "for i in range(1,11):\n",
    "    print(i ,end=' ')"
   ]
  },
  {
   "cell_type": "code",
   "execution_count": 35,
   "metadata": {},
   "outputs": [
    {
     "name": "stdout",
     "output_type": "stream",
     "text": [
      "50\n"
     ]
    }
   ],
   "source": [
    "# The below code throws a error as the function has returned null and I tried to multiply it to 10\n",
    "def foo(a, b):\n",
    "    \n",
    "    return((a + b))\n",
    "    \n",
    "    \n",
    "x = foo(2, 3) * 10\n",
    "print(x)\n"
   ]
  },
  {
   "cell_type": "code",
   "execution_count": 36,
   "metadata": {},
   "outputs": [
    {
     "data": {
      "text/plain": [
       "50"
      ]
     },
     "execution_count": 36,
     "metadata": {},
     "output_type": "execute_result"
    }
   ],
   "source": [
    "# Here is the code that would work moral of the story all function needs to return something.\n",
    "\n",
    "def foo(a,b):\n",
    "    return (a+b)\n",
    "\n",
    "x= foo(2,3)*10\n",
    "x"
   ]
  },
  {
   "cell_type": "code",
   "execution_count": 37,
   "metadata": {},
   "outputs": [
    {
     "ename": "SyntaxError",
     "evalue": "non-default argument follows default argument (<ipython-input-37-2e80b53016c0>, line 2)",
     "output_type": "error",
     "traceback": [
      "\u001b[1;36m  File \u001b[1;32m\"<ipython-input-37-2e80b53016c0>\"\u001b[1;36m, line \u001b[1;32m2\u001b[0m\n\u001b[1;33m    def foo(a=2,b):\u001b[0m\n\u001b[1;37m           ^\u001b[0m\n\u001b[1;31mSyntaxError\u001b[0m\u001b[1;31m:\u001b[0m non-default argument follows default argument\n"
     ]
    }
   ],
   "source": [
    "# here is another code that throws an error \n",
    "def foo(a=2,b):\n",
    "    print(a+b)"
   ]
  },
  {
   "cell_type": "markdown",
   "metadata": {},
   "source": [
    "# I cannot pass a non-default argument before a default argument foo(a=2,b) here a=2 is a non default argument and b is a default argument. The order for a argument in a function is (default argument , non default argument)."
   ]
  },
  {
   "cell_type": "code",
   "execution_count": 38,
   "metadata": {},
   "outputs": [
    {
     "name": "stdout",
     "output_type": "stream",
     "text": [
      "4\n",
      "10\n"
     ]
    }
   ],
   "source": [
    "# check method\n",
    "def foo(b,a=2):\n",
    "    print(a+b)\n",
    "x= foo(2)\n",
    "x\n",
    "y=foo(2,8)\n",
    "y\n",
    "# the moment I passed the argument 8 I found that the a=2 has been overwritten by 8 as a=2 is an non-default argument."
   ]
  },
  {
   "cell_type": "code",
   "execution_count": 39,
   "metadata": {
    "scrolled": true
   },
   "outputs": [
    {
     "data": {
      "text/plain": [
       "3"
      ]
     },
     "execution_count": 39,
     "metadata": {},
     "output_type": "execute_result"
    }
   ],
   "source": [
    "# Why This function throws an error\n",
    "def foo(a=2,b=2):\n",
    "    return(a+b)\n",
    "x=foo() - 1    \n",
    "x    "
   ]
  },
  {
   "cell_type": "markdown",
   "metadata": {},
   "source": [
    "# A function always have an () at the end."
   ]
  },
  {
   "cell_type": "code",
   "execution_count": 40,
   "metadata": {},
   "outputs": [
    {
     "data": {
      "text/plain": [
       "3"
      ]
     },
     "execution_count": 40,
     "metadata": {},
     "output_type": "execute_result"
    }
   ],
   "source": [
    "# How to solve this error\n",
    "def foo(a=2,b=2):\n",
    "    return(a+b)\n",
    "x= foo()-1  \n",
    "x"
   ]
  },
  {
   "cell_type": "markdown",
   "metadata": {},
   "source": [
    "# Global Variable at the time of the call of the function the value in the function foo() is 3.\n",
    "This is what happens here:\n",
    "\n",
    "Line 1: c  is assigned 1.\n",
    "\n",
    "Line 2-3: We create a function which if executed will return the value of c .\n",
    "\n",
    "Line 4: c  is updated and is now equal to 3.\n",
    "\n",
    "Line 5: We tell the blueprint to print out the value of c  which is at the point where we call the function 3"
   ]
  },
  {
   "cell_type": "code",
   "execution_count": 41,
   "metadata": {},
   "outputs": [
    {
     "name": "stdout",
     "output_type": "stream",
     "text": [
      "3\n"
     ]
    }
   ],
   "source": [
    "c=1\n",
    "def foo():\n",
    "    return(c)\n",
    "c=3\n",
    "print(foo())"
   ]
  },
  {
   "cell_type": "markdown",
   "metadata": {},
   "source": [
    "# Local Variable example"
   ]
  },
  {
   "cell_type": "code",
   "execution_count": 42,
   "metadata": {},
   "outputs": [
    {
     "name": "stdout",
     "output_type": "stream",
     "text": [
      "2\n"
     ]
    }
   ],
   "source": [
    "c = 1\n",
    "def foo():\n",
    "    c = 2\n",
    "    return c\n",
    "c = 3\n",
    "print(foo())"
   ]
  },
  {
   "cell_type": "markdown",
   "metadata": {},
   "source": [
    "# Local Variable  to Global Variable ( it shows that d is not defined)...."
   ]
  },
  {
   "cell_type": "code",
   "execution_count": 43,
   "metadata": {
    "scrolled": true
   },
   "outputs": [
    {
     "name": "stdout",
     "output_type": "stream",
     "text": [
      "{'a': [1, 2, 3, 4, 5, 6, 7, 8, 9, 10], 'b': [11, 12, 13, 14, 15, 16, 17, 18, 19, 20], 'c': [21, 22, 23, 24, 25, 26, 27, 28, 29, 30]}\n"
     ]
    }
   ],
   "source": [
    "def foo():\n",
    "    d=2\n",
    "    return d\n",
    "foo()\n",
    "print(d)"
   ]
  },
  {
   "cell_type": "code",
   "execution_count": 44,
   "metadata": {},
   "outputs": [
    {
     "name": "stdout",
     "output_type": "stream",
     "text": [
      "2\n"
     ]
    }
   ],
   "source": [
    "# The solution for the above problem (I used d as local variable)\n",
    "def foo():\n",
    "    d=2\n",
    "    return d\n",
    "print(foo())"
   ]
  },
  {
   "cell_type": "code",
   "execution_count": 45,
   "metadata": {},
   "outputs": [
    {
     "name": "stdout",
     "output_type": "stream",
     "text": [
      "2\n"
     ]
    }
   ],
   "source": [
    "# Another way to fix the above issue is to use global variable\n",
    "def foo():\n",
    "    global d\n",
    "    d=2\n",
    "    return d\n",
    "foo()\n",
    "print(d)"
   ]
  },
  {
   "cell_type": "code",
   "execution_count": 46,
   "metadata": {},
   "outputs": [
    {
     "name": "stdout",
     "output_type": "stream",
     "text": [
      "['1', '2', '3', '4', '5', '6', '7', '8', '9', '10'] This is a List\n",
      "<class 'list'> This is the class of y\n",
      "<class 'str'> This is the class of x\n"
     ]
    }
   ],
   "source": [
    "# A  String was converted to a list using split and \" \"\n",
    "x='1,2,3,4,5,6,7,8,9,10'\n",
    "y=x.split(',')\n",
    "print(y , \"This is a List\")\n",
    "print(type(y) , \"This is the class of y\")\n",
    "print(type(x) , \"This is the class of x\")"
   ]
  },
  {
   "cell_type": "code",
   "execution_count": 47,
   "metadata": {},
   "outputs": [
    {
     "name": "stdout",
     "output_type": "stream",
     "text": [
      "['Anir', 'ban', 'is', 'the', 'boss'] <class 'list'>\n"
     ]
    }
   ],
   "source": [
    "# let me try to convert more strings to list\n",
    "\n",
    "x='Anir ban is the boss'\n",
    "y=x.split(' ')\n",
    "print(y, type(y))\n"
   ]
  },
  {
   "cell_type": "code",
   "execution_count": 48,
   "metadata": {},
   "outputs": [
    {
     "name": "stdout",
     "output_type": "stream",
     "text": [
      "['Happy', 'go', 'lucky', 'is', 'the', 'new', 'normal']\n"
     ]
    }
   ],
   "source": [
    "'''Let me now take the example a bit higher and let me do a bit of string to list conversion'''\n",
    "x= 'Happy go lucky is the new normal'\n",
    "y=x.split()\n",
    "print(y)"
   ]
  },
  {
   "cell_type": "code",
   "execution_count": 49,
   "metadata": {},
   "outputs": [
    {
     "data": {
      "text/plain": [
       "['1', '2', '3', '4', '5', '6', '7', '8', '9']"
      ]
     },
     "execution_count": 49,
     "metadata": {},
     "output_type": "execute_result"
    }
   ],
   "source": [
    "'1 2 3 4 5 6 7 8 9'.split()"
   ]
  },
  {
   "cell_type": "code",
   "execution_count": 50,
   "metadata": {},
   "outputs": [
    {
     "name": "stdout",
     "output_type": "stream",
     "text": [
      "the number of words is 19\n",
      "the number of characters is 89\n"
     ]
    }
   ],
   "source": [
    "#based on the thing that I learnt till now let me count the number of words in the string\n",
    "\n",
    "x= '#based on the thing that I learnt till now let me count the number of words in the string'\n",
    "y=x.split()\n",
    "len=0\n",
    "for i in y:\n",
    "    len+=1\n",
    "print('the number of words is', len)\n",
    "len=0\n",
    "for i in x:\n",
    "    len+=1\n",
    "print('the number of characters is' , len) \n"
   ]
  },
  {
   "cell_type": "code",
   "execution_count": null,
   "metadata": {
    "collapsed": true
   },
   "outputs": [],
   "source": []
  },
  {
   "cell_type": "code",
   "execution_count": null,
   "metadata": {
    "collapsed": true
   },
   "outputs": [],
   "source": []
  },
  {
   "cell_type": "markdown",
   "metadata": {},
   "source": [
    "# Based on the above results I would like to program a python script that counts the number of words : The important learning here is that I can use split function on a string and convert it to list and then count the items in the list."
   ]
  },
  {
   "cell_type": "code",
   "execution_count": 51,
   "metadata": {},
   "outputs": [
    {
     "name": "stdout",
     "output_type": "stream",
     "text": [
      "20\n"
     ]
    }
   ],
   "source": [
    "#Example One\n",
    "x= '# Based on the above results I would like to program a python script that counts the number of words'\n",
    "y=x.split(' ')\n",
    "len=0\n",
    "for str in y:\n",
    "    len=len+1\n",
    "print(len)    "
   ]
  },
  {
   "cell_type": "code",
   "execution_count": 52,
   "metadata": {},
   "outputs": [
    {
     "name": "stdout",
     "output_type": "stream",
     "text": [
      "Please Enter a String to count the number of words in it.hi\n",
      "1\n",
      "['hi']\n"
     ]
    }
   ],
   "source": [
    "# Example Two\n",
    "x=(input(\"Please Enter a String to count the number of words in it.\"))\n",
    "y= x.split(' ')\n",
    "len=0\n",
    "for i in y :\n",
    "    len+=1\n",
    "print(len) \n",
    "print(y)"
   ]
  },
  {
   "cell_type": "markdown",
   "metadata": {
    "collapsed": true
   },
   "source": [
    "# This is an example of word counter using the functions and a word.txt file."
   ]
  },
  {
   "cell_type": "code",
   "execution_count": 53,
   "metadata": {},
   "outputs": [
    {
     "name": "stdout",
     "output_type": "stream",
     "text": [
      "The length of the String is\n",
      "191\n"
     ]
    }
   ],
   "source": [
    "''' I defined a function to read a file from the directory and read the same in a string and then converted it to a list and ran\n",
    "a for loop to find the lenght of the file which now is a list.'''\n",
    "\n",
    "\n",
    "def count_word(filename1):\n",
    "    with open(filename1 ,'r') as file:\n",
    "        strng=file.read()\n",
    "    strlen=strng.split(' ')\n",
    "    len=0\n",
    "    for i in strlen:\n",
    "            len+=1\n",
    "    print(\"The length of the String is\")\n",
    "    return(len)\n",
    "print(count_word(\"words1.txt\"))        "
   ]
  },
  {
   "cell_type": "code",
   "execution_count": 54,
   "metadata": {},
   "outputs": [
    {
     "name": "stdout",
     "output_type": "stream",
     "text": [
      "The number of words in the document is:\n",
      "192\n"
     ]
    }
   ],
   "source": [
    "# Doing the same thing in a bit different way\n",
    "def count_word(filename1):\n",
    "    with open(filename1,'r') as file :\n",
    "        strnglen=file.read()\n",
    "        strlist=strnglen.split()\n",
    "        len=0\n",
    "        for i in strlist :\n",
    "            len+=1\n",
    "    print('The number of words in the document is:' )\n",
    "    return(len)\n",
    "print(count_word('words1.txt'))\n",
    "            "
   ]
  },
  {
   "cell_type": "code",
   "execution_count": 55,
   "metadata": {},
   "outputs": [
    {
     "name": "stdout",
     "output_type": "stream",
     "text": [
      "The word document is ['\"Hi,it\\'s', 'me.\"Hemorrhoids,', 'also', 'called', 'piles,', 'are', 'vascular', 'structures', 'in', 'the', 'anal', 'canal.In', 'their', 'normal', 'state,', 'they', 'are', 'cushions', 'that', 'help', 'with', 'stool', 'control.They', 'become', 'a', 'disease', 'when', 'swollen', 'or', 'inflamed;', 'the', 'unqualified', 'term', '\"hemorrhoid\"', 'is', 'often', 'used', 'to', 'refer', 'to', 'the', 'disease.The', 'signs', 'and', 'symptoms', 'of', 'hemorrhoids', 'depend', 'on', 'the', 'type', 'present.[4]', 'Internal', 'hemorrhoids', 'are', 'usually', 'present', 'with', 'painless,', 'bright', 'red', 'rectal', 'bleeding', 'when', 'defecating.External', 'hemorrhoids', 'often', 'result', 'in', 'pain', 'and', 'swelling', 'in', 'the', 'area', 'of', 'the', 'anus.', 'If', 'bleeding', 'occurs', 'it', 'is', 'usually', 'darker.Symptoms', 'frequently', 'get', 'better', 'after', 'a', 'few', 'days.[3]', 'A', 'skin', 'tag', 'may', 'remain', 'after', 'the', 'healing', 'of', 'an', 'external', 'hemorrhoid.\\n\\nWhile', 'the', 'exact', 'cause', 'of', 'hemorrhoids', 'remains', 'unknown,', 'a', 'number', 'of', 'factors', 'which', 'increase', 'pressure', 'in', 'the', 'abdomen', 'are', 'believed', 'to', 'be', 'involved.This', 'may', 'include', 'constipation,', 'diarrhea,', 'and', 'sitting', 'on', 'the', 'toilet', 'for', 'a', 'long', 'time.', 'Hemorrhoids', 'are', 'also', 'more', 'common', 'during', 'pregnancy.', 'Diagnosis', 'is', 'made', 'by', 'looking', 'at', 'the', 'area.Many', 'people', 'incorrectly', 'refer', 'to', 'any', 'symptom', 'occurring', 'around', 'the', 'anal', 'area', 'as', '\"hemorrhoids\"', 'and', 'serious', 'causes', 'of', 'the', 'symptoms', 'should', 'be', 'ruled', 'out.Colonoscopy', 'or', 'sigmoidoscopy', 'is', 'reasonable', 'to', 'confirm', 'the', 'diagnosis', 'and', 'rule', 'out', 'more', 'serious', 'causes.']"
     ]
    }
   ],
   "source": [
    "# Now let me print the number of words in the word documents \n",
    "def count_word(filename1):\n",
    "     with open(filename1 , 'r') as file:\n",
    "            strlen=file.read()\n",
    "            strlist=strlen.split(' ')\n",
    "            return(strlist)\n",
    "print('The word document is', count_word('Words1.txt') , end='')        "
   ]
  },
  {
   "cell_type": "code",
   "execution_count": 56,
   "metadata": {},
   "outputs": [
    {
     "name": "stdout",
     "output_type": "stream",
     "text": [
      "['\"Hi,it\\'s', 'me.\"Hemorrhoids,', 'also', 'called', 'piles,', 'are', 'vascular', 'structures', 'in', 'the', 'anal', 'canal.In', 'their', 'normal', 'state,', 'they', 'are', 'cushions', 'that', 'help', 'with', 'stool', 'control.They', 'become', 'a', 'disease', 'when', 'swollen', 'or', 'inflamed;', 'the', 'unqualified', 'term', '\"hemorrhoid\"', 'is', 'often', 'used', 'to', 'refer', 'to', 'the', 'disease.The', 'signs', 'and', 'symptoms', 'of', 'hemorrhoids', 'depend', 'on', 'the', 'type', 'present.[4]', 'Internal', 'hemorrhoids', 'are', 'usually', 'present', 'with', 'painless,', 'bright', 'red', 'rectal', 'bleeding', 'when', 'defecating.External', 'hemorrhoids', 'often', 'result', 'in', 'pain', 'and', 'swelling', 'in', 'the', 'area', 'of', 'the', 'anus.', 'If', 'bleeding', 'occurs', 'it', 'is', 'usually', 'darker.Symptoms', 'frequently', 'get', 'better', 'after', 'a', 'few', 'days.[3]', 'A', 'skin', 'tag', 'may', 'remain', 'after', 'the', 'healing', 'of', 'an', 'external', 'hemorrhoid.\\n\\nWhile', 'the', 'exact', 'cause', 'of', 'hemorrhoids', 'remains', 'unknown,', 'a', 'number', 'of', 'factors', 'which', 'increase', 'pressure', 'in', 'the', 'abdomen', 'are', 'believed', 'to', 'be', 'involved.This', 'may', 'include', 'constipation,', 'diarrhea,', 'and', 'sitting', 'on', 'the', 'toilet', 'for', 'a', 'long', 'time.', 'Hemorrhoids', 'are', 'also', 'more', 'common', 'during', 'pregnancy.', 'Diagnosis', 'is', 'made', 'by', 'looking', 'at', 'the', 'area.Many', 'people', 'incorrectly', 'refer', 'to', 'any', 'symptom', 'occurring', 'around', 'the', 'anal', 'area', 'as', '\"hemorrhoids\"', 'and', 'serious', 'causes', 'of', 'the', 'symptoms', 'should', 'be', 'ruled', 'out.Colonoscopy', 'or', 'sigmoidoscopy', 'is', 'reasonable', 'to', 'confirm', 'the', 'diagnosis', 'and', 'rule', 'out', 'more', 'serious', 'causes.']"
     ]
    }
   ],
   "source": [
    "def count_words(filepath):\n",
    "    with open(filepath, 'r') as file:\n",
    "        strng = file.read()\n",
    "        strng_list = strng.split(\" \")\n",
    "        return (strng_list)\n",
    " \n",
    "print(count_words(\"words1.txt\") , end='')"
   ]
  },
  {
   "cell_type": "code",
   "execution_count": 57,
   "metadata": {
    "scrolled": true
   },
   "outputs": [
    {
     "name": "stdout",
     "output_type": "stream",
     "text": [
      "\"Hi,it's me.\"Hemorrhoids, also called piles, are vascular structures in the anal canal.In their normal state, they are cushions that help with stool control.They become a disease when swollen or inflamed; the unqualified term \"hemorrhoid\" is often used to refer to the disease.The signs and symptoms of hemorrhoids depend on the type present.[4] Internal hemorrhoids are usually present with painless, bright red rectal bleeding when defecating.External hemorrhoids often result in pain and swelling in the area of the anus. If bleeding occurs it is usually darker.Symptoms frequently get better after a few days.[3] A skin tag may remain after the healing of an external hemorrhoid.\n",
      "\n",
      "While the exact cause of hemorrhoids remains unknown, a number of factors which increase pressure in the abdomen are believed to be involved.This may include constipation, diarrhea, and sitting on the toilet for a long time. Hemorrhoids are also more common during pregnancy. Diagnosis is made by looking at the area.Many people incorrectly refer to any symptom occurring around the anal area as \"hemorrhoids\" and serious causes of the symptoms should be ruled out.Colonoscopy or sigmoidoscopy is reasonable to confirm the diagnosis and rule out more serious causes.\n",
      "['\"Hi', \"it's\", 'me', '\"Hemorrhoids', '', 'also', 'called', 'piles', '', 'are', 'vascular', 'structures', 'in', 'the', 'anal', 'canal', 'In', 'their', 'normal', 'state', '', 'they', 'are', 'cushions', 'that', 'help', 'with', 'stool', 'control', 'They', 'become', 'a', 'disease', 'when', 'swollen', 'or', 'inflamed;', 'the', 'unqualified', 'term', '\"hemorrhoid\"', 'is', 'often', 'used', 'to', 'refer', 'to', 'the', 'disease', 'The', 'signs', 'and', 'symptoms', 'of', 'hemorrhoids', 'depend', 'on', 'the', 'type', 'present', '[4]', 'Internal', 'hemorrhoids', 'are', 'usually', 'present', 'with', 'painless', '', 'bright', 'red', 'rectal', 'bleeding', 'when', 'defecating', 'External', 'hemorrhoids', 'often', 'result', 'in', 'pain', 'and', 'swelling', 'in', 'the', 'area', 'of', 'the', 'anus', '', 'If', 'bleeding', 'occurs', 'it', 'is', 'usually', 'darker', 'Symptoms', 'frequently', 'get', 'better', 'after', 'a', 'few', 'days', '[3]', 'A', 'skin', 'tag', 'may', 'remain', 'after', 'the', 'healing', 'of', 'an', 'external', 'hemorrhoid', '\\n\\nWhile', 'the', 'exact', 'cause', 'of', 'hemorrhoids', 'remains', 'unknown', '', 'a', 'number', 'of', 'factors', 'which', 'increase', 'pressure', 'in', 'the', 'abdomen', 'are', 'believed', 'to', 'be', 'involved', 'This', 'may', 'include', 'constipation', '', 'diarrhea', '', 'and', 'sitting', 'on', 'the', 'toilet', 'for', 'a', 'long', 'time', '', 'Hemorrhoids', 'are', 'also', 'more', 'common', 'during', 'pregnancy', '', 'Diagnosis', 'is', 'made', 'by', 'looking', 'at', 'the', 'area', 'Many', 'people', 'incorrectly', 'refer', 'to', 'any', 'symptom', 'occurring', 'around', 'the', 'anal', 'area', 'as', '\"hemorrhoids\"', 'and', 'serious', 'causes', 'of', 'the', 'symptoms', 'should', 'be', 'ruled', 'out', 'Colonoscopy', 'or', 'sigmoidoscopy', 'is', 'reasonable', 'to', 'confirm', 'the', 'diagnosis', 'and', 'rule', 'out', 'more', 'serious', 'causes', '']\n",
      "215\n"
     ]
    }
   ],
   "source": [
    "def count_word(filename1):\n",
    "    with open(filename1, 'r') as file:\n",
    "        strng=file.read()\n",
    "    print(strng)    \n",
    "    strng=strng.replace(',' , ' ')\n",
    "    strng=strng.replace('.' , ' ')\n",
    "    strlen=strng.split(' ')\n",
    "    print(strlen)\n",
    "    len=0\n",
    "    for i in strlen:\n",
    "        len+=1\n",
    "    return(len)\n",
    "print(count_word('words1.txt'))"
   ]
  },
  {
   "cell_type": "markdown",
   "metadata": {},
   "source": [
    "# Name Error : any built in funtion in python needs to be called before it is used"
   ]
  },
  {
   "cell_type": "code",
   "execution_count": 58,
   "metadata": {},
   "outputs": [
    {
     "name": "stdout",
     "output_type": "stream",
     "text": [
      "\"Hi,it's me.\"Hemorrhoids, also called piles, are vascular structures in the anal canal.In their normal state, they are cushions that help with stool control.They become a disease when swollen or inflamed; the unqualified term \"hemorrhoid\" is often used to refer to the disease.The signs and symptoms of hemorrhoids depend on the type present.[4] Internal hemorrhoids are usually present with painless, bright red rectal bleeding when defecating.External hemorrhoids often result in pain and swelling in the area of the anus. If bleeding occurs it is usually darker.Symptoms frequently get better after a few days.[3] A skin tag may remain after the healing of an external hemorrhoid.\n",
      "\n",
      "While the exact cause of hemorrhoids remains unknown, a number of factors which increase pressure in the abdomen are believed to be involved.This may include constipation, diarrhea, and sitting on the toilet for a long time. Hemorrhoids are also more common during pregnancy. Diagnosis is made by looking at the area.Many people incorrectly refer to any symptom occurring around the anal area as \"hemorrhoids\" and serious causes of the symptoms should be ruled out.Colonoscopy or sigmoidoscopy is reasonable to confirm the diagnosis and rule out more serious causes.\n",
      "['\"Hi,it\\'s', 'me.\"Hemorrhoids,', 'also', 'called', 'piles,', 'are', 'vascular', 'structures', 'in', 'the', 'anal', 'canal.In', 'their', 'normal', 'state,', 'they', 'are', 'cushions', 'that', 'help', 'with', 'stool', 'control.They', 'become', 'a', 'disease', 'when', 'swollen', 'or', 'inflamed;', 'the', 'unqualified', 'term', '\"hemorrhoid\"', 'is', 'often', 'used', 'to', 'refer', 'to', 'the', 'disease.The', 'signs', 'and', 'symptoms', 'of', 'hemorrhoids', 'depend', 'on', 'the', 'type', 'present.[4]', 'Internal', 'hemorrhoids', 'are', 'usually', 'present', 'with', 'painless,', 'bright', 'red', 'rectal', 'bleeding', 'when', 'defecating.External', 'hemorrhoids', 'often', 'result', 'in', 'pain', 'and', 'swelling', 'in', 'the', 'area', 'of', 'the', 'anus.', 'If', 'bleeding', 'occurs', 'it', 'is', 'usually', 'darker.Symptoms', 'frequently', 'get', 'better', 'after', 'a', 'few', 'days.[3]', 'A', 'skin', 'tag', 'may', 'remain', 'after', 'the', 'healing', 'of', 'an', 'external', 'hemorrhoid.\\n\\nWhile', 'the', 'exact', 'cause', 'of', 'hemorrhoids', 'remains', 'unknown,', 'a', 'number', 'of', 'factors', 'which', 'increase', 'pressure', 'in', 'the', 'abdomen', 'are', 'believed', 'to', 'be', 'involved.This', 'may', 'include', 'constipation,', 'diarrhea,', 'and', 'sitting', 'on', 'the', 'toilet', 'for', 'a', 'long', 'time.', 'Hemorrhoids', 'are', 'also', 'more', 'common', 'during', 'pregnancy.', 'Diagnosis', 'is', 'made', 'by', 'looking', 'at', 'the', 'area.Many', 'people', 'incorrectly', 'refer', 'to', 'any', 'symptom', 'occurring', 'around', 'the', 'anal', 'area', 'as', '\"hemorrhoids\"', 'and', 'serious', 'causes', 'of', 'the', 'symptoms', 'should', 'be', 'ruled', 'out.Colonoscopy', 'or', 'sigmoidoscopy', 'is', 'reasonable', 'to', 'confirm', 'the', 'diagnosis', 'and', 'rule', 'out', 'more', 'serious', 'causes.']\n"
     ]
    },
    {
     "data": {
      "text/plain": [
       "191"
      ]
     },
     "execution_count": 58,
     "metadata": {},
     "output_type": "execute_result"
    }
   ],
   "source": [
    "def count_word(filename1):\n",
    "    with open(filename1, 'r') as file :\n",
    "        strlen= file.read()\n",
    "        print(strlen)\n",
    "        strlen.replace('d;' ,' ; ')\n",
    "        strlen.replace(';' ,'  ')\n",
    "        strlen.replace('.' , '  ')\n",
    "        strlist=strlen.split(' ')\n",
    "        print(strlist)\n",
    "        len=0\n",
    "        for i in strlist:\n",
    "            len+=1\n",
    "    return(len)  \n",
    "count_word('words1.txt')"
   ]
  },
  {
   "cell_type": "code",
   "execution_count": null,
   "metadata": {
    "collapsed": true
   },
   "outputs": [],
   "source": []
  },
  {
   "cell_type": "code",
   "execution_count": 59,
   "metadata": {},
   "outputs": [
    {
     "data": {
      "text/plain": [
       "3.0"
      ]
     },
     "execution_count": 59,
     "metadata": {},
     "output_type": "execute_result"
    }
   ],
   "source": [
    "import math as math\n",
    "math.sqrt(9)"
   ]
  },
  {
   "cell_type": "code",
   "execution_count": 60,
   "metadata": {},
   "outputs": [
    {
     "data": {
      "text/plain": [
       "3.0"
      ]
     },
     "execution_count": 60,
     "metadata": {},
     "output_type": "execute_result"
    }
   ],
   "source": [
    "import math as mt\n",
    "mt.sqrt(9)"
   ]
  },
  {
   "cell_type": "code",
   "execution_count": 61,
   "metadata": {},
   "outputs": [
    {
     "data": {
      "text/plain": [
       "1.0986122886681098"
      ]
     },
     "execution_count": 61,
     "metadata": {},
     "output_type": "execute_result"
    }
   ],
   "source": [
    "mt.log(mt.sqrt(9))"
   ]
  },
  {
   "cell_type": "code",
   "execution_count": 62,
   "metadata": {},
   "outputs": [
    {
     "name": "stdout",
     "output_type": "stream",
     "text": [
      "0.7738906815578891\n",
      "-0.562453851238172\n"
     ]
    }
   ],
   "source": [
    "import math as math\n",
    "print(math.sin(70))\n",
    "print(math.cos(65))"
   ]
  },
  {
   "cell_type": "code",
   "execution_count": 63,
   "metadata": {},
   "outputs": [
    {
     "name": "stdout",
     "output_type": "stream",
     "text": [
      "['__doc__', '__loader__', '__name__', '__package__', '__spec__', 'acos', 'acosh', 'asin', 'asinh', 'atan', 'atan2', 'atanh', 'ceil', 'copysign', 'cos', 'cosh', 'degrees', 'e', 'erf', 'erfc', 'exp', 'expm1', 'fabs', 'factorial', 'floor', 'fmod', 'frexp', 'fsum', 'gamma', 'gcd', 'hypot', 'inf', 'isclose', 'isfinite', 'isinf', 'isnan', 'ldexp', 'lgamma', 'log', 'log10', 'log1p', 'log2', 'modf', 'nan', 'pi', 'pow', 'radians', 'sin', 'sinh', 'sqrt', 'tan', 'tanh', 'tau', 'trunc']\n"
     ]
    }
   ],
   "source": [
    "print(dir(math))"
   ]
  },
  {
   "cell_type": "code",
   "execution_count": 64,
   "metadata": {},
   "outputs": [
    {
     "data": {
      "text/plain": [
       "8.0"
      ]
     },
     "execution_count": 64,
     "metadata": {},
     "output_type": "execute_result"
    }
   ],
   "source": [
    "import math as math\n",
    "math.pow(2,3)"
   ]
  },
  {
   "cell_type": "code",
   "execution_count": 65,
   "metadata": {},
   "outputs": [
    {
     "data": {
      "text/plain": [
       "148.4131591025766"
      ]
     },
     "execution_count": 65,
     "metadata": {},
     "output_type": "execute_result"
    }
   ],
   "source": [
    "math.exp(5)"
   ]
  },
  {
   "cell_type": "code",
   "execution_count": 66,
   "metadata": {},
   "outputs": [
    {
     "name": "stdout",
     "output_type": "stream",
     "text": [
      "['__call__', '__class__', '__delattr__', '__dir__', '__doc__', '__eq__', '__format__', '__ge__', '__getattribute__', '__gt__', '__hash__', '__init__', '__init_subclass__', '__le__', '__lt__', '__module__', '__name__', '__ne__', '__new__', '__qualname__', '__reduce__', '__reduce_ex__', '__repr__', '__self__', '__setattr__', '__sizeof__', '__str__', '__subclasshook__', '__text_signature__']\n"
     ]
    }
   ],
   "source": [
    "print(dir(print))"
   ]
  },
  {
   "cell_type": "markdown",
   "metadata": {},
   "source": [
    "# create a file and write in it."
   ]
  },
  {
   "cell_type": "code",
   "execution_count": 67,
   "metadata": {
    "collapsed": true,
    "scrolled": true
   },
   "outputs": [],
   "source": [
    "import string as string\n",
    "with open('letter.txt' ,'w') as file:\n",
    "    for letters in string.ascii_lowercase:\n",
    "        file.write(letters )\n",
    "    "
   ]
  },
  {
   "cell_type": "code",
   "execution_count": 68,
   "metadata": {},
   "outputs": [
    {
     "name": "stdout",
     "output_type": "stream",
     "text": [
      "a b c d e f g h i j k l m n o p q r s t u v w x y z \n"
     ]
    }
   ],
   "source": [
    "import string as string\n",
    "with open('letternow.txt' , 'w') as file:\n",
    "    for letters in string.ascii_lowercase:\n",
    "        file.write(letters + ' ')\n",
    "with open('letternow.txt' , 'r') as file:\n",
    "     y=file.read()\n",
    "print(y)        "
   ]
  },
  {
   "cell_type": "code",
   "execution_count": 69,
   "metadata": {},
   "outputs": [
    {
     "name": "stdout",
     "output_type": "stream",
     "text": [
      "abcdefghijklmnopqrstuvwxyz\n"
     ]
    }
   ],
   "source": [
    "with open('letter.txt' ,'r') as file:\n",
    "    string1=file.read()\n",
    "print(string1)    "
   ]
  },
  {
   "cell_type": "markdown",
   "metadata": {},
   "source": [
    "# Create a file and write on it horizontally\n",
    "# and to print vertically file.write(letters  +'\\n')\n"
   ]
  },
  {
   "cell_type": "code",
   "execution_count": 70,
   "metadata": {
    "collapsed": true
   },
   "outputs": [],
   "source": [
    "import string as string\n",
    "with open('letternew.txt','w') as file:\n",
    "    for letters in string.ascii_uppercase:\n",
    "        file.write(letters +'    ')"
   ]
  },
  {
   "cell_type": "code",
   "execution_count": 71,
   "metadata": {},
   "outputs": [
    {
     "name": "stdout",
     "output_type": "stream",
     "text": [
      "A    B    C    D    E    F    G    H    I    J    K    L    M    N    O    P    Q    R    S    T    U    V    W    X    Y    Z    \n"
     ]
    }
   ],
   "source": [
    "with open('letternew.txt' , 'r') as file:\n",
    "        string1=file.read()\n",
    "print(string1)"
   ]
  },
  {
   "cell_type": "code",
   "execution_count": 72,
   "metadata": {},
   "outputs": [
    {
     "name": "stdout",
     "output_type": "stream",
     "text": [
      "A <class 'list'>\n",
      "B <class 'tuple'>\n"
     ]
    }
   ],
   "source": [
    "A=[1,2,3]\n",
    "print('A', type(A))\n",
    "B=(4,5,6)\n",
    "print('B' , type(B))"
   ]
  },
  {
   "cell_type": "markdown",
   "metadata": {},
   "source": [
    "# Iterating Through multiple Sequences  : Use of The ZIP function.\n",
    "# How Does the ZIP() function work? It is a function that takes in a iterables , aggregates the iterables and returns a tuple of iterators."
   ]
  },
  {
   "cell_type": "code",
   "execution_count": 73,
   "metadata": {},
   "outputs": [
    {
     "name": "stdout",
     "output_type": "stream",
     "text": [
      "I just zipped two iterable lists into one which is now a set {(1, 'one'), (3, 'three'), (2, 'two'), (4, 'four')}\n",
      "I just zipped two iterable lists into one which is now a list []\n",
      "I just zipped two iterable lists into one which is now a tuple ()\n",
      "I just zipped two iterable lists into one which is now a Dictionary {}\n"
     ]
    }
   ],
   "source": [
    "#Example of  ZIP() function\n",
    "#List\n",
    "numberlist=[1,2,3,4]\n",
    "#list\n",
    "numberlisttwo=['one','two','three','four']\n",
    "# Lets ZIP a iterable\n",
    "y=zip(numberlist,numberlisttwo)\n",
    "print('I just zipped two iterable lists into one which is now a set',set(y))\n",
    "print('I just zipped two iterable lists into one which is now a list', list(y))\n",
    "print('I just zipped two iterable lists into one which is now a tuple',tuple(y))\n",
    "print('I just zipped two iterable lists into one which is now a Dictionary', dict(y))\n",
    "\n"
   ]
  },
  {
   "cell_type": "code",
   "execution_count": 74,
   "metadata": {},
   "outputs": [
    {
     "name": "stdout",
     "output_type": "stream",
     "text": [
      "{1: 'four', 2: 'two', 3: 'three'}\n"
     ]
    }
   ],
   "source": [
    "# Let me try the iterable through the list and tuple\n",
    "#list\n",
    "numberlist=[1,2,3,4]\n",
    "#tupple\n",
    "numbertuple=('four','two','three')\n",
    "result= zip(numberlist , numbertuple)\n",
    "resultset=dict(result)\n",
    "print(resultset)"
   ]
  },
  {
   "cell_type": "code",
   "execution_count": 75,
   "metadata": {},
   "outputs": [
    {
     "name": "stdout",
     "output_type": "stream",
     "text": [
      "[(1, 'a', 1), (2, 'b', 4), (3, 'd', 5), (4, 'e', 6)]\n"
     ]
    },
    {
     "data": {
      "text/plain": [
       "list"
      ]
     },
     "execution_count": 75,
     "metadata": {},
     "output_type": "execute_result"
    }
   ],
   "source": [
    "# let me have three lists , tuple and zip it.\n",
    "numberlist=[1,2,3,4]\n",
    "numbertuple=('a','b','d','e')\n",
    "numberlist2=[1,4,5,6]\n",
    "result= zip(numberlist,numbertuple,numberlist2)\n",
    "resultset=list(result)\n",
    "print(resultset)\n",
    "type(resultset)"
   ]
  },
  {
   "cell_type": "markdown",
   "metadata": {},
   "source": [
    "# How to unzip a set to get a tuple"
   ]
  },
  {
   "cell_type": "code",
   "execution_count": 76,
   "metadata": {},
   "outputs": [
    {
     "name": "stdout",
     "output_type": "stream",
     "text": [
      "a (4, 7, 1)\n",
      "b (5, 8, 2)\n",
      "c (6, 9, 3)\n",
      "<class 'set'> <class 'tuple'>\n"
     ]
    }
   ],
   "source": [
    "s={(1,2,3),(4,5,6),(7,8,9)}\n",
    "a,b,c=zip(*s)\n",
    "print('a' , a)\n",
    "print('b' , b)\n",
    "print('c' ,c)\n",
    "print(type(s) ,type(a))"
   ]
  },
  {
   "cell_type": "code",
   "execution_count": 77,
   "metadata": {},
   "outputs": [
    {
     "name": "stdout",
     "output_type": "stream",
     "text": [
      "a <zip object at 0x000001F1F1F30F48>\n"
     ]
    }
   ],
   "source": [
    "s=dict(a=1,b=2,c=3)\n",
    "a=zip(*s)\n",
    "print('a' ,a)"
   ]
  },
  {
   "cell_type": "code",
   "execution_count": null,
   "metadata": {
    "collapsed": true
   },
   "outputs": [],
   "source": []
  },
  {
   "cell_type": "code",
   "execution_count": 78,
   "metadata": {},
   "outputs": [
    {
     "name": "stdout",
     "output_type": "stream",
     "text": [
      "{((1, 2), 1), ((4, 5), 2), ((7, 8), 3)}\n",
      "<class 'zip'>\n",
      "a= ((1, 2), (4, 5), (7, 8))\n",
      "b= (1, 2, 3)\n"
     ]
    }
   ],
   "source": [
    "#lets have a set\n",
    "strng={(1,2),(4,5),(7,8)}\n",
    "#strlist=strng.split(' ')\n",
    "tuplea=(1,2,3,4,5,6,87,8,9,10,11,12)\n",
    "result=zip(strng,tuplea)\n",
    "resultset=set(result)\n",
    "print(resultset)\n",
    "print(type(result))\n",
    "a,b=zip(*resultset)\n",
    "print('a=' , a)\n",
    "print('b=' , b)"
   ]
  },
  {
   "cell_type": "markdown",
   "metadata": {
    "collapsed": true
   },
   "source": [
    "# I am trying to type english alphabets in small case three in a line"
   ]
  },
  {
   "cell_type": "code",
   "execution_count": 79,
   "metadata": {},
   "outputs": [
    {
     "name": "stdout",
     "output_type": "stream",
     "text": [
      "adgjmpsvy\n",
      "behknqtwz\n",
      "cfilorux \n"
     ]
    }
   ],
   "source": [
    "import string\n",
    "letters= string.ascii_lowercase + \" \"\n",
    "\n",
    "slice1 = letters[0::3]\n",
    "slice2= letters[1::3]\n",
    "slice3= letters[2::3]\n",
    "print(slice1)\n",
    "print(slice2)\n",
    "print(slice3)\n",
    "with open('letters.txt' ,'w') as file:\n",
    "    for s1,s2,s3 in zip(slice1,slice2,slice3):\n",
    "        file.write(s1+s2+s3 + '\\n')"
   ]
  },
  {
   "cell_type": "code",
   "execution_count": 80,
   "metadata": {
    "scrolled": true
   },
   "outputs": [
    {
     "name": "stdout",
     "output_type": "stream",
     "text": [
      "abc\n",
      "def\n",
      "ghi\n",
      "jkl\n",
      "mno\n",
      "pqr\n",
      "stu\n",
      "vwx\n",
      "yz \n",
      "\n"
     ]
    }
   ],
   "source": [
    "with open('letters.txt' ,'r') as file:\n",
    "    r=file.read()\n",
    "print(r)    "
   ]
  },
  {
   "cell_type": "code",
   "execution_count": 81,
   "metadata": {
    "collapsed": true
   },
   "outputs": [],
   "source": [
    "import string\n",
    "letters= string.ascii_lowercase + ' '\n",
    "slice1= letters[0::4]\n",
    "slice2=letters[1::4]\n",
    "slice3=letters[2::4]\n",
    "slice4=letters[3::4]\n",
    "with open ('lettersinfour.txt' , 'w') as file :\n",
    "    for letter1,letter2,letter3,letter4 in zip(slice1,slice2,slice3,slice4):\n",
    "        file.write(letter1+letter2+letter3+letter4 + '\\n')\n",
    "        \n",
    "        "
   ]
  },
  {
   "cell_type": "markdown",
   "metadata": {},
   "source": [
    "# The program below reads through the file and prints it..."
   ]
  },
  {
   "cell_type": "code",
   "execution_count": 82,
   "metadata": {},
   "outputs": [
    {
     "name": "stdout",
     "output_type": "stream",
     "text": [
      "abcd\n",
      "efgh\n",
      "ijkl\n",
      "mnop\n",
      "qrst\n",
      "uvwx\n",
      "\n",
      "--------------------------------------------------\n",
      "abc\n",
      "def\n",
      "ghi\n",
      "jkl\n",
      "mno\n",
      "pqr\n",
      "stu\n",
      "vwx\n",
      "yz \n",
      "\n"
     ]
    }
   ],
   "source": [
    "with open('lettersinfour.txt' ,'r') as file:\n",
    "    strng=file.read()\n",
    "print(strng)    \n",
    "print('--------------------------------------------------')\n",
    "with open('letters.txt' ,'r') as file :\n",
    "    str1=file.read()\n",
    "print(str1)    "
   ]
  },
  {
   "cell_type": "code",
   "execution_count": 83,
   "metadata": {},
   "outputs": [
    {
     "name": "stdout",
     "output_type": "stream",
     "text": [
      "abc\n",
      "def\n",
      "ghi\n",
      "jkl\n",
      "mno\n",
      "pqr\n",
      "stu\n",
      "vwx\n",
      "yz \n",
      "\n"
     ]
    }
   ],
   "source": [
    "with open('letters.txt' , 'r') as file:\n",
    "    string=file.read()\n",
    "print(string)    "
   ]
  },
  {
   "cell_type": "code",
   "execution_count": 84,
   "metadata": {},
   "outputs": [
    {
     "name": "stdout",
     "output_type": "stream",
     "text": [
      "aeimquy\n",
      "bfjnrvz\n",
      "cgkosw \n",
      "{('m', 'n', 'o'), ('q', 'r', 's'), ('u', 'v', 'w'), ('e', 'f', 'g'), ('y', 'z', ' '), ('i', 'j', 'k'), ('a', 'b', 'c')}\n"
     ]
    }
   ],
   "source": [
    "print(slice1)\n",
    "print(slice2)\n",
    "print(slice3)\n",
    "z=zip(slice1,slice2,slice3)\n",
    "zset=set(z)\n",
    "# I can set it to set or list or tuple.\n",
    "print(zset)"
   ]
  },
  {
   "cell_type": "code",
   "execution_count": 85,
   "metadata": {},
   "outputs": [
    {
     "ename": "TypeError",
     "evalue": "'<=' not supported between instances of 'str' and 'int'",
     "output_type": "error",
     "traceback": [
      "\u001b[1;31m---------------------------------------------------------------------------\u001b[0m",
      "\u001b[1;31mTypeError\u001b[0m                                 Traceback (most recent call last)",
      "\u001b[1;32m<ipython-input-85-288f882f787a>\u001b[0m in \u001b[0;36m<module>\u001b[1;34m()\u001b[0m\n\u001b[0;32m      1\u001b[0m \u001b[1;31m# type five numbers in a line till 50???????\u001b[0m\u001b[1;33m\u001b[0m\u001b[1;33m\u001b[0m\u001b[0m\n\u001b[0;32m      2\u001b[0m \u001b[0mj\u001b[0m\u001b[1;33m=\u001b[0m\u001b[1;36m6\u001b[0m\u001b[1;33m\u001b[0m\u001b[0m\n\u001b[1;32m----> 3\u001b[1;33m \u001b[1;32mif\u001b[0m \u001b[1;33m(\u001b[0m\u001b[0mi\u001b[0m\u001b[1;33m<=\u001b[0m\u001b[0mj\u001b[0m\u001b[1;33m)\u001b[0m\u001b[1;33m:\u001b[0m\u001b[1;33m\u001b[0m\u001b[0m\n\u001b[0m\u001b[0;32m      4\u001b[0m     \u001b[1;32mfor\u001b[0m \u001b[0mi\u001b[0m \u001b[1;32min\u001b[0m \u001b[0mrange\u001b[0m\u001b[1;33m(\u001b[0m\u001b[1;36m0\u001b[0m\u001b[1;33m,\u001b[0m\u001b[0mj\u001b[0m\u001b[1;33m)\u001b[0m\u001b[1;33m:\u001b[0m\u001b[1;33m\u001b[0m\u001b[0m\n\u001b[0;32m      5\u001b[0m         \u001b[0mprint\u001b[0m\u001b[1;33m(\u001b[0m\u001b[0mi\u001b[0m \u001b[1;33m,\u001b[0m \u001b[0mend\u001b[0m\u001b[1;33m=\u001b[0m \u001b[1;34m' '\u001b[0m\u001b[1;33m)\u001b[0m\u001b[1;33m\u001b[0m\u001b[0m\n",
      "\u001b[1;31mTypeError\u001b[0m: '<=' not supported between instances of 'str' and 'int'"
     ]
    }
   ],
   "source": [
    "# type five numbers in a line till 50???????\n",
    "j=6\n",
    "if (i<=j):\n",
    "    for i in range(0,j):\n",
    "        print(i , end= ' ')\n",
    "        "
   ]
  },
  {
   "cell_type": "code",
   "execution_count": 86,
   "metadata": {},
   "outputs": [
    {
     "name": "stdout",
     "output_type": "stream",
     "text": [
      "<class 'list'>\n",
      "<class 'set'>\n",
      "[(1, 4), (2, 5), (3, 6)]\n",
      "5\n",
      "7\n",
      "9\n"
     ]
    }
   ],
   "source": [
    "a=[1,2,3]\n",
    "b={4,5,6}\n",
    "print(type(a))\n",
    "print(type(b))\n",
    "x=zip(a,b)\n",
    "#list makes a ordered pair  where as set makes a unordered pair.\n",
    "listzip=list(x)\n",
    "print(listzip)\n",
    "for i,j in zip(a,b):\n",
    "    print(i+j)\n",
    "    "
   ]
  },
  {
   "cell_type": "markdown",
   "metadata": {},
   "source": [
    "# One file per letter of english alphabets\n"
   ]
  },
  {
   "cell_type": "code",
   "execution_count": 87,
   "metadata": {
    "collapsed": true
   },
   "outputs": [],
   "source": [
    "import string , os\n",
    "\n",
    "if not os.path.exists('letterfolder'):\n",
    "    os.makedirs('letterfolder')\n",
    "for  s1 in string.ascii_lowercase:\n",
    "    with open('letterfolder/' + s1 + '.txt' , 'w' ) as file:\n",
    "        file.write(s1)\n",
    "    "
   ]
  },
  {
   "cell_type": "markdown",
   "metadata": {
    "collapsed": true
   },
   "source": [
    "# Since I have already created a folder by the name letterfolder. Now my target is to extract the characters in the file folder."
   ]
  },
  {
   "cell_type": "markdown",
   "metadata": {},
   "source": [
    "# Write a script that extracts the 26 letters from the file folder and puts that into a list WE :Use a function called glob , If you need a list of filenames that all have a certain extension, prefix, or any common string in the middle,use glob instead of writing code to scan the directory contents yourself."
   ]
  },
  {
   "cell_type": "code",
   "execution_count": 88,
   "metadata": {
    "scrolled": true
   },
   "outputs": [
    {
     "name": "stdout",
     "output_type": "stream",
     "text": [
      "['a', 'b', 'c', 'd', 'e', 'f', 'g', 'h', 'i', 'j', 'k', 'l', 'm', 'n', 'o', 'p', 'q', 'r', 's', 't', 'u', 'v', 'w', 'x', 'y', 'z']\n"
     ]
    }
   ],
   "source": [
    "# since in our case all the file have common ending .txt we can use glob\n",
    "\n",
    "import glob\n",
    "\n",
    "letters=[]\n",
    "\n",
    "file_list= glob.glob('letterfolder/*.txt')\n",
    "\n",
    "for filename in file_list:\n",
    "    with open(filename ,'r') as file :\n",
    "        letters.append(file.read())\n",
    "print(letters)        \n",
    "        "
   ]
  },
  {
   "cell_type": "markdown",
   "metadata": {},
   "source": [
    "# glob.glob and glob.iglob has  a basic difference that glob.iglob uses less Return an iterator which yields the same values as glob() without actually storing them all simultaneously.Basically list will have all the items in memory. Iterator need not, and hence it requires less memory.\n",
    "\n"
   ]
  },
  {
   "cell_type": "code",
   "execution_count": 89,
   "metadata": {},
   "outputs": [
    {
     "name": "stdout",
     "output_type": "stream",
     "text": [
      "['h', 'n', 'o', 'p', 't', 'y']\n"
     ]
    }
   ],
   "source": [
    "#glob.glob requires more memory space than the glob.iglob case.\n",
    "\n",
    "import glob\n",
    "\n",
    "letters=[]\n",
    "file_list=glob.iglob('letterfolder/*.txt')\n",
    "\n",
    "check='python'\n",
    "\n",
    "for filename in file_list:\n",
    "    with open(filename , 'r') as file:\n",
    "        letter=file.read()\n",
    "        if letter in check:\n",
    "            letters.append(letter)\n",
    "            \n",
    "print(letters)            \n",
    "    "
   ]
  },
  {
   "cell_type": "code",
   "execution_count": 90,
   "metadata": {},
   "outputs": [
    {
     "name": "stdout",
     "output_type": "stream",
     "text": [
      "['h', 'n', 'o', 'p', 't', 'y']\n",
      "0:00:00.011532\n"
     ]
    }
   ],
   "source": [
    "# Lets check the time required for running a glob.glob and glob.iglob\n",
    "from datetime import datetime\n",
    "starttime=datetime.now()\n",
    "import glob\n",
    "\n",
    "letters=[]\n",
    "file_list=glob.iglob('letterfolder/*.txt')\n",
    "\n",
    "check='python'\n",
    "\n",
    "for filename in file_list:\n",
    "    with open(filename , 'r') as file:\n",
    "        letter=file.read()\n",
    "        if letter in check:\n",
    "            letters.append(letter)\n",
    "            \n",
    "print(letters)\n",
    "print(datetime.now()-starttime)"
   ]
  },
  {
   "cell_type": "code",
   "execution_count": 91,
   "metadata": {},
   "outputs": [
    {
     "name": "stdout",
     "output_type": "stream",
     "text": [
      "['h', 'n', 'o', 'p', 't', 'y']\n",
      "0:00:00.009525\n"
     ]
    }
   ],
   "source": [
    "# Lets check the time required for running a glob.glob and glob.iglob\n",
    "from datetime import datetime\n",
    "starttime=datetime.now()\n",
    "import glob\n",
    "\n",
    "letters=[]\n",
    "file_list=glob.glob('letterfolder/*.txt')\n",
    "\n",
    "check='python'\n",
    "\n",
    "for filename in file_list:\n",
    "    with open(filename , 'r') as file:\n",
    "        letter=file.read()\n",
    "        if letter in check:\n",
    "            letters.append(letter)\n",
    "            \n",
    "print(letters)\n",
    "print(datetime.now()-starttime)"
   ]
  },
  {
   "cell_type": "code",
   "execution_count": 92,
   "metadata": {},
   "outputs": [
    {
     "name": "stdout",
     "output_type": "stream",
     "text": [
      "e\n"
     ]
    }
   ],
   "source": [
    "# Indentation Error\n",
    "for letter in 'Hello':\n",
    "    if letter=='e':\n",
    "        print(letter)"
   ]
  },
  {
   "cell_type": "code",
   "execution_count": 93,
   "metadata": {},
   "outputs": [
    {
     "name": "stdout",
     "output_type": "stream",
     "text": [
      "W "
     ]
    }
   ],
   "source": [
    "for letter in 'My World goes around and round':\n",
    "    if letter == 'W':\n",
    "        print(letter , end= ' ')\n",
    "    "
   ]
  },
  {
   "cell_type": "code",
   "execution_count": 94,
   "metadata": {},
   "outputs": [
    {
     "name": "stdout",
     "output_type": "stream",
     "text": [
      "Enter your age30\n",
      "The Age last year was 29 (in integer format) 29 (in string format) <class 'int'>\n"
     ]
    }
   ],
   "source": [
    "# simple input and outputs\n",
    "age=int(input('Enter your age'))\n",
    "age_last_year = age-1\n",
    "print('The Age last year was %d (in integer format) %s (in string format)' %(age_last_year,age_last_year),type(age_last_year))"
   ]
  },
  {
   "cell_type": "code",
   "execution_count": 95,
   "metadata": {},
   "outputs": [
    {
     "name": "stdout",
     "output_type": "stream",
     "text": [
      "Please write anything herehi hello\n",
      "You wrote hi hello\n"
     ]
    }
   ],
   "source": [
    "# simple inputs and outputs\n",
    "entry= input('Please write anything here')\n",
    "print('You wrote %s' %entry)"
   ]
  },
  {
   "cell_type": "code",
   "execution_count": 96,
   "metadata": {},
   "outputs": [
    {
     "name": "stdout",
     "output_type": "stream",
     "text": [
      "i\n"
     ]
    }
   ],
   "source": [
    "print((\"Hey\".replace(\"ey\",\"i\")[-1]))"
   ]
  },
  {
   "cell_type": "code",
   "execution_count": 97,
   "metadata": {},
   "outputs": [
    {
     "name": "stdout",
     "output_type": "stream",
     "text": [
      "Hi\n"
     ]
    }
   ],
   "source": [
    "print('Hey'.replace('ey','i')[:])"
   ]
  },
  {
   "cell_type": "code",
   "execution_count": 98,
   "metadata": {},
   "outputs": [
    {
     "name": "stdout",
     "output_type": "stream",
     "text": [
      "He is my friend\n"
     ]
    }
   ],
   "source": [
    "print(\"Hello\".replace(\"llo\" , \" is my friend\")[:])"
   ]
  },
  {
   "cell_type": "code",
   "execution_count": 99,
   "metadata": {},
   "outputs": [
    {
     "name": "stdout",
     "output_type": "stream",
     "text": [
      "Chey\n"
     ]
    }
   ],
   "source": [
    "print('Hey'.replace('H' , 'Ch')[:])"
   ]
  },
  {
   "cell_type": "code",
   "execution_count": 100,
   "metadata": {},
   "outputs": [
    {
     "name": "stdout",
     "output_type": "stream",
     "text": [
      "Enter the First namehappy\n",
      "Enter the Second namepotter\n",
      "The name of the first person is happy and the name of the second person is potter.\n"
     ]
    }
   ],
   "source": [
    "#String formatting\n",
    "firstname= input('Enter the First name')\n",
    "secondname= input('Enter the Second name')\n",
    "print('The name of the first person is %s and the name of the second person is %s.' %(firstname,secondname))"
   ]
  },
  {
   "cell_type": "code",
   "execution_count": 102,
   "metadata": {},
   "outputs": [
    {
     "data": {
      "text/plain": [
       "dict_values([[{'firstName': 'John', 'lastName': 'Doe'}, {'firstName': 'Anna', 'lastName': 'Smith'}, {'firstName': 'Peter', 'lastName': 'Jones'}], [{'firstName': 'Jack', 'lastName': 'Petter'}, {'firstName': 'Jessy', 'lastName': 'Petter'}]])"
      ]
     },
     "execution_count": 102,
     "metadata": {},
     "output_type": "execute_result"
    }
   ],
   "source": [
    "#Multi level Dictionary\n",
    "d = {\"employees\":[{\"firstName\": \"John\", \"lastName\": \"Doe\"},\n",
    "                {\"firstName\": \"Anna\", \"lastName\": \"Smith\"},\n",
    "                {\"firstName\": \"Peter\", \"lastName\": \"Jones\"}],\n",
    "\"owners\":[{\"firstName\": \"Jack\", \"lastName\": \"Petter\"},\n",
    "          {\"firstName\": \"Jessy\", \"lastName\": \"Petter\"}]}\n",
    "d.values()"
   ]
  },
  {
   "cell_type": "code",
   "execution_count": 103,
   "metadata": {},
   "outputs": [
    {
     "data": {
      "text/plain": [
       "[{'firstName': 'John', 'lastName': 'Doe'},\n",
       " {'firstName': 'Anna', 'lastName': 'Smith'},\n",
       " {'firstName': 'Peter', 'lastName': 'Jones'}]"
      ]
     },
     "execution_count": 103,
     "metadata": {},
     "output_type": "execute_result"
    }
   ],
   "source": [
    "d['employees']"
   ]
  },
  {
   "cell_type": "code",
   "execution_count": 104,
   "metadata": {},
   "outputs": [
    {
     "data": {
      "text/plain": [
       "{'firstName': 'Anna', 'lastName': 'Smith'}"
      ]
     },
     "execution_count": 104,
     "metadata": {},
     "output_type": "execute_result"
    }
   ],
   "source": [
    "d['employees'][1]"
   ]
  },
  {
   "cell_type": "code",
   "execution_count": 105,
   "metadata": {},
   "outputs": [
    {
     "data": {
      "text/plain": [
       "'Smith'"
      ]
     },
     "execution_count": 105,
     "metadata": {},
     "output_type": "execute_result"
    }
   ],
   "source": [
    "d['employees'][1]['lastName']"
   ]
  },
  {
   "cell_type": "code",
   "execution_count": 106,
   "metadata": {},
   "outputs": [
    {
     "data": {
      "text/plain": [
       "'Anna'"
      ]
     },
     "execution_count": 106,
     "metadata": {},
     "output_type": "execute_result"
    }
   ],
   "source": [
    "#Similarly I can also get the first name 'Anna'\n",
    "d['employees'][1]['firstName']"
   ]
  },
  {
   "cell_type": "code",
   "execution_count": 107,
   "metadata": {
    "collapsed": true
   },
   "outputs": [],
   "source": [
    "# I changed the last name of the dictictionary from Doe to Smithen\n",
    "d['employees'][0]['lastName']='Smithen'"
   ]
  },
  {
   "cell_type": "code",
   "execution_count": 108,
   "metadata": {
    "collapsed": true
   },
   "outputs": [],
   "source": [
    "d['employees'][1]['firstName']='Anir'"
   ]
  },
  {
   "cell_type": "code",
   "execution_count": 109,
   "metadata": {},
   "outputs": [
    {
     "data": {
      "text/plain": [
       "[{'firstName': 'John', 'lastName': 'Smithen'},\n",
       " {'firstName': 'Anir', 'lastName': 'Smith'},\n",
       " {'firstName': 'Peter', 'lastName': 'Jones'}]"
      ]
     },
     "execution_count": 109,
     "metadata": {},
     "output_type": "execute_result"
    }
   ],
   "source": [
    "d['employees']"
   ]
  },
  {
   "cell_type": "code",
   "execution_count": 110,
   "metadata": {},
   "outputs": [
    {
     "data": {
      "text/plain": [
       "'Anir'"
      ]
     },
     "execution_count": 110,
     "metadata": {},
     "output_type": "execute_result"
    }
   ],
   "source": [
    "d['employees'][1]['firstName']"
   ]
  },
  {
   "cell_type": "code",
   "execution_count": 111,
   "metadata": {},
   "outputs": [
    {
     "data": {
      "text/plain": [
       "dict_values([[{'firstName': 'John', 'lastName': 'Smithen'}, {'firstName': 'Anir', 'lastName': 'Smith'}, {'firstName': 'Peter', 'lastName': 'Jones'}], [{'firstName': 'Jack', 'lastName': 'Petter'}, {'firstName': 'Jessy', 'lastName': 'Petter'}]])"
      ]
     },
     "execution_count": 111,
     "metadata": {},
     "output_type": "execute_result"
    }
   ],
   "source": [
    "d.values()\n"
   ]
  },
  {
   "cell_type": "code",
   "execution_count": 112,
   "metadata": {
    "collapsed": true
   },
   "outputs": [],
   "source": [
    "# Appending to a multilevel Dictionary"
   ]
  },
  {
   "cell_type": "code",
   "execution_count": 113,
   "metadata": {
    "collapsed": true
   },
   "outputs": [],
   "source": [
    "d['employees'].append(dict(firstName='AM',lastName='PM'))\n",
    "d['owners'].append(dict(firstName='Alt',lastName='APM'))"
   ]
  },
  {
   "cell_type": "code",
   "execution_count": 114,
   "metadata": {},
   "outputs": [
    {
     "data": {
      "text/plain": [
       "{'employees': [{'firstName': 'John', 'lastName': 'Smithen'},\n",
       "  {'firstName': 'Anir', 'lastName': 'Smith'},\n",
       "  {'firstName': 'Peter', 'lastName': 'Jones'},\n",
       "  {'firstName': 'AM', 'lastName': 'PM'}],\n",
       " 'owners': [{'firstName': 'Jack', 'lastName': 'Petter'},\n",
       "  {'firstName': 'Jessy', 'lastName': 'Petter'},\n",
       "  {'firstName': 'Alt', 'lastName': 'APM'}]}"
      ]
     },
     "execution_count": 114,
     "metadata": {},
     "output_type": "execute_result"
    }
   ],
   "source": [
    "d"
   ]
  },
  {
   "cell_type": "code",
   "execution_count": 115,
   "metadata": {},
   "outputs": [
    {
     "data": {
      "text/plain": [
       "'PM'"
      ]
     },
     "execution_count": 115,
     "metadata": {},
     "output_type": "execute_result"
    }
   ],
   "source": [
    "d['employees'][3]['lastName']"
   ]
  },
  {
   "cell_type": "code",
   "execution_count": 116,
   "metadata": {
    "collapsed": true
   },
   "outputs": [],
   "source": [
    "# reversing a List\n",
    "list3=['Isaac Asimov','Ray Bruadbury' , 'hur c s Clark', 'Tomato chillI']\n",
    "list3=list3[::-1]"
   ]
  },
  {
   "cell_type": "code",
   "execution_count": 117,
   "metadata": {},
   "outputs": [
    {
     "data": {
      "text/plain": [
       "['Tomato chillI', 'hur c s Clark', 'Ray Bruadbury', 'Isaac Asimov']"
      ]
     },
     "execution_count": 117,
     "metadata": {},
     "output_type": "execute_result"
    }
   ],
   "source": [
    "list3"
   ]
  },
  {
   "cell_type": "code",
   "execution_count": 118,
   "metadata": {},
   "outputs": [
    {
     "data": {
      "text/plain": [
       "{'firstName': 'Jack', 'lastName': 'Petter'}"
      ]
     },
     "execution_count": 118,
     "metadata": {},
     "output_type": "execute_result"
    }
   ],
   "source": [
    "d['owners'][0]"
   ]
  },
  {
   "cell_type": "code",
   "execution_count": 119,
   "metadata": {},
   "outputs": [
    {
     "data": {
      "text/plain": [
       "'Petter'"
      ]
     },
     "execution_count": 119,
     "metadata": {},
     "output_type": "execute_result"
    }
   ],
   "source": [
    "d['owners'][1]['lastName']"
   ]
  },
  {
   "cell_type": "markdown",
   "metadata": {},
   "source": [
    "# Convert a file to json"
   ]
  },
  {
   "cell_type": "code",
   "execution_count": 120,
   "metadata": {
    "collapsed": true
   },
   "outputs": [],
   "source": [
    "    import json\n",
    "    d = {\"employees\":[{\"firstName\": \"John\", \"lastName\": \"Doe\"},\n",
    "                    {\"firstName\": \"Anna\", \"lastName\": \"Smith\"},\n",
    "                    {\"firstName\": \"Peter\", \"lastName\": \"Jones\"}],\n",
    "    \"owners\":[{\"firstName\": \"Jack\", \"lastName\": \"Petter\"},\n",
    "              {\"firstName\": \"Jessy\", \"lastName\": \"Petter\"}]}\n",
    "    with open ('companya.json' ,'w') as file:\n",
    "        json.dump(d , file , indent=4 , sort_keys=True)"
   ]
  },
  {
   "cell_type": "markdown",
   "metadata": {},
   "source": [
    "# printing a json file."
   ]
  },
  {
   "cell_type": "code",
   "execution_count": 121,
   "metadata": {},
   "outputs": [
    {
     "data": {
      "text/plain": [
       "'C:\\\\Users\\\\Anirban\\\\OneDrive\\\\IPYTHON'"
      ]
     },
     "execution_count": 121,
     "metadata": {},
     "output_type": "execute_result"
    }
   ],
   "source": [
    "pwd"
   ]
  },
  {
   "cell_type": "code",
   "execution_count": 122,
   "metadata": {},
   "outputs": [
    {
     "name": "stdout",
     "output_type": "stream",
     "text": [
      "{'employees': [{'firstName': 'John', 'lastName': 'Doe'},\n",
      "               {'firstName': 'Anna', 'lastName': 'Smith'},\n",
      "               {'firstName': 'Peter', 'lastName': 'Jones'}],\n",
      " 'owners': [{'firstName': 'Jack', 'lastName': 'Petter'},\n",
      "            {'firstName': 'Jessy', 'lastName': 'Petter'}]}\n"
     ]
    }
   ],
   "source": [
    "import json\n",
    "from pprint import pprint\n",
    "\n",
    "with open ('companya.json' , 'r+') as file:\n",
    "    dis=json.loads(file.read())\n",
    "    \n",
    "pprint(dis)    "
   ]
  },
  {
   "cell_type": "code",
   "execution_count": 123,
   "metadata": {
    "scrolled": true
   },
   "outputs": [
    {
     "name": "stdout",
     "output_type": "stream",
     "text": [
      "{'employees': [{'firstName': 'John', 'lastName': 'Doe'},\n",
      "               {'firstName': 'Anna', 'lastName': 'Smith'},\n",
      "               {'firstName': 'Peter', 'lastName': 'Jones'},\n",
      "               {'firstName': 'Am1', 'lastName': 'Pm2'},\n",
      "               {'firstName': 'Albert', 'lastName': 'Bert'},\n",
      "               {'firstName': 'Albert', 'lastName': 'Bert'},\n",
      "               {'firstName': 'Am1', 'lastName': 'Pm2'},\n",
      "               {'firstName': 'Am1', 'lastName': 'Pm2'}],\n",
      " 'owners': [{'firstName': 'Jack', 'lastName': 'Petter'},\n",
      "            {'firstName': 'Jessy', 'lastName': 'Petter'},\n",
      "            {'firstName': 'Hamilton', 'lastName': 'Gunj'},\n",
      "            {'firstName': 'Hamilton', 'lastName': 'Gunj'}]}\n"
     ]
    }
   ],
   "source": [
    "import json\n",
    "from pprint import pprint\n",
    "\n",
    "with open(\"company1.json\",\"r\") as file:\n",
    "    d = json.loads(file.read())\n",
    "pprint(d)"
   ]
  },
  {
   "cell_type": "code",
   "execution_count": 124,
   "metadata": {},
   "outputs": [
    {
     "data": {
      "text/plain": [
       "'C:\\\\Users\\\\Anirban\\\\OneDrive\\\\IPYTHON'"
      ]
     },
     "execution_count": 124,
     "metadata": {},
     "output_type": "execute_result"
    }
   ],
   "source": [
    "pwd"
   ]
  },
  {
   "cell_type": "markdown",
   "metadata": {
    "collapsed": true
   },
   "source": [
    "# Changing a json file that is amending a json file."
   ]
  },
  {
   "cell_type": "code",
   "execution_count": 125,
   "metadata": {},
   "outputs": [
    {
     "name": "stdout",
     "output_type": "stream",
     "text": [
      "{'employees': [{'firstName': 'John', 'lastName': 'Doe'},\n",
      "               {'firstName': 'Anna', 'lastName': 'Smith'},\n",
      "               {'firstName': 'Peter', 'lastName': 'Jones'},\n",
      "               {'firstName': 'Am1', 'lastName': 'Pm2'},\n",
      "               {'firstName': 'Albert', 'lastName': 'Bert'},\n",
      "               {'firstName': 'Albert', 'lastName': 'Bert'},\n",
      "               {'firstName': 'Am1', 'lastName': 'Pm2'},\n",
      "               {'firstName': 'Am1', 'lastName': 'Pm2'},\n",
      "               {'firstName': 'Am1', 'lastName': 'Pm2'}],\n",
      " 'owners': [{'firstName': 'Jack', 'lastName': 'Petter'},\n",
      "            {'firstName': 'Jessy', 'lastName': 'Petter'},\n",
      "            {'firstName': 'Hamilton', 'lastName': 'Gunj'},\n",
      "            {'firstName': 'Hamilton', 'lastName': 'Gunj'}]}\n"
     ]
    }
   ],
   "source": [
    "import json\n",
    "from pprint import pprint\n",
    "with open('company1.json', 'r+') as file:\n",
    "            e = json.loads(file.read())\n",
    "            e['employees'].append(dict(firstName='Am1',lastName='Pm2'))\n",
    "            file.seek(0)\n",
    "            json.dump(e,file,indent=4,sort_keys=True)\n",
    "        \n",
    "            file.truncate()\n",
    "pprint(e)          "
   ]
  },
  {
   "cell_type": "code",
   "execution_count": 126,
   "metadata": {},
   "outputs": [
    {
     "data": {
      "text/plain": [
       "'C:\\\\Users\\\\Anirban\\\\OneDrive\\\\IPYTHON'"
      ]
     },
     "execution_count": 126,
     "metadata": {},
     "output_type": "execute_result"
    }
   ],
   "source": [
    "pwd"
   ]
  },
  {
   "cell_type": "code",
   "execution_count": 127,
   "metadata": {},
   "outputs": [
    {
     "name": "stdout",
     "output_type": "stream",
     "text": [
      "{'employees': [{'firstName': 'John', 'lastName': 'Doe'},\n",
      "               {'firstName': 'Anna', 'lastName': 'Smith'},\n",
      "               {'firstName': 'Peter', 'lastName': 'Jones'},\n",
      "               {'firstName': 'Am1', 'lastName': 'Pm2'},\n",
      "               {'firstName': 'Albert', 'lastName': 'Bert'},\n",
      "               {'firstName': 'Albert', 'lastName': 'Bert'},\n",
      "               {'firstName': 'Am1', 'lastName': 'Pm2'},\n",
      "               {'firstName': 'Am1', 'lastName': 'Pm2'},\n",
      "               {'firstName': 'Am1', 'lastName': 'Pm2'},\n",
      "               {'firstName': 'Albert', 'lastName': 'Bert'}],\n",
      " 'owners': [{'firstName': 'Jack', 'lastName': 'Petter'},\n",
      "            {'firstName': 'Jessy', 'lastName': 'Petter'},\n",
      "            {'firstName': 'Hamilton', 'lastName': 'Gunj'},\n",
      "            {'firstName': 'Hamilton', 'lastName': 'Gunj'}]}\n"
     ]
    }
   ],
   "source": [
    "import json\n",
    "from pprint import pprint\n",
    "\n",
    "with open('company1.json','r+') as file:\n",
    "    d=json.loads(file.read())\n",
    "    d['employees'].append(dict(firstName= \"Albert\" , lastName='Bert'))\n",
    "    file.seek(0)\n",
    "    json.dump(d,file, indent=4 , sort_keys=True)\n",
    "    file.truncate()\n",
    "pprint(d)    \n",
    "    "
   ]
  },
  {
   "cell_type": "markdown",
   "metadata": {},
   "source": [
    "#Redo the above Example"
   ]
  },
  {
   "cell_type": "code",
   "execution_count": 128,
   "metadata": {},
   "outputs": [
    {
     "name": "stdout",
     "output_type": "stream",
     "text": [
      "{'employees': [{'firstName': 'John', 'lastName': 'Doe'},\n",
      "               {'firstName': 'Anna', 'lastName': 'Smith'},\n",
      "               {'firstName': 'Peter', 'lastName': 'Jones'},\n",
      "               {'firstName': 'Am1', 'lastName': 'Pm2'},\n",
      "               {'firstName': 'Albert', 'lastName': 'Bert'},\n",
      "               {'firstName': 'Albert', 'lastName': 'Bert'},\n",
      "               {'firstName': 'Am1', 'lastName': 'Pm2'},\n",
      "               {'firstName': 'Am1', 'lastName': 'Pm2'},\n",
      "               {'firstName': 'Am1', 'lastName': 'Pm2'},\n",
      "               {'firstName': 'Albert', 'lastName': 'Bert'}],\n",
      " 'owners': [{'firstName': 'Jack', 'lastName': 'Petter'},\n",
      "            {'firstName': 'Jessy', 'lastName': 'Petter'},\n",
      "            {'firstName': 'Hamilton', 'lastName': 'Gunj'},\n",
      "            {'firstName': 'Hamilton', 'lastName': 'Gunj'},\n",
      "            {'firstName': 'Hamilton', 'lastName': 'Gunj'}]}\n"
     ]
    }
   ],
   "source": [
    "import json\n",
    "from pprint import pprint\n",
    "\n",
    "with open('company1.json' , 'r+') as file:\n",
    "    d=json.loads(file.read())\n",
    "    d['owners'].append(dict(firstName='Hamilton',lastName='Gunj'))\n",
    "    file.seek(0)\n",
    "    json.dump(d,file , indent=4 , sort_keys=True)\n",
    "    file.truncate()\n",
    "pprint(d)    \n",
    "    "
   ]
  },
  {
   "cell_type": "markdown",
   "metadata": {
    "tags": [
     "enumerator"
    ]
   },
   "source": [
    "# How to use a enumerator : creates an enumerate object which yields pairs of indexes and items. Then we iterate through that object print out the item-index pairs in each iteration together with some other strings."
   ]
  },
  {
   "cell_type": "code",
   "execution_count": 129,
   "metadata": {
    "scrolled": true,
    "tags": [
     "enumerator"
    ]
   },
   "outputs": [
    {
     "name": "stdout",
     "output_type": "stream",
     "text": [
      "The item has 0 as index and the number is 1\n",
      "The item has 1 as index and the number is 2\n",
      "The item has 2 as index and the number is 3\n"
     ]
    }
   ],
   "source": [
    "a=[1,2,3]\n",
    "for i ,j in enumerate(a):\n",
    "    print('The item has %s as index and the number is %s' %(i,j))"
   ]
  },
  {
   "cell_type": "code",
   "execution_count": 130,
   "metadata": {},
   "outputs": [
    {
     "name": "stdout",
     "output_type": "stream",
     "text": [
      "The item has 0 as index and the number is A\n",
      "The item has 1 as index and the number is B\n",
      "The item has 2 as index and the number is C\n",
      "The item has 3 as index and the number is D\n"
     ]
    }
   ],
   "source": [
    "a=['A','B','C','D']\n",
    "for i , j in enumerate(a):\n",
    "    print('The item has %s as index and the number is %s' %(i,j))"
   ]
  },
  {
   "cell_type": "code",
   "execution_count": 131,
   "metadata": {},
   "outputs": [
    {
     "name": "stdout",
     "output_type": "stream",
     "text": [
      "The Item has 0 as index and a as the number for the correspoding index\n",
      "The Item has 1 as index and b as the number for the correspoding index\n",
      "The Item has 2 as index and c as the number for the correspoding index\n"
     ]
    }
   ],
   "source": [
    "dic= dict(a= 'man' ,b= 'woman' , c= 'child')\n",
    "for i ,j  in enumerate(dic):\n",
    "    print('The Item has %s as index and %s as the number for the correspoding index' %(i,j))"
   ]
  },
  {
   "cell_type": "code",
   "execution_count": 132,
   "metadata": {},
   "outputs": [
    {
     "name": "stdout",
     "output_type": "stream",
     "text": [
      "Hello\n",
      "Hello\n",
      "Hello\n",
      "Hello\n",
      "Hello\n",
      "End of Loop\n"
     ]
    }
   ],
   "source": [
    "# A  Python script to print hello every five second.\n",
    "import time\n",
    "\n",
    "i=0\n",
    "while (i<5):\n",
    "    print('Hello')\n",
    "    i=i+1     \n",
    "    time.sleep(i)\n",
    "print('End of Loop')    \n",
    "    "
   ]
  },
  {
   "cell_type": "code",
   "execution_count": 133,
   "metadata": {},
   "outputs": [
    {
     "name": "stdout",
     "output_type": "stream",
     "text": [
      "Hello\n",
      "Hello\n",
      "Hello\n",
      "Hello\n",
      "Hello\n",
      "Hello\n",
      "End of Loop\n"
     ]
    }
   ],
   "source": [
    "# A variation of the above program\n",
    "\n",
    "import time\n",
    "\n",
    "i=0\n",
    "while True:\n",
    "    print('Hello')\n",
    "    i+=1\n",
    "    if (i>5):\n",
    "        print('End of Loop')\n",
    "        break\n",
    "    time.sleep(i)    "
   ]
  },
  {
   "cell_type": "code",
   "execution_count": 134,
   "metadata": {},
   "outputs": [
    {
     "name": "stdout",
     "output_type": "stream",
     "text": [
      "Hello\n",
      "Bye\n"
     ]
    }
   ],
   "source": [
    "# The following program checks if 2 is greater than 1 and then breaks the loop as 2 is greater than 1\n",
    "\n",
    "while True :\n",
    "    print('Hello')\n",
    "    if 2>1:\n",
    "        print ('Bye')\n",
    "        break\n",
    "    print('You have broken out of the loop')     "
   ]
  },
  {
   "cell_type": "code",
   "execution_count": 135,
   "metadata": {},
   "outputs": [
    {
     "name": "stdout",
     "output_type": "stream",
     "text": [
      "Hello\n",
      "Bye\n",
      "You have broken out of the loop\n"
     ]
    }
   ],
   "source": [
    "# The following program checks if 2 is greater than 1 and then breaks the loop as 2 is greater than 1\n",
    "\n",
    "while True :\n",
    "    print('Hello')\n",
    "    if 2>1:\n",
    "        print ('Bye')\n",
    "        break\n",
    "print('You have broken out of the loop')"
   ]
  },
  {
   "cell_type": "code",
   "execution_count": null,
   "metadata": {
    "collapsed": true
   },
   "outputs": [],
   "source": [
    "while True :\n",
    "    print(\"Hi\")\n",
    "    pass\n",
    "print('Bye')"
   ]
  },
  {
   "cell_type": "code",
   "execution_count": 138,
   "metadata": {
    "scrolled": true
   },
   "outputs": [
    {
     "name": "stdout",
     "output_type": "stream",
     "text": [
      "Enter a Word  earth\n"
     ]
    },
    {
     "data": {
      "text/plain": [
       "'terra'"
      ]
     },
     "execution_count": 138,
     "metadata": {},
     "output_type": "execute_result"
    }
   ],
   "source": [
    "# Create a dictionary to convert English to portugese\n",
    "d= {'weather': 'climate','earth' :'terra' , 'rain': 'chuva'}\n",
    "def vocab(word):\n",
    "    return (d[word])\n",
    "word=input('Enter a Word  ')\n",
    "vocab(word)\n"
   ]
  },
  {
   "cell_type": "code",
   "execution_count": 139,
   "metadata": {},
   "outputs": [
    {
     "name": "stdout",
     "output_type": "stream",
     "text": [
      "Enter a Word   Rain\n"
     ]
    },
    {
     "data": {
      "text/plain": [
       "'chuva'"
      ]
     },
     "execution_count": 139,
     "metadata": {},
     "output_type": "execute_result"
    }
   ],
   "source": [
    "#slightly different way of doing the same dictionary\n",
    "d= dict(weather='climate',earth='terra',rain='chuva')\n",
    "\n",
    "def vocab(x):\n",
    "    return (d[x])\n",
    "word=input('Enter a Word   ' ).lower()\n",
    "vocab(word)"
   ]
  },
  {
   "cell_type": "markdown",
   "metadata": {},
   "source": [
    "# try  and except to check whether the condition is met or not."
   ]
  },
  {
   "cell_type": "code",
   "execution_count": 140,
   "metadata": {},
   "outputs": [
    {
     "name": "stdout",
     "output_type": "stream",
     "text": [
      "Enter a Word   happy\n"
     ]
    },
    {
     "data": {
      "text/plain": [
       "'Sorry word could not be found'"
      ]
     },
     "execution_count": 140,
     "metadata": {},
     "output_type": "execute_result"
    }
   ],
   "source": [
    "# The same above dictionary but returns , we could not find the word\n",
    "d= dict(weather='climate',earth='terra',rain='chuva')\n",
    "\n",
    "def vocab(x):\n",
    "    try:\n",
    "        return (d[x])\n",
    "    except KeyError:\n",
    "        return('Sorry word could not be found')\n",
    "word=input('Enter a Word   ' )\n",
    "vocab(word)"
   ]
  }
 ],
 "metadata": {
  "kernelspec": {
   "display_name": "Python 3",
   "language": "python",
   "name": "python3"
  },
  "language_info": {
   "codemirror_mode": {
    "name": "ipython",
    "version": 3
   },
   "file_extension": ".py",
   "mimetype": "text/x-python",
   "name": "python",
   "nbconvert_exporter": "python",
   "pygments_lexer": "ipython3",
   "version": "3.6.3"
  }
 },
 "nbformat": 4,
 "nbformat_minor": 2
}
