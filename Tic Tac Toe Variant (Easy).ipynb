{
 "cells": [
  {
   "cell_type": "code",
   "execution_count": null,
   "metadata": {},
   "outputs": [
    {
     "name": "stdout",
     "output_type": "stream",
     "text": [
      "-------------------------------- \n",
      "WELCOME TO TIC TAC TOE THE GAME!\n",
      "--------------------------------\n",
      "1st player is X\n",
      "2nd player is O\n",
      "7    |    8    |    9 \n",
      "---------------------- \n",
      "4    |    5    |    6 \n",
      "---------------------- \n",
      "1    |    2    |    3\n",
      "Player 1 turn:x\n",
      "invalid move, please try again player  1\n",
      "Player 1 turn:1\n",
      "7    |    8    |    9 \n",
      "---------------------- \n",
      "4    |    5    |    6 \n",
      "---------------------- \n",
      "X    |    2    |    3\n",
      "Player 2 turn:8\n",
      "7    |    O    |    9 \n",
      "---------------------- \n",
      "4    |    5    |    6 \n",
      "---------------------- \n",
      "X    |    2    |    3\n"
     ]
    }
   ],
   "source": [
    "n = 0\n",
    "while n == 0: \n",
    "\tprint('-------------------------------- \\nWELCOME TO TIC TAC TOE THE GAME!\\n--------------------------------')\n",
    "\tprint('1st player is X')\n",
    "\tprint('2nd player is O')\n",
    "\t\n",
    "\n",
    "\ta = \"7    |    8    |    9 \\n---------------------- \\n4    |    5    |    6 \\n---------------------- \\n1    |    2    |    3\"\n",
    "\tprint(a)\n",
    "\t\n",
    "\twin = 0\n",
    "\ttie = 0\n",
    "\tag1 = 'Player 1 turn:'\n",
    "\tag2 = 'Player 2 turn:'\n",
    "\n",
    "\tdef each_turn(p,ag,variable):\n",
    "\t\tb = 0\n",
    "\t\twhile b == 0:\n",
    "\t\t\tglobal a\n",
    "\t\t\tx = input(ag)\n",
    "\t\t\tif x in a and x != '': \t\n",
    "\t\t\t\tb += 1\n",
    "\t\t\tif x not in a:\n",
    "\t\t\t\tprint('invalid move, please try again player ',p)\n",
    "\t\ta = a.replace(str(x),variable)\n",
    "\t\tprint(a)\n",
    "\t\tcheckwin(variable)\n",
    "\t\tchecktie()\n",
    "\tdef checktie():\n",
    "\t\tif '7' not in a and '8' not in a and '9' not in a and '4' not in a and '5' not in a and '6' not in a and '1' not in a and '2' not in a and '3' not in a: \n",
    "\t\t\tprint('Out of move. The game is tie!')\n",
    "\t\t\tglobal tie\n",
    "\t\t\ttie += 1\n",
    "\t\t \n",
    "\tdef checkwin(m):\n",
    "\t\tif a[0] == a[10] == a[20] == m or a[47] == a[57] == a[67] == m or a[94] == a[104] == a[114] == m or a[0] == a[47] == a[94] == m or a[10] == a[57] == a[104] == m or a[20] == a[67] == a[114] == m or a[0] == a[57] == a[114] == m or a[20] == a[57] == a[94] == m:\n",
    "\t\t\tprint(m, 'have won the game!')\n",
    "\t\t\tglobal win\n",
    "\t\t\twin += 1  \n",
    "\tdef lets_play():\n",
    "\t\twhile win != 1 and tie != 1:\n",
    "\t\t\teach_turn(1,ag1,'X')\n",
    "\t\t\tif win !=1 and tie != 1:\n",
    "\t\t\t\teach_turn(2,ag2,'O')\n",
    "\n",
    "\tlets_play()\t\n",
    "\n",
    "\tif win == 1 or tie == 1 :\n",
    "\t\twin = 0\n",
    "\t\ttie = 0\n",
    "\t\tnew = input(\"The game is over. \\n Press any key if you want to play again \\n Press q if you want to quit \\n \\n \\n \\n \\n \\n \\n \\n \\n \\n \\n \\n \\n \\n \\n \\n \\n \\n \\n \\n \\n \\n \\n \\n \\n \\n\")\n",
    "\t\tif new == 'q':\n",
    "\t\t\tn += 1 "
   ]
  },
  {
   "cell_type": "code",
   "execution_count": null,
   "metadata": {
    "collapsed": true
   },
   "outputs": [],
   "source": []
  }
 ],
 "metadata": {
  "kernelspec": {
   "display_name": "Python 3",
   "language": "python",
   "name": "python3"
  },
  "language_info": {
   "codemirror_mode": {
    "name": "ipython",
    "version": 3
   },
   "file_extension": ".py",
   "mimetype": "text/x-python",
   "name": "python",
   "nbconvert_exporter": "python",
   "pygments_lexer": "ipython3",
   "version": "3.6.1"
  }
 },
 "nbformat": 4,
 "nbformat_minor": 2
}
